{
 "cells": [
  {
   "cell_type": "markdown",
   "id": "6967c531-e568-4bb8-8fe9-b66e7c5d6a62",
   "metadata": {},
   "source": [
    "# Задача 2\n",
    "\n",
    "Чем активнее наши пользователи – тем выше нагрузка на сервера. И в последнее время нам всё чаще приходят жалобы, что приложение подвисает. Звучит как задача для девопсов и инженеров!\n",
    "\n",
    "От вас тоже попросили внести свой вклад в задачу – спрогнозировать, как изменится активность пользователей в течение ближайшего месяца. Давайте попробуем это сделать!\n",
    "\n",
    "1) Выберите основную метрику, которую вы планируете прогнозировать. Обоснуйте, почему именно она. Какое временное разрешение вы возьмёте? Будут ли какие-то дополнительные регрессоры, которые вы включите в модель?\n",
    "2) Постройте модель и провалидируйте её. Хватает ли у нас данных для бэктестинга с текущей задачей? Если нет, то определите, для какого горизонта прогнозирования у нас хватает данных.\n",
    "3) Выберите ту модель, которая кажется вам наиболее удачной (обоснуйте выбор). Проинтерпретируйте её результаты. Если есть какие-то важные ограничения по выводу – не забудьте их тоже указать.\n",
    "\n",
    "* Бонус: опишите, насколько удобным для использования вам показался Orbit. Если есть опыт использования других прогнозных инструментов (Prophet, Darts и т.д.) – сравните Orbit с ними по тем признакам, которые вам кажутся наиболее важными.\n",
    "\n",
    "Формат сдачи задания – merge request в GitLab с ноутбуком, где выполнены вычисления (формат .ipynb)."
   ]
  },
  {
   "cell_type": "markdown",
   "id": "b4fa1943-1a76-48e2-9ee0-f8d7b18fbcdd",
   "metadata": {},
   "source": [
    "## Подгружаем библиотеки"
   ]
  },
  {
   "cell_type": "code",
   "execution_count": 1,
   "id": "d4a7b7f3-f8cd-4add-992c-67031563dd29",
   "metadata": {},
   "outputs": [
    {
     "name": "stderr",
     "output_type": "stream",
     "text": [
      "2024-08-08 15:40:00.683507: I tensorflow/core/platform/cpu_feature_guard.cc:182] This TensorFlow binary is optimized to use available CPU instructions in performance-critical operations.\n",
      "To enable the following instructions: AVX2 AVX512F FMA, in other operations, rebuild TensorFlow with the appropriate compiler flags.\n",
      "2024-08-08 15:40:01.879861: W tensorflow/compiler/tf2tensorrt/utils/py_utils.cc:38] TF-TRT Warning: Could not find TensorRT\n"
     ]
    }
   ],
   "source": [
    "import pandas as pd\n",
    "import pandahouse\n",
    "import numpy as np\n",
    "import os\n",
    "import seaborn as sns\n",
    "import matplotlib.pyplot as plt\n",
    "\n",
    "import orbit #общий пакет\n",
    "from orbit.models import DLT #один из вариантов модели\n",
    "from orbit.diagnostics.plot import plot_predicted_data, plot_predicted_components #для рисования предсказаний\n",
    "import arviz as az\n",
    "\n",
    "from orbit.eda import eda_plot\n",
    "from orbit.diagnostics.backtest import BackTester #основной класс для бэктестинга \n",
    "from orbit.utils.params_tuning import grid_search_orbit #для подбора оптимальных параметров\n",
    "from orbit.diagnostics.metrics import rmsse\n",
    "\n",
    "from causalimpact import CausalImpact"
   ]
  },
  {
   "cell_type": "code",
   "execution_count": 2,
   "id": "38acef13-929f-4728-a43d-0073bd29cbab",
   "metadata": {},
   "outputs": [],
   "source": [
    "connection = {'host': 'https://clickhouse.lab.karpov.courses',\n",
    "'database':'simulator_20240720',\n",
    "'user':'student',\n",
    "'password':'dpo_python_2020'\n",
    "}"
   ]
  },
  {
   "cell_type": "code",
   "execution_count": 3,
   "id": "1ac2918d-da76-4c25-9e6d-19c070085d99",
   "metadata": {},
   "outputs": [],
   "source": [
    "q = '''\n",
    "with tab1 as (\n",
    "    SELECT \n",
    "        date,\n",
    "        count(user_id) new_users\n",
    "    FROM\n",
    "        (SELECT\n",
    "            user_id,\n",
    "            min(toDate(time)) date\n",
    "        FROM simulator_20240720.feed_actions\n",
    "        GROUP BY user_id)\n",
    "    GROUP BY date),\n",
    "tab2 as (\n",
    "    SELECT\n",
    "        toDate(time) date,\n",
    "        uniq(user_id) users,\n",
    "        countIf(action=='view') views,\n",
    "        countIf(action=='like') likes,\n",
    "        likes/views ctr\n",
    "    FROM simulator_20240720.feed_actions fa\n",
    "    GROUP BY date)\n",
    "SELECT\n",
    "    date,\n",
    "    users,\n",
    "    views,\n",
    "    likes,\n",
    "    ctr,\n",
    "    new_users\n",
    "FROM tab2\n",
    "LEFT JOIN tab1\n",
    "USING date\n",
    "WHERE date < toDate(now())\n",
    "'''"
   ]
  },
  {
   "cell_type": "code",
   "execution_count": 49,
   "id": "30169026-efb9-428c-9f73-f8e9b3da5b99",
   "metadata": {},
   "outputs": [
    {
     "data": {
      "text/html": [
       "<div>\n",
       "<style scoped>\n",
       "    .dataframe tbody tr th:only-of-type {\n",
       "        vertical-align: middle;\n",
       "    }\n",
       "\n",
       "    .dataframe tbody tr th {\n",
       "        vertical-align: top;\n",
       "    }\n",
       "\n",
       "    .dataframe thead th {\n",
       "        text-align: right;\n",
       "    }\n",
       "</style>\n",
       "<table border=\"1\" class=\"dataframe\">\n",
       "  <thead>\n",
       "    <tr style=\"text-align: right;\">\n",
       "      <th></th>\n",
       "      <th>date</th>\n",
       "      <th>users</th>\n",
       "      <th>views</th>\n",
       "      <th>likes</th>\n",
       "      <th>ctr</th>\n",
       "      <th>new_users</th>\n",
       "    </tr>\n",
       "  </thead>\n",
       "  <tbody>\n",
       "    <tr>\n",
       "      <th>0</th>\n",
       "      <td>2024-06-01</td>\n",
       "      <td>878</td>\n",
       "      <td>7603</td>\n",
       "      <td>1560</td>\n",
       "      <td>0.205182</td>\n",
       "      <td>878</td>\n",
       "    </tr>\n",
       "    <tr>\n",
       "      <th>1</th>\n",
       "      <td>2024-06-02</td>\n",
       "      <td>2238</td>\n",
       "      <td>62770</td>\n",
       "      <td>12816</td>\n",
       "      <td>0.204174</td>\n",
       "      <td>1819</td>\n",
       "    </tr>\n",
       "    <tr>\n",
       "      <th>2</th>\n",
       "      <td>2024-06-03</td>\n",
       "      <td>3105</td>\n",
       "      <td>105526</td>\n",
       "      <td>20958</td>\n",
       "      <td>0.198605</td>\n",
       "      <td>1849</td>\n",
       "    </tr>\n",
       "    <tr>\n",
       "      <th>3</th>\n",
       "      <td>2024-06-04</td>\n",
       "      <td>3721</td>\n",
       "      <td>118996</td>\n",
       "      <td>23800</td>\n",
       "      <td>0.200007</td>\n",
       "      <td>1652</td>\n",
       "    </tr>\n",
       "    <tr>\n",
       "      <th>4</th>\n",
       "      <td>2024-06-05</td>\n",
       "      <td>4617</td>\n",
       "      <td>174454</td>\n",
       "      <td>34504</td>\n",
       "      <td>0.197783</td>\n",
       "      <td>1809</td>\n",
       "    </tr>\n",
       "    <tr>\n",
       "      <th>...</th>\n",
       "      <td>...</td>\n",
       "      <td>...</td>\n",
       "      <td>...</td>\n",
       "      <td>...</td>\n",
       "      <td>...</td>\n",
       "      <td>...</td>\n",
       "    </tr>\n",
       "    <tr>\n",
       "      <th>63</th>\n",
       "      <td>2024-08-03</td>\n",
       "      <td>19554</td>\n",
       "      <td>833754</td>\n",
       "      <td>182190</td>\n",
       "      <td>0.218518</td>\n",
       "      <td>1304</td>\n",
       "    </tr>\n",
       "    <tr>\n",
       "      <th>64</th>\n",
       "      <td>2024-08-04</td>\n",
       "      <td>19572</td>\n",
       "      <td>744881</td>\n",
       "      <td>164565</td>\n",
       "      <td>0.220928</td>\n",
       "      <td>1338</td>\n",
       "    </tr>\n",
       "    <tr>\n",
       "      <th>65</th>\n",
       "      <td>2024-08-05</td>\n",
       "      <td>19768</td>\n",
       "      <td>710587</td>\n",
       "      <td>154251</td>\n",
       "      <td>0.217075</td>\n",
       "      <td>1580</td>\n",
       "    </tr>\n",
       "    <tr>\n",
       "      <th>66</th>\n",
       "      <td>2024-08-06</td>\n",
       "      <td>19363</td>\n",
       "      <td>719064</td>\n",
       "      <td>147718</td>\n",
       "      <td>0.205431</td>\n",
       "      <td>1084</td>\n",
       "    </tr>\n",
       "    <tr>\n",
       "      <th>67</th>\n",
       "      <td>2024-08-07</td>\n",
       "      <td>19466</td>\n",
       "      <td>727028</td>\n",
       "      <td>151312</td>\n",
       "      <td>0.208124</td>\n",
       "      <td>1160</td>\n",
       "    </tr>\n",
       "  </tbody>\n",
       "</table>\n",
       "<p>68 rows × 6 columns</p>\n",
       "</div>"
      ],
      "text/plain": [
       "         date  users   views   likes       ctr  new_users\n",
       "0  2024-06-01    878    7603    1560  0.205182        878\n",
       "1  2024-06-02   2238   62770   12816  0.204174       1819\n",
       "2  2024-06-03   3105  105526   20958  0.198605       1849\n",
       "3  2024-06-04   3721  118996   23800  0.200007       1652\n",
       "4  2024-06-05   4617  174454   34504  0.197783       1809\n",
       "..        ...    ...     ...     ...       ...        ...\n",
       "63 2024-08-03  19554  833754  182190  0.218518       1304\n",
       "64 2024-08-04  19572  744881  164565  0.220928       1338\n",
       "65 2024-08-05  19768  710587  154251  0.217075       1580\n",
       "66 2024-08-06  19363  719064  147718  0.205431       1084\n",
       "67 2024-08-07  19466  727028  151312  0.208124       1160\n",
       "\n",
       "[68 rows x 6 columns]"
      ]
     },
     "execution_count": 49,
     "metadata": {},
     "output_type": "execute_result"
    }
   ],
   "source": [
    "df = pandahouse.read_clickhouse(q, connection=connection)\n",
    "df"
   ]
  },
  {
   "cell_type": "code",
   "execution_count": 5,
   "id": "b22cb042-c279-4a2f-b752-4c2f5cff1078",
   "metadata": {},
   "outputs": [
    {
     "data": {
      "text/html": [
       "<div>\n",
       "<style scoped>\n",
       "    .dataframe tbody tr th:only-of-type {\n",
       "        vertical-align: middle;\n",
       "    }\n",
       "\n",
       "    .dataframe tbody tr th {\n",
       "        vertical-align: top;\n",
       "    }\n",
       "\n",
       "    .dataframe thead th {\n",
       "        text-align: right;\n",
       "    }\n",
       "</style>\n",
       "<table border=\"1\" class=\"dataframe\">\n",
       "  <thead>\n",
       "    <tr style=\"text-align: right;\">\n",
       "      <th></th>\n",
       "      <th>users</th>\n",
       "      <th>views</th>\n",
       "      <th>likes</th>\n",
       "      <th>ctr</th>\n",
       "      <th>new_users</th>\n",
       "    </tr>\n",
       "  </thead>\n",
       "  <tbody>\n",
       "    <tr>\n",
       "      <th>users</th>\n",
       "      <td>1.000000</td>\n",
       "      <td>0.783030</td>\n",
       "      <td>0.780046</td>\n",
       "      <td>0.506419</td>\n",
       "      <td>0.081556</td>\n",
       "    </tr>\n",
       "    <tr>\n",
       "      <th>views</th>\n",
       "      <td>0.783030</td>\n",
       "      <td>1.000000</td>\n",
       "      <td>0.998635</td>\n",
       "      <td>0.501482</td>\n",
       "      <td>-0.051945</td>\n",
       "    </tr>\n",
       "    <tr>\n",
       "      <th>likes</th>\n",
       "      <td>0.780046</td>\n",
       "      <td>0.998635</td>\n",
       "      <td>1.000000</td>\n",
       "      <td>0.540470</td>\n",
       "      <td>-0.066458</td>\n",
       "    </tr>\n",
       "    <tr>\n",
       "      <th>ctr</th>\n",
       "      <td>0.506419</td>\n",
       "      <td>0.501482</td>\n",
       "      <td>0.540470</td>\n",
       "      <td>1.000000</td>\n",
       "      <td>-0.212576</td>\n",
       "    </tr>\n",
       "    <tr>\n",
       "      <th>new_users</th>\n",
       "      <td>0.081556</td>\n",
       "      <td>-0.051945</td>\n",
       "      <td>-0.066458</td>\n",
       "      <td>-0.212576</td>\n",
       "      <td>1.000000</td>\n",
       "    </tr>\n",
       "  </tbody>\n",
       "</table>\n",
       "</div>"
      ],
      "text/plain": [
       "              users     views     likes       ctr  new_users\n",
       "users      1.000000  0.783030  0.780046  0.506419   0.081556\n",
       "views      0.783030  1.000000  0.998635  0.501482  -0.051945\n",
       "likes      0.780046  0.998635  1.000000  0.540470  -0.066458\n",
       "ctr        0.506419  0.501482  0.540470  1.000000  -0.212576\n",
       "new_users  0.081556 -0.051945 -0.066458 -0.212576   1.000000"
      ]
     },
     "execution_count": 5,
     "metadata": {},
     "output_type": "execute_result"
    }
   ],
   "source": [
    "df.drop([\"date\"], axis=1).corr()"
   ]
  },
  {
   "cell_type": "code",
   "execution_count": 19,
   "id": "d576ae72-5008-4c8c-81fb-87e4cfa8ea39",
   "metadata": {},
   "outputs": [
    {
     "data": {
      "image/png": "[encoded data removed]",
      "text/plain": [
       "<Figure size 1080x432 with 1 Axes>"
      ]
     },
     "metadata": {},
     "output_type": "display_data"
    }
   ],
   "source": [
    "sns.set(rc={'figure.figsize':(15,6)}, style=\"whitegrid\") # задаем шаблон для рисовалки\n",
    "sns.lineplot(data=df, x='date', y='users')\n",
    "plt.show()"
   ]
  },
  {
   "cell_type": "markdown",
   "id": "bd68dbbe-b99e-4111-b32b-1beefa0f50b8",
   "metadata": {},
   "source": [
    "## Задание 1\n",
    "\n",
    "Выберите основную метрику, которую вы планируете прогнозировать. Обоснуйте, почему именно она. Какое временное разрешение вы возьмёте? Будут ли какие-то дополнительные регрессоры, которые вы включите в модель?"
   ]
  },
  {
   "cell_type": "markdown",
   "id": "eb31663d-eb71-45b3-9178-24630978cff7",
   "metadata": {},
   "source": [
    "### Ответ\n",
    "\n",
    "Я думаю, что оптимально взять метрику DAU так как она наиболее полно отражает рост приложения и нагрузку на сервера.\n",
    "\n",
    "Временное расшерение возьмем дневное. Достаточно крупное для прогнозирования и с большим количеством данных.\n",
    "\n",
    "Я думаю, что дополнительные регрессоры не нужны, так как скорее всего метрика DAU - корневая и влияет на все остальные метрики, но не наоборот."
   ]
  },
  {
   "cell_type": "markdown",
   "id": "7afa0c87-1a8b-49d5-8439-31e9c43793c4",
   "metadata": {},
   "source": [
    "## Задание 2 \n",
    "\n",
    "Постройте модель и провалидируйте её. Хватает ли у нас данных для бэктестинга с текущей задачей? Если нет, то определите, для какого горизонта прогнозирования у нас хватает данных."
   ]
  },
  {
   "cell_type": "code",
   "execution_count": 7,
   "id": "6dd7eeb4-1d0a-4c4b-9c94-f2eb6edcda58",
   "metadata": {},
   "outputs": [],
   "source": [
    "dlt = DLT(response_col=\"users\", #название колонки с метрикой\n",
    "          date_col=\"date\", #название колонки с датами-временем\n",
    "          seasonality=7, #длина периода сезонности \n",
    "          estimator=\"stan-mcmc\", #алгоритм оценки\n",
    "          num_warmup = 10000,\n",
    "          num_sample = 2000\n",
    "         ) #количество сэмплов бутстрапа для доверительного интервала"
   ]
  },
  {
   "cell_type": "code",
   "execution_count": 8,
   "id": "d4cacc6a-6755-41d2-98a8-2ded794f7b04",
   "metadata": {},
   "outputs": [
    {
     "name": "stderr",
     "output_type": "stream",
     "text": [
      "2024-08-08 15:40:05 - orbit - INFO - Sampling (PyStan) with chains: 4, cores: 8, temperature: 1.000, warmups (per chain): 2500 and samples(per chain): 500.\n"
     ]
    },
    {
     "data": {
      "application/json": {
       "ascii": false,
       "bar_format": "{desc} |{bar}| {elapsed} {postfix[0][value]}",
       "colour": null,
       "elapsed": 0.026010751724243164,
       "initial": 0,
       "n": 0,
       "ncols": null,
       "nrows": null,
       "postfix": [
        {
         "value": "Status"
        }
       ],
       "prefix": "chain 1",
       "rate": null,
       "total": 32,
       "unit": "it",
       "unit_divisor": 1000,
       "unit_scale": false
      },
      "application/vnd.jupyter.widget-view+json": {
       "model_id": "297a44fbc75b44f980096300d31edd5d",
       "version_major": 2,
       "version_minor": 0
      },
      "text/plain": [
       "chain 1 |          | 00:00 Status"
      ]
     },
     "metadata": {},
     "output_type": "display_data"
    },
    {
     "data": {
      "application/json": {
       "ascii": false,
       "bar_format": "{desc} |{bar}| {elapsed} {postfix[0][value]}",
       "colour": null,
       "elapsed": 0.023551225662231445,
       "initial": 0,
       "n": 0,
       "ncols": null,
       "nrows": null,
       "postfix": [
        {
         "value": "Status"
        }
       ],
       "prefix": "chain 2",
       "rate": null,
       "total": 32,
       "unit": "it",
       "unit_divisor": 1000,
       "unit_scale": false
      },
      "application/vnd.jupyter.widget-view+json": {
       "model_id": "79f1c1669cbd47a4a7660d5131c62325",
       "version_major": 2,
       "version_minor": 0
      },
      "text/plain": [
       "chain 2 |          | 00:00 Status"
      ]
     },
     "metadata": {},
     "output_type": "display_data"
    },
    {
     "data": {
      "application/json": {
       "ascii": false,
       "bar_format": "{desc} |{bar}| {elapsed} {postfix[0][value]}",
       "colour": null,
       "elapsed": 0.018337249755859375,
       "initial": 0,
       "n": 0,
       "ncols": null,
       "nrows": null,
       "postfix": [
        {
         "value": "Status"
        }
       ],
       "prefix": "chain 3",
       "rate": null,
       "total": 32,
       "unit": "it",
       "unit_divisor": 1000,
       "unit_scale": false
      },
      "application/vnd.jupyter.widget-view+json": {
       "model_id": "0edba4c3f3a94527910d73068b02d43d",
       "version_major": 2,
       "version_minor": 0
      },
      "text/plain": [
       "chain 3 |          | 00:00 Status"
      ]
     },
     "metadata": {},
     "output_type": "display_data"
    },
    {
     "data": {
      "application/json": {
       "ascii": false,
       "bar_format": "{desc} |{bar}| {elapsed} {postfix[0][value]}",
       "colour": null,
       "elapsed": 0.019560813903808594,
       "initial": 0,
       "n": 0,
       "ncols": null,
       "nrows": null,
       "postfix": [
        {
         "value": "Status"
        }
       ],
       "prefix": "chain 4",
       "rate": null,
       "total": 32,
       "unit": "it",
       "unit_divisor": 1000,
       "unit_scale": false
      },
      "application/vnd.jupyter.widget-view+json": {
       "model_id": "f54cd8ac20f54979b61461a1d9f53ee4",
       "version_major": 2,
       "version_minor": 0
      },
      "text/plain": [
       "chain 4 |          | 00:00 Status"
      ]
     },
     "metadata": {},
     "output_type": "display_data"
    },
    {
     "name": "stdout",
     "output_type": "stream",
     "text": [
      "                                                                                                                                                                                                                                                                                                                                \n"
     ]
    },
    {
     "data": {
      "text/plain": [
       "<orbit.forecaster.full_bayes.FullBayesianForecaster at 0x7feefe3cbd90>"
      ]
     },
     "execution_count": 8,
     "metadata": {},
     "output_type": "execute_result"
    }
   ],
   "source": [
    "dlt.fit(df)"
   ]
  },
  {
   "cell_type": "code",
   "execution_count": 9,
   "id": "52db52e4-5825-49eb-817d-30e01b3ca944",
   "metadata": {},
   "outputs": [],
   "source": [
    "future_df = dlt.make_future_df(periods=14)"
   ]
  },
  {
   "cell_type": "code",
   "execution_count": 10,
   "id": "86aa6731-1b24-41d7-9f56-ea008985e018",
   "metadata": {},
   "outputs": [],
   "source": [
    "predicted_df = dlt.predict(df=future_df)"
   ]
  },
  {
   "cell_type": "code",
   "execution_count": 11,
   "id": "1daf216c-7586-4723-a9c7-da0e1360f7db",
   "metadata": {
    "tags": []
   },
   "outputs": [
    {
     "name": "stderr",
     "output_type": "stream",
     "text": [
      "findfont: Generic family 'sans-serif' not found because none of the following families were found: Arial\n",
      "findfont: Generic family 'sans-serif' not found because none of the following families were found: Arial\n",
      "findfont: Generic family 'sans-serif' not found because none of the following families were found: Arial\n",
      "findfont: Generic family 'sans-serif' not found because none of the following families were found: Arial\n",
      "findfont: Generic family 'sans-serif' not found because none of the following families were found: Arial\n",
      "findfont: Generic family 'sans-serif' not found because none of the following families were found: Arial\n",
      "findfont: Generic family 'sans-serif' not found because none of the following families were found: Arial\n",
      "findfont: Generic family 'sans-serif' not found because none of the following families were found: Arial\n",
      "findfont: Generic family 'sans-serif' not found because none of the following families were found: Arial\n",
      "findfont: Generic family 'sans-serif' not found because none of the following families were found: Arial\n",
      "findfont: Generic family 'sans-serif' not found because none of the following families were found: Arial\n",
      "findfont: Generic family 'sans-serif' not found because none of the following families were found: Arial\n",
      "findfont: Generic family 'sans-serif' not found because none of the following families were found: Arial\n",
      "findfont: Generic family 'sans-serif' not found because none of the following families were found: Arial\n",
      "findfont: Generic family 'sans-serif' not found because none of the following families were found: Arial\n",
      "findfont: Generic family 'sans-serif' not found because none of the following families were found: Arial\n",
      "findfont: Generic family 'sans-serif' not found because none of the following families were found: Arial\n",
      "findfont: Generic family 'sans-serif' not found because none of the following families were found: Arial\n",
      "findfont: Generic family 'sans-serif' not found because none of the following families were found: Arial\n",
      "findfont: Generic family 'sans-serif' not found because none of the following families were found: Arial\n",
      "findfont: Generic family 'sans-serif' not found because none of the following families were found: Arial\n",
      "findfont: Generic family 'sans-serif' not found because none of the following families were found: Arial\n",
      "findfont: Generic family 'sans-serif' not found because none of the following families were found: Arial\n",
      "findfont: Generic family 'sans-serif' not found because none of the following families were found: Arial\n",
      "findfont: Generic family 'sans-serif' not found because none of the following families were found: Arial\n",
      "findfont: Generic family 'sans-serif' not found because none of the following families were found: Arial\n",
      "findfont: Generic family 'sans-serif' not found because none of the following families were found: Arial\n",
      "findfont: Generic family 'sans-serif' not found because none of the following families were found: Arial\n",
      "findfont: Generic family 'sans-serif' not found because none of the following families were found: Arial\n",
      "findfont: Generic family 'sans-serif' not found because none of the following families were found: Arial\n",
      "findfont: Generic family 'sans-serif' not found because none of the following families were found: Arial\n",
      "findfont: Generic family 'sans-serif' not found because none of the following families were found: Arial\n",
      "findfont: Generic family 'sans-serif' not found because none of the following families were found: Arial\n",
      "findfont: Generic family 'sans-serif' not found because none of the following families were found: Arial\n",
      "findfont: Generic family 'sans-serif' not found because none of the following families were found: Arial\n",
      "findfont: Generic family 'sans-serif' not found because none of the following families were found: Arial\n",
      "findfont: Generic family 'sans-serif' not found because none of the following families were found: Arial\n",
      "findfont: Generic family 'sans-serif' not found because none of the following families were found: Arial\n",
      "findfont: Generic family 'sans-serif' not found because none of the following families were found: Arial\n",
      "findfont: Generic family 'sans-serif' not found because none of the following families were found: Arial\n",
      "findfont: Generic family 'sans-serif' not found because none of the following families were found: Arial\n",
      "findfont: Generic family 'sans-serif' not found because none of the following families were found: Arial\n",
      "findfont: Generic family 'sans-serif' not found because none of the following families were found: Arial\n",
      "findfont: Generic family 'sans-serif' not found because none of the following families were found: Arial\n",
      "findfont: Generic family 'sans-serif' not found because none of the following families were found: Arial\n",
      "findfont: Generic family 'sans-serif' not found because none of the following families were found: Arial\n",
      "findfont: Generic family 'sans-serif' not found because none of the following families were found: Arial\n",
      "findfont: Generic family 'sans-serif' not found because none of the following families were found: Arial\n",
      "findfont: Generic family 'sans-serif' not found because none of the following families were found: Arial\n",
      "findfont: Generic family 'sans-serif' not found because none of the following families were found: Arial\n",
      "findfont: Generic family 'sans-serif' not found because none of the following families were found: Arial\n",
      "findfont: Generic family 'sans-serif' not found because none of the following families were found: Arial\n",
      "findfont: Generic family 'sans-serif' not found because none of the following families were found: Arial\n",
      "findfont: Generic family 'sans-serif' not found because none of the following families were found: Arial\n",
      "findfont: Generic family 'sans-serif' not found because none of the following families were found: Arial\n",
      "findfont: Generic family 'sans-serif' not found because none of the following families were found: Arial\n",
      "findfont: Generic family 'sans-serif' not found because none of the following families were found: Arial\n",
      "findfont: Generic family 'sans-serif' not found because none of the following families were found: Arial\n",
      "findfont: Generic family 'sans-serif' not found because none of the following families were found: Arial\n",
      "findfont: Generic family 'sans-serif' not found because none of the following families were found: Arial\n",
      "findfont: Generic family 'sans-serif' not found because none of the following families were found: Arial\n",
      "findfont: Generic family 'sans-serif' not found because none of the following families were found: Arial\n",
      "findfont: Generic family 'sans-serif' not found because none of the following families were found: Arial\n",
      "findfont: Generic family 'sans-serif' not found because none of the following families were found: Arial\n",
      "findfont: Generic family 'sans-serif' not found because none of the following families were found: Arial\n",
      "findfont: Generic family 'sans-serif' not found because none of the following families were found: Arial\n",
      "findfont: Generic family 'sans-serif' not found because none of the following families were found: Arial\n",
      "findfont: Generic family 'sans-serif' not found because none of the following families were found: Arial\n",
      "findfont: Generic family 'sans-serif' not found because none of the following families were found: Arial\n",
      "findfont: Generic family 'sans-serif' not found because none of the following families were found: Arial\n",
      "findfont: Generic family 'sans-serif' not found because none of the following families were found: Arial\n",
      "findfont: Generic family 'sans-serif' not found because none of the following families were found: Arial\n",
      "findfont: Generic family 'sans-serif' not found because none of the following families were found: Arial\n",
      "findfont: Generic family 'sans-serif' not found because none of the following families were found: Arial\n",
      "findfont: Generic family 'sans-serif' not found because none of the following families were found: Arial\n",
      "findfont: Generic family 'sans-serif' not found because none of the following families were found: Arial\n",
      "findfont: Generic family 'sans-serif' not found because none of the following families were found: Arial\n"
     ]
    },
    {
     "data": {
      "image/png": "[encoded data removed]",
      "text/plain": [
       "<Figure size 1600x800 with 1 Axes>"
      ]
     },
     "metadata": {},
     "output_type": "display_data"
    }
   ],
   "source": [
    "_ = plot_predicted_data(df, #изначальные данные\n",
    "                        predicted_df, #датафрейм с предсказаниями\n",
    "                        \"date\", #колонка со временем\n",
    "                        'users', #колонка со значениями временного ряда\n",
    "                        title='Prediction with DLT') #заголовок рисунка"
   ]
  },
  {
   "cell_type": "code",
   "execution_count": 12,
   "id": "a27e4aad-f0f6-458a-8e66-d977884394a4",
   "metadata": {},
   "outputs": [
    {
     "name": "stderr",
     "output_type": "stream",
     "text": [
      "findfont: Generic family 'sans-serif' not found because none of the following families were found: Arial\n",
      "findfont: Generic family 'sans-serif' not found because none of the following families were found: Arial\n",
      "findfont: Generic family 'sans-serif' not found because none of the following families were found: Arial\n",
      "findfont: Generic family 'sans-serif' not found because none of the following families were found: Arial\n",
      "findfont: Generic family 'sans-serif' not found because none of the following families were found: Arial\n",
      "findfont: Generic family 'sans-serif' not found because none of the following families were found: Arial\n",
      "findfont: Generic family 'sans-serif' not found because none of the following families were found: Arial\n",
      "findfont: Generic family 'sans-serif' not found because none of the following families were found: Arial\n",
      "findfont: Generic family 'sans-serif' not found because none of the following families were found: Arial\n",
      "findfont: Generic family 'sans-serif' not found because none of the following families were found: Arial\n",
      "findfont: Generic family 'sans-serif' not found because none of the following families were found: Arial\n",
      "findfont: Generic family 'sans-serif' not found because none of the following families were found: Arial\n",
      "findfont: Generic family 'sans-serif' not found because none of the following families were found: Arial\n",
      "findfont: Generic family 'sans-serif' not found because none of the following families were found: Arial\n",
      "findfont: Generic family 'sans-serif' not found because none of the following families were found: Arial\n",
      "findfont: Generic family 'sans-serif' not found because none of the following families were found: Arial\n",
      "findfont: Generic family 'sans-serif' not found because none of the following families were found: Arial\n",
      "findfont: Generic family 'sans-serif' not found because none of the following families were found: Arial\n",
      "findfont: Generic family 'sans-serif' not found because none of the following families were found: Arial\n",
      "findfont: Generic family 'sans-serif' not found because none of the following families were found: Arial\n",
      "findfont: Generic family 'sans-serif' not found because none of the following families were found: Arial\n",
      "findfont: Generic family 'sans-serif' not found because none of the following families were found: Arial\n",
      "findfont: Generic family 'sans-serif' not found because none of the following families were found: Arial\n",
      "findfont: Generic family 'sans-serif' not found because none of the following families were found: Arial\n",
      "findfont: Generic family 'sans-serif' not found because none of the following families were found: Arial\n",
      "findfont: Generic family 'sans-serif' not found because none of the following families were found: Arial\n",
      "findfont: Generic family 'sans-serif' not found because none of the following families were found: Arial\n",
      "findfont: Generic family 'sans-serif' not found because none of the following families were found: Arial\n",
      "findfont: Generic family 'sans-serif' not found because none of the following families were found: Arial\n",
      "findfont: Generic family 'sans-serif' not found because none of the following families were found: Arial\n",
      "findfont: Generic family 'sans-serif' not found because none of the following families were found: Arial\n",
      "findfont: Generic family 'sans-serif' not found because none of the following families were found: Arial\n",
      "findfont: Generic family 'sans-serif' not found because none of the following families were found: Arial\n",
      "findfont: Generic family 'sans-serif' not found because none of the following families were found: Arial\n",
      "findfont: Generic family 'sans-serif' not found because none of the following families were found: Arial\n",
      "findfont: Generic family 'sans-serif' not found because none of the following families were found: Arial\n",
      "findfont: Generic family 'sans-serif' not found because none of the following families were found: Arial\n",
      "findfont: Generic family 'sans-serif' not found because none of the following families were found: Arial\n",
      "findfont: Generic family 'sans-serif' not found because none of the following families were found: Arial\n",
      "findfont: Generic family 'sans-serif' not found because none of the following families were found: Arial\n",
      "findfont: Generic family 'sans-serif' not found because none of the following families were found: Arial\n",
      "findfont: Generic family 'sans-serif' not found because none of the following families were found: Arial\n",
      "findfont: Generic family 'sans-serif' not found because none of the following families were found: Arial\n",
      "findfont: Generic family 'sans-serif' not found because none of the following families were found: Arial\n",
      "findfont: Generic family 'sans-serif' not found because none of the following families were found: Arial\n",
      "findfont: Generic family 'sans-serif' not found because none of the following families were found: Arial\n",
      "findfont: Generic family 'sans-serif' not found because none of the following families were found: Arial\n",
      "findfont: Generic family 'sans-serif' not found because none of the following families were found: Arial\n",
      "findfont: Generic family 'sans-serif' not found because none of the following families were found: Arial\n",
      "findfont: Generic family 'sans-serif' not found because none of the following families were found: Arial\n",
      "findfont: Generic family 'sans-serif' not found because none of the following families were found: Arial\n",
      "findfont: Generic family 'sans-serif' not found because none of the following families were found: Arial\n",
      "findfont: Generic family 'sans-serif' not found because none of the following families were found: Arial\n",
      "findfont: Generic family 'sans-serif' not found because none of the following families were found: Arial\n",
      "findfont: Generic family 'sans-serif' not found because none of the following families were found: Arial\n",
      "findfont: Generic family 'sans-serif' not found because none of the following families were found: Arial\n",
      "findfont: Generic family 'sans-serif' not found because none of the following families were found: Arial\n",
      "findfont: Generic family 'sans-serif' not found because none of the following families were found: Arial\n",
      "findfont: Generic family 'sans-serif' not found because none of the following families were found: Arial\n",
      "findfont: Generic family 'sans-serif' not found because none of the following families were found: Arial\n",
      "findfont: Generic family 'sans-serif' not found because none of the following families were found: Arial\n",
      "findfont: Generic family 'sans-serif' not found because none of the following families were found: Arial\n",
      "findfont: Generic family 'sans-serif' not found because none of the following families were found: Arial\n",
      "findfont: Generic family 'sans-serif' not found because none of the following families were found: Arial\n",
      "findfont: Generic family 'sans-serif' not found because none of the following families were found: Arial\n",
      "findfont: Generic family 'sans-serif' not found because none of the following families were found: Arial\n",
      "findfont: Generic family 'sans-serif' not found because none of the following families were found: Arial\n",
      "findfont: Generic family 'sans-serif' not found because none of the following families were found: Arial\n",
      "findfont: Generic family 'sans-serif' not found because none of the following families were found: Arial\n",
      "findfont: Generic family 'sans-serif' not found because none of the following families were found: Arial\n",
      "findfont: Generic family 'sans-serif' not found because none of the following families were found: Arial\n"
     ]
    },
    {
     "data": {
      "image/png": "[encoded data removed]",
      "text/plain": [
       "<Figure size 1600x800 with 3 Axes>"
      ]
     },
     "metadata": {},
     "output_type": "display_data"
    }
   ],
   "source": [
    "predicted_df = dlt.predict(df=future_df, \n",
    "                           decompose=True) #говорит, что нам нужна декомпозиция предсказания\n",
    "\n",
    "_ = plot_predicted_components(predicted_df, \n",
    "                              \"date\", \n",
    "                              plot_components=['prediction', 'trend', 'seasonality'])"
   ]
  },
  {
   "cell_type": "code",
   "execution_count": 13,
   "id": "208b0cf1-6bfe-4548-8121-a12846d5cc9f",
   "metadata": {},
   "outputs": [],
   "source": [
    "bt_exp = BackTester(\n",
    "    model=dlt, #наша моделька\n",
    "    df=df, #датафрейм для обучения\n",
    "    min_train_len=7, #самый маленький кусочек данных, с которого начинается обучение\n",
    "    incremental_len=7, #на сколько происходит прирост тренировочных данных\n",
    "    forecast_len=7, #горизонт пронозирования\n",
    "    window_type=\"expanding\" #тип окошка\n",
    ")"
   ]
  },
  {
   "cell_type": "code",
   "execution_count": 14,
   "id": "d78af490-f4ff-449f-bec9-78b20532f0fe",
   "metadata": {},
   "outputs": [
    {
     "name": "stderr",
     "output_type": "stream",
     "text": [
      "2024-08-08 15:40:13 - orbit - INFO - Sampling (PyStan) with chains: 4, cores: 8, temperature: 1.000, warmups (per chain): 2500 and samples(per chain): 500.\n"
     ]
    },
    {
     "data": {
      "application/json": {
       "ascii": false,
       "bar_format": "{desc} |{bar}| {elapsed} {postfix[0][value]}",
       "colour": null,
       "elapsed": 0.02475428581237793,
       "initial": 0,
       "n": 0,
       "ncols": null,
       "nrows": null,
       "postfix": [
        {
         "value": "Status"
        }
       ],
       "prefix": "chain 1",
       "rate": null,
       "total": 32,
       "unit": "it",
       "unit_divisor": 1000,
       "unit_scale": false
      },
      "application/vnd.jupyter.widget-view+json": {
       "model_id": "2172ee2c23ec45099fa059d85caa9380",
       "version_major": 2,
       "version_minor": 0
      },
      "text/plain": [
       "chain 1 |          | 00:00 Status"
      ]
     },
     "metadata": {},
     "output_type": "display_data"
    },
    {
     "data": {
      "application/json": {
       "ascii": false,
       "bar_format": "{desc} |{bar}| {elapsed} {postfix[0][value]}",
       "colour": null,
       "elapsed": 0.017849445343017578,
       "initial": 0,
       "n": 0,
       "ncols": null,
       "nrows": null,
       "postfix": [
        {
         "value": "Status"
        }
       ],
       "prefix": "chain 2",
       "rate": null,
       "total": 32,
       "unit": "it",
       "unit_divisor": 1000,
       "unit_scale": false
      },
      "application/vnd.jupyter.widget-view+json": {
       "model_id": "66e64b7facef48819814b3e29d38519d",
       "version_major": 2,
       "version_minor": 0
      },
      "text/plain": [
       "chain 2 |          | 00:00 Status"
      ]
     },
     "metadata": {},
     "output_type": "display_data"
    },
    {
     "data": {
      "application/json": {
       "ascii": false,
       "bar_format": "{desc} |{bar}| {elapsed} {postfix[0][value]}",
       "colour": null,
       "elapsed": 0.017586946487426758,
       "initial": 0,
       "n": 0,
       "ncols": null,
       "nrows": null,
       "postfix": [
        {
         "value": "Status"
        }
       ],
       "prefix": "chain 3",
       "rate": null,
       "total": 32,
       "unit": "it",
       "unit_divisor": 1000,
       "unit_scale": false
      },
      "application/vnd.jupyter.widget-view+json": {
       "model_id": "82c7186e1dd040a4b2ca21513dedd643",
       "version_major": 2,
       "version_minor": 0
      },
      "text/plain": [
       "chain 3 |          | 00:00 Status"
      ]
     },
     "metadata": {},
     "output_type": "display_data"
    },
    {
     "data": {
      "application/json": {
       "ascii": false,
       "bar_format": "{desc} |{bar}| {elapsed} {postfix[0][value]}",
       "colour": null,
       "elapsed": 0.020964860916137695,
       "initial": 0,
       "n": 0,
       "ncols": null,
       "nrows": null,
       "postfix": [
        {
         "value": "Status"
        }
       ],
       "prefix": "chain 4",
       "rate": null,
       "total": 32,
       "unit": "it",
       "unit_divisor": 1000,
       "unit_scale": false
      },
      "application/vnd.jupyter.widget-view+json": {
       "model_id": "4a87fec562cd408ea8e5698852029a7a",
       "version_major": 2,
       "version_minor": 0
      },
      "text/plain": [
       "chain 4 |          | 00:00 Status"
      ]
     },
     "metadata": {},
     "output_type": "display_data"
    },
    {
     "name": "stdout",
     "output_type": "stream",
     "text": [
      "                                                                                                                                                                                                                                                                                                                                "
     ]
    },
    {
     "name": "stderr",
     "output_type": "stream",
     "text": [
      "2024-08-08 15:40:14 - orbit - INFO - Sampling (PyStan) with chains: 4, cores: 8, temperature: 1.000, warmups (per chain): 2500 and samples(per chain): 500.\n"
     ]
    },
    {
     "name": "stdout",
     "output_type": "stream",
     "text": [
      "\n"
     ]
    },
    {
     "data": {
      "application/json": {
       "ascii": false,
       "bar_format": "{desc} |{bar}| {elapsed} {postfix[0][value]}",
       "colour": null,
       "elapsed": 0.023440122604370117,
       "initial": 0,
       "n": 0,
       "ncols": null,
       "nrows": null,
       "postfix": [
        {
         "value": "Status"
        }
       ],
       "prefix": "chain 1",
       "rate": null,
       "total": 32,
       "unit": "it",
       "unit_divisor": 1000,
       "unit_scale": false
      },
      "application/vnd.jupyter.widget-view+json": {
       "model_id": "841ab0a268154aee89317ba3faf44b62",
       "version_major": 2,
       "version_minor": 0
      },
      "text/plain": [
       "chain 1 |          | 00:00 Status"
      ]
     },
     "metadata": {},
     "output_type": "display_data"
    },
    {
     "data": {
      "application/json": {
       "ascii": false,
       "bar_format": "{desc} |{bar}| {elapsed} {postfix[0][value]}",
       "colour": null,
       "elapsed": 0.015625953674316406,
       "initial": 0,
       "n": 0,
       "ncols": null,
       "nrows": null,
       "postfix": [
        {
         "value": "Status"
        }
       ],
       "prefix": "chain 2",
       "rate": null,
       "total": 32,
       "unit": "it",
       "unit_divisor": 1000,
       "unit_scale": false
      },
      "application/vnd.jupyter.widget-view+json": {
       "model_id": "0e311385a9a2489fa654fc916ba1fe05",
       "version_major": 2,
       "version_minor": 0
      },
      "text/plain": [
       "chain 2 |          | 00:00 Status"
      ]
     },
     "metadata": {},
     "output_type": "display_data"
    },
    {
     "data": {
      "application/json": {
       "ascii": false,
       "bar_format": "{desc} |{bar}| {elapsed} {postfix[0][value]}",
       "colour": null,
       "elapsed": 0.015217065811157227,
       "initial": 0,
       "n": 0,
       "ncols": null,
       "nrows": null,
       "postfix": [
        {
         "value": "Status"
        }
       ],
       "prefix": "chain 3",
       "rate": null,
       "total": 32,
       "unit": "it",
       "unit_divisor": 1000,
       "unit_scale": false
      },
      "application/vnd.jupyter.widget-view+json": {
       "model_id": "f256a9208fc94f13aa61141e1d5c1b02",
       "version_major": 2,
       "version_minor": 0
      },
      "text/plain": [
       "chain 3 |          | 00:00 Status"
      ]
     },
     "metadata": {},
     "output_type": "display_data"
    },
    {
     "data": {
      "application/json": {
       "ascii": false,
       "bar_format": "{desc} |{bar}| {elapsed} {postfix[0][value]}",
       "colour": null,
       "elapsed": 0.015204906463623047,
       "initial": 0,
       "n": 0,
       "ncols": null,
       "nrows": null,
       "postfix": [
        {
         "value": "Status"
        }
       ],
       "prefix": "chain 4",
       "rate": null,
       "total": 32,
       "unit": "it",
       "unit_divisor": 1000,
       "unit_scale": false
      },
      "application/vnd.jupyter.widget-view+json": {
       "model_id": "413c9811e15241cca2762d726dfb8f6c",
       "version_major": 2,
       "version_minor": 0
      },
      "text/plain": [
       "chain 4 |          | 00:00 Status"
      ]
     },
     "metadata": {},
     "output_type": "display_data"
    },
    {
     "name": "stdout",
     "output_type": "stream",
     "text": [
      "                                                                                                                                                                                                                                                                                                                                "
     ]
    },
    {
     "name": "stderr",
     "output_type": "stream",
     "text": [
      "2024-08-08 15:40:16 - orbit - INFO - Sampling (PyStan) with chains: 4, cores: 8, temperature: 1.000, warmups (per chain): 2500 and samples(per chain): 500.\n"
     ]
    },
    {
     "name": "stdout",
     "output_type": "stream",
     "text": [
      "\n"
     ]
    },
    {
     "data": {
      "application/json": {
       "ascii": false,
       "bar_format": "{desc} |{bar}| {elapsed} {postfix[0][value]}",
       "colour": null,
       "elapsed": 0.020663976669311523,
       "initial": 0,
       "n": 0,
       "ncols": null,
       "nrows": null,
       "postfix": [
        {
         "value": "Status"
        }
       ],
       "prefix": "chain 1",
       "rate": null,
       "total": 32,
       "unit": "it",
       "unit_divisor": 1000,
       "unit_scale": false
      },
      "application/vnd.jupyter.widget-view+json": {
       "model_id": "460876f38f8641a699bb4348a524a243",
       "version_major": 2,
       "version_minor": 0
      },
      "text/plain": [
       "chain 1 |          | 00:00 Status"
      ]
     },
     "metadata": {},
     "output_type": "display_data"
    },
    {
     "data": {
      "application/json": {
       "ascii": false,
       "bar_format": "{desc} |{bar}| {elapsed} {postfix[0][value]}",
       "colour": null,
       "elapsed": 0.016835927963256836,
       "initial": 0,
       "n": 0,
       "ncols": null,
       "nrows": null,
       "postfix": [
        {
         "value": "Status"
        }
       ],
       "prefix": "chain 2",
       "rate": null,
       "total": 32,
       "unit": "it",
       "unit_divisor": 1000,
       "unit_scale": false
      },
      "application/vnd.jupyter.widget-view+json": {
       "model_id": "1ef4b7641cc94a8488c004359a16d0c3",
       "version_major": 2,
       "version_minor": 0
      },
      "text/plain": [
       "chain 2 |          | 00:00 Status"
      ]
     },
     "metadata": {},
     "output_type": "display_data"
    },
    {
     "data": {
      "application/json": {
       "ascii": false,
       "bar_format": "{desc} |{bar}| {elapsed} {postfix[0][value]}",
       "colour": null,
       "elapsed": 0.017314672470092773,
       "initial": 0,
       "n": 0,
       "ncols": null,
       "nrows": null,
       "postfix": [
        {
         "value": "Status"
        }
       ],
       "prefix": "chain 3",
       "rate": null,
       "total": 32,
       "unit": "it",
       "unit_divisor": 1000,
       "unit_scale": false
      },
      "application/vnd.jupyter.widget-view+json": {
       "model_id": "73f4c98ff49540eba535721d51e22540",
       "version_major": 2,
       "version_minor": 0
      },
      "text/plain": [
       "chain 3 |          | 00:00 Status"
      ]
     },
     "metadata": {},
     "output_type": "display_data"
    },
    {
     "data": {
      "application/json": {
       "ascii": false,
       "bar_format": "{desc} |{bar}| {elapsed} {postfix[0][value]}",
       "colour": null,
       "elapsed": 0.01921558380126953,
       "initial": 0,
       "n": 0,
       "ncols": null,
       "nrows": null,
       "postfix": [
        {
         "value": "Status"
        }
       ],
       "prefix": "chain 4",
       "rate": null,
       "total": 32,
       "unit": "it",
       "unit_divisor": 1000,
       "unit_scale": false
      },
      "application/vnd.jupyter.widget-view+json": {
       "model_id": "0b7ae4edb6e34ae8a6675f70c98f199c",
       "version_major": 2,
       "version_minor": 0
      },
      "text/plain": [
       "chain 4 |          | 00:00 Status"
      ]
     },
     "metadata": {},
     "output_type": "display_data"
    },
    {
     "name": "stdout",
     "output_type": "stream",
     "text": [
      "                                                                                                                                                                                                                                                                                                                                \n"
     ]
    },
    {
     "name": "stderr",
     "output_type": "stream",
     "text": [
      "2024-08-08 15:40:19 - orbit - INFO - Sampling (PyStan) with chains: 4, cores: 8, temperature: 1.000, warmups (per chain): 2500 and samples(per chain): 500.\n"
     ]
    },
    {
     "data": {
      "application/json": {
       "ascii": false,
       "bar_format": "{desc} |{bar}| {elapsed} {postfix[0][value]}",
       "colour": null,
       "elapsed": 0.01992487907409668,
       "initial": 0,
       "n": 0,
       "ncols": null,
       "nrows": null,
       "postfix": [
        {
         "value": "Status"
        }
       ],
       "prefix": "chain 1",
       "rate": null,
       "total": 32,
       "unit": "it",
       "unit_divisor": 1000,
       "unit_scale": false
      },
      "application/vnd.jupyter.widget-view+json": {
       "model_id": "93086b8da0c64e089c2c9387a5fc7578",
       "version_major": 2,
       "version_minor": 0
      },
      "text/plain": [
       "chain 1 |          | 00:00 Status"
      ]
     },
     "metadata": {},
     "output_type": "display_data"
    },
    {
     "data": {
      "application/json": {
       "ascii": false,
       "bar_format": "{desc} |{bar}| {elapsed} {postfix[0][value]}",
       "colour": null,
       "elapsed": 0.01956486701965332,
       "initial": 0,
       "n": 0,
       "ncols": null,
       "nrows": null,
       "postfix": [
        {
         "value": "Status"
        }
       ],
       "prefix": "chain 2",
       "rate": null,
       "total": 32,
       "unit": "it",
       "unit_divisor": 1000,
       "unit_scale": false
      },
      "application/vnd.jupyter.widget-view+json": {
       "model_id": "8b9823aaa1e840c58eb5273bd2b4c2e1",
       "version_major": 2,
       "version_minor": 0
      },
      "text/plain": [
       "chain 2 |          | 00:00 Status"
      ]
     },
     "metadata": {},
     "output_type": "display_data"
    },
    {
     "data": {
      "application/json": {
       "ascii": false,
       "bar_format": "{desc} |{bar}| {elapsed} {postfix[0][value]}",
       "colour": null,
       "elapsed": 0.018307209014892578,
       "initial": 0,
       "n": 0,
       "ncols": null,
       "nrows": null,
       "postfix": [
        {
         "value": "Status"
        }
       ],
       "prefix": "chain 3",
       "rate": null,
       "total": 32,
       "unit": "it",
       "unit_divisor": 1000,
       "unit_scale": false
      },
      "application/vnd.jupyter.widget-view+json": {
       "model_id": "0281b859227d43c68d4813e28209e55c",
       "version_major": 2,
       "version_minor": 0
      },
      "text/plain": [
       "chain 3 |          | 00:00 Status"
      ]
     },
     "metadata": {},
     "output_type": "display_data"
    },
    {
     "data": {
      "application/json": {
       "ascii": false,
       "bar_format": "{desc} |{bar}| {elapsed} {postfix[0][value]}",
       "colour": null,
       "elapsed": 0.016673564910888672,
       "initial": 0,
       "n": 0,
       "ncols": null,
       "nrows": null,
       "postfix": [
        {
         "value": "Status"
        }
       ],
       "prefix": "chain 4",
       "rate": null,
       "total": 32,
       "unit": "it",
       "unit_divisor": 1000,
       "unit_scale": false
      },
      "application/vnd.jupyter.widget-view+json": {
       "model_id": "24e604a8327d42f3b5d1983c0466b367",
       "version_major": 2,
       "version_minor": 0
      },
      "text/plain": [
       "chain 4 |          | 00:00 Status"
      ]
     },
     "metadata": {},
     "output_type": "display_data"
    },
    {
     "name": "stdout",
     "output_type": "stream",
     "text": [
      "                                                                                                                                                                                                                                                                                                                                \n"
     ]
    },
    {
     "name": "stderr",
     "output_type": "stream",
     "text": [
      "2024-08-08 15:40:21 - orbit - INFO - Sampling (PyStan) with chains: 4, cores: 8, temperature: 1.000, warmups (per chain): 2500 and samples(per chain): 500.\n"
     ]
    },
    {
     "data": {
      "application/json": {
       "ascii": false,
       "bar_format": "{desc} |{bar}| {elapsed} {postfix[0][value]}",
       "colour": null,
       "elapsed": 0.03531765937805176,
       "initial": 0,
       "n": 0,
       "ncols": null,
       "nrows": null,
       "postfix": [
        {
         "value": "Status"
        }
       ],
       "prefix": "chain 1",
       "rate": null,
       "total": 32,
       "unit": "it",
       "unit_divisor": 1000,
       "unit_scale": false
      },
      "application/vnd.jupyter.widget-view+json": {
       "model_id": "249fbc51d04c420e9c60d505f4cbd083",
       "version_major": 2,
       "version_minor": 0
      },
      "text/plain": [
       "chain 1 |          | 00:00 Status"
      ]
     },
     "metadata": {},
     "output_type": "display_data"
    },
    {
     "data": {
      "application/json": {
       "ascii": false,
       "bar_format": "{desc} |{bar}| {elapsed} {postfix[0][value]}",
       "colour": null,
       "elapsed": 0.017903566360473633,
       "initial": 0,
       "n": 0,
       "ncols": null,
       "nrows": null,
       "postfix": [
        {
         "value": "Status"
        }
       ],
       "prefix": "chain 2",
       "rate": null,
       "total": 32,
       "unit": "it",
       "unit_divisor": 1000,
       "unit_scale": false
      },
      "application/vnd.jupyter.widget-view+json": {
       "model_id": "ee1b1b05416b4d228a30353e2859594c",
       "version_major": 2,
       "version_minor": 0
      },
      "text/plain": [
       "chain 2 |          | 00:00 Status"
      ]
     },
     "metadata": {},
     "output_type": "display_data"
    },
    {
     "data": {
      "application/json": {
       "ascii": false,
       "bar_format": "{desc} |{bar}| {elapsed} {postfix[0][value]}",
       "colour": null,
       "elapsed": 0.01611948013305664,
       "initial": 0,
       "n": 0,
       "ncols": null,
       "nrows": null,
       "postfix": [
        {
         "value": "Status"
        }
       ],
       "prefix": "chain 3",
       "rate": null,
       "total": 32,
       "unit": "it",
       "unit_divisor": 1000,
       "unit_scale": false
      },
      "application/vnd.jupyter.widget-view+json": {
       "model_id": "e9903419c68d49b3b16768c04a32ac46",
       "version_major": 2,
       "version_minor": 0
      },
      "text/plain": [
       "chain 3 |          | 00:00 Status"
      ]
     },
     "metadata": {},
     "output_type": "display_data"
    },
    {
     "data": {
      "application/json": {
       "ascii": false,
       "bar_format": "{desc} |{bar}| {elapsed} {postfix[0][value]}",
       "colour": null,
       "elapsed": 0.015786170959472656,
       "initial": 0,
       "n": 0,
       "ncols": null,
       "nrows": null,
       "postfix": [
        {
         "value": "Status"
        }
       ],
       "prefix": "chain 4",
       "rate": null,
       "total": 32,
       "unit": "it",
       "unit_divisor": 1000,
       "unit_scale": false
      },
      "application/vnd.jupyter.widget-view+json": {
       "model_id": "75d86bf7c3b340eeaa0b9d1e1750a84e",
       "version_major": 2,
       "version_minor": 0
      },
      "text/plain": [
       "chain 4 |          | 00:00 Status"
      ]
     },
     "metadata": {},
     "output_type": "display_data"
    },
    {
     "name": "stdout",
     "output_type": "stream",
     "text": [
      "                                                                                                                                                                                                                                                                                                                                \n"
     ]
    },
    {
     "name": "stderr",
     "output_type": "stream",
     "text": [
      "2024-08-08 15:40:25 - orbit - INFO - Sampling (PyStan) with chains: 4, cores: 8, temperature: 1.000, warmups (per chain): 2500 and samples(per chain): 500.\n"
     ]
    },
    {
     "data": {
      "application/json": {
       "ascii": false,
       "bar_format": "{desc} |{bar}| {elapsed} {postfix[0][value]}",
       "colour": null,
       "elapsed": 0.019271373748779297,
       "initial": 0,
       "n": 0,
       "ncols": null,
       "nrows": null,
       "postfix": [
        {
         "value": "Status"
        }
       ],
       "prefix": "chain 1",
       "rate": null,
       "total": 32,
       "unit": "it",
       "unit_divisor": 1000,
       "unit_scale": false
      },
      "application/vnd.jupyter.widget-view+json": {
       "model_id": "d9f7011ce0b84cc280b5a9f8a582d175",
       "version_major": 2,
       "version_minor": 0
      },
      "text/plain": [
       "chain 1 |          | 00:00 Status"
      ]
     },
     "metadata": {},
     "output_type": "display_data"
    },
    {
     "data": {
      "application/json": {
       "ascii": false,
       "bar_format": "{desc} |{bar}| {elapsed} {postfix[0][value]}",
       "colour": null,
       "elapsed": 0.016767501831054688,
       "initial": 0,
       "n": 0,
       "ncols": null,
       "nrows": null,
       "postfix": [
        {
         "value": "Status"
        }
       ],
       "prefix": "chain 2",
       "rate": null,
       "total": 32,
       "unit": "it",
       "unit_divisor": 1000,
       "unit_scale": false
      },
      "application/vnd.jupyter.widget-view+json": {
       "model_id": "b00994bd8cc44787be8aa698ed22c7fc",
       "version_major": 2,
       "version_minor": 0
      },
      "text/plain": [
       "chain 2 |          | 00:00 Status"
      ]
     },
     "metadata": {},
     "output_type": "display_data"
    },
    {
     "data": {
      "application/json": {
       "ascii": false,
       "bar_format": "{desc} |{bar}| {elapsed} {postfix[0][value]}",
       "colour": null,
       "elapsed": 0.0163271427154541,
       "initial": 0,
       "n": 0,
       "ncols": null,
       "nrows": null,
       "postfix": [
        {
         "value": "Status"
        }
       ],
       "prefix": "chain 3",
       "rate": null,
       "total": 32,
       "unit": "it",
       "unit_divisor": 1000,
       "unit_scale": false
      },
      "application/vnd.jupyter.widget-view+json": {
       "model_id": "5b2693772efe4f84a2eeb97550b3240c",
       "version_major": 2,
       "version_minor": 0
      },
      "text/plain": [
       "chain 3 |          | 00:00 Status"
      ]
     },
     "metadata": {},
     "output_type": "display_data"
    },
    {
     "data": {
      "application/json": {
       "ascii": false,
       "bar_format": "{desc} |{bar}| {elapsed} {postfix[0][value]}",
       "colour": null,
       "elapsed": 0.017133712768554688,
       "initial": 0,
       "n": 0,
       "ncols": null,
       "nrows": null,
       "postfix": [
        {
         "value": "Status"
        }
       ],
       "prefix": "chain 4",
       "rate": null,
       "total": 32,
       "unit": "it",
       "unit_divisor": 1000,
       "unit_scale": false
      },
      "application/vnd.jupyter.widget-view+json": {
       "model_id": "16222a031709462793455427722647ed",
       "version_major": 2,
       "version_minor": 0
      },
      "text/plain": [
       "chain 4 |          | 00:00 Status"
      ]
     },
     "metadata": {},
     "output_type": "display_data"
    },
    {
     "name": "stdout",
     "output_type": "stream",
     "text": [
      "                                                                                                                                                                                                                                                                                                                                \n"
     ]
    },
    {
     "name": "stderr",
     "output_type": "stream",
     "text": [
      "2024-08-08 15:40:30 - orbit - INFO - Sampling (PyStan) with chains: 4, cores: 8, temperature: 1.000, warmups (per chain): 2500 and samples(per chain): 500.\n"
     ]
    },
    {
     "data": {
      "application/json": {
       "ascii": false,
       "bar_format": "{desc} |{bar}| {elapsed} {postfix[0][value]}",
       "colour": null,
       "elapsed": 0.021054983139038086,
       "initial": 0,
       "n": 0,
       "ncols": null,
       "nrows": null,
       "postfix": [
        {
         "value": "Status"
        }
       ],
       "prefix": "chain 1",
       "rate": null,
       "total": 32,
       "unit": "it",
       "unit_divisor": 1000,
       "unit_scale": false
      },
      "application/vnd.jupyter.widget-view+json": {
       "model_id": "ea85a1a41d194da0aebc0d75a85a4020",
       "version_major": 2,
       "version_minor": 0
      },
      "text/plain": [
       "chain 1 |          | 00:00 Status"
      ]
     },
     "metadata": {},
     "output_type": "display_data"
    },
    {
     "data": {
      "application/json": {
       "ascii": false,
       "bar_format": "{desc} |{bar}| {elapsed} {postfix[0][value]}",
       "colour": null,
       "elapsed": 0.01586437225341797,
       "initial": 0,
       "n": 0,
       "ncols": null,
       "nrows": null,
       "postfix": [
        {
         "value": "Status"
        }
       ],
       "prefix": "chain 2",
       "rate": null,
       "total": 32,
       "unit": "it",
       "unit_divisor": 1000,
       "unit_scale": false
      },
      "application/vnd.jupyter.widget-view+json": {
       "model_id": "c7694d1658ed420bbec13701e3a6ede6",
       "version_major": 2,
       "version_minor": 0
      },
      "text/plain": [
       "chain 2 |          | 00:00 Status"
      ]
     },
     "metadata": {},
     "output_type": "display_data"
    },
    {
     "data": {
      "application/json": {
       "ascii": false,
       "bar_format": "{desc} |{bar}| {elapsed} {postfix[0][value]}",
       "colour": null,
       "elapsed": 0.015802860260009766,
       "initial": 0,
       "n": 0,
       "ncols": null,
       "nrows": null,
       "postfix": [
        {
         "value": "Status"
        }
       ],
       "prefix": "chain 3",
       "rate": null,
       "total": 32,
       "unit": "it",
       "unit_divisor": 1000,
       "unit_scale": false
      },
      "application/vnd.jupyter.widget-view+json": {
       "model_id": "849efee7caf74fe6a3a56ddda36efe0d",
       "version_major": 2,
       "version_minor": 0
      },
      "text/plain": [
       "chain 3 |          | 00:00 Status"
      ]
     },
     "metadata": {},
     "output_type": "display_data"
    },
    {
     "data": {
      "application/json": {
       "ascii": false,
       "bar_format": "{desc} |{bar}| {elapsed} {postfix[0][value]}",
       "colour": null,
       "elapsed": 0.015763521194458008,
       "initial": 0,
       "n": 0,
       "ncols": null,
       "nrows": null,
       "postfix": [
        {
         "value": "Status"
        }
       ],
       "prefix": "chain 4",
       "rate": null,
       "total": 32,
       "unit": "it",
       "unit_divisor": 1000,
       "unit_scale": false
      },
      "application/vnd.jupyter.widget-view+json": {
       "model_id": "ddac8481fbc14cb58ee862c19c30ce19",
       "version_major": 2,
       "version_minor": 0
      },
      "text/plain": [
       "chain 4 |          | 00:00 Status"
      ]
     },
     "metadata": {},
     "output_type": "display_data"
    },
    {
     "name": "stdout",
     "output_type": "stream",
     "text": [
      "                                                                                                                                                                                                                                                                                                                                \n"
     ]
    },
    {
     "name": "stderr",
     "output_type": "stream",
     "text": [
      "2024-08-08 15:40:37 - orbit - INFO - Sampling (PyStan) with chains: 4, cores: 8, temperature: 1.000, warmups (per chain): 2500 and samples(per chain): 500.\n"
     ]
    },
    {
     "data": {
      "application/json": {
       "ascii": false,
       "bar_format": "{desc} |{bar}| {elapsed} {postfix[0][value]}",
       "colour": null,
       "elapsed": 0.019650697708129883,
       "initial": 0,
       "n": 0,
       "ncols": null,
       "nrows": null,
       "postfix": [
        {
         "value": "Status"
        }
       ],
       "prefix": "chain 1",
       "rate": null,
       "total": 32,
       "unit": "it",
       "unit_divisor": 1000,
       "unit_scale": false
      },
      "application/vnd.jupyter.widget-view+json": {
       "model_id": "141086c5d12e4fc6976ce57ad6943783",
       "version_major": 2,
       "version_minor": 0
      },
      "text/plain": [
       "chain 1 |          | 00:00 Status"
      ]
     },
     "metadata": {},
     "output_type": "display_data"
    },
    {
     "data": {
      "application/json": {
       "ascii": false,
       "bar_format": "{desc} |{bar}| {elapsed} {postfix[0][value]}",
       "colour": null,
       "elapsed": 0.01647639274597168,
       "initial": 0,
       "n": 0,
       "ncols": null,
       "nrows": null,
       "postfix": [
        {
         "value": "Status"
        }
       ],
       "prefix": "chain 2",
       "rate": null,
       "total": 32,
       "unit": "it",
       "unit_divisor": 1000,
       "unit_scale": false
      },
      "application/vnd.jupyter.widget-view+json": {
       "model_id": "c9854102d9ad404182364dcd0226d0bf",
       "version_major": 2,
       "version_minor": 0
      },
      "text/plain": [
       "chain 2 |          | 00:00 Status"
      ]
     },
     "metadata": {},
     "output_type": "display_data"
    },
    {
     "data": {
      "application/json": {
       "ascii": false,
       "bar_format": "{desc} |{bar}| {elapsed} {postfix[0][value]}",
       "colour": null,
       "elapsed": 0.01659417152404785,
       "initial": 0,
       "n": 0,
       "ncols": null,
       "nrows": null,
       "postfix": [
        {
         "value": "Status"
        }
       ],
       "prefix": "chain 3",
       "rate": null,
       "total": 32,
       "unit": "it",
       "unit_divisor": 1000,
       "unit_scale": false
      },
      "application/vnd.jupyter.widget-view+json": {
       "model_id": "3fa1a18c6ee8403489bc9db09974bc8d",
       "version_major": 2,
       "version_minor": 0
      },
      "text/plain": [
       "chain 3 |          | 00:00 Status"
      ]
     },
     "metadata": {},
     "output_type": "display_data"
    },
    {
     "data": {
      "application/json": {
       "ascii": false,
       "bar_format": "{desc} |{bar}| {elapsed} {postfix[0][value]}",
       "colour": null,
       "elapsed": 0.018088340759277344,
       "initial": 0,
       "n": 0,
       "ncols": null,
       "nrows": null,
       "postfix": [
        {
         "value": "Status"
        }
       ],
       "prefix": "chain 4",
       "rate": null,
       "total": 32,
       "unit": "it",
       "unit_divisor": 1000,
       "unit_scale": false
      },
      "application/vnd.jupyter.widget-view+json": {
       "model_id": "0dd91b8443c24b43aec1649c9f8ba5aa",
       "version_major": 2,
       "version_minor": 0
      },
      "text/plain": [
       "chain 4 |          | 00:00 Status"
      ]
     },
     "metadata": {},
     "output_type": "display_data"
    },
    {
     "name": "stdout",
     "output_type": "stream",
     "text": [
      "                                                                                                                                                                                                                                                                                                                                \n"
     ]
    },
    {
     "data": {
      "text/html": [
       "<div>\n",
       "<style scoped>\n",
       "    .dataframe tbody tr th:only-of-type {\n",
       "        vertical-align: middle;\n",
       "    }\n",
       "\n",
       "    .dataframe tbody tr th {\n",
       "        vertical-align: top;\n",
       "    }\n",
       "\n",
       "    .dataframe thead th {\n",
       "        text-align: right;\n",
       "    }\n",
       "</style>\n",
       "<table border=\"1\" class=\"dataframe\">\n",
       "  <thead>\n",
       "    <tr style=\"text-align: right;\">\n",
       "      <th></th>\n",
       "      <th>metric_name</th>\n",
       "      <th>metric_values</th>\n",
       "      <th>is_training_metric</th>\n",
       "    </tr>\n",
       "  </thead>\n",
       "  <tbody>\n",
       "    <tr>\n",
       "      <th>0</th>\n",
       "      <td>smape</td>\n",
       "      <td>0.049918</td>\n",
       "      <td>False</td>\n",
       "    </tr>\n",
       "    <tr>\n",
       "      <th>1</th>\n",
       "      <td>wmape</td>\n",
       "      <td>0.046001</td>\n",
       "      <td>False</td>\n",
       "    </tr>\n",
       "    <tr>\n",
       "      <th>2</th>\n",
       "      <td>mape</td>\n",
       "      <td>0.050179</td>\n",
       "      <td>False</td>\n",
       "    </tr>\n",
       "    <tr>\n",
       "      <th>3</th>\n",
       "      <td>mse</td>\n",
       "      <td>688217.930006</td>\n",
       "      <td>False</td>\n",
       "    </tr>\n",
       "    <tr>\n",
       "      <th>4</th>\n",
       "      <td>mae</td>\n",
       "      <td>651.965491</td>\n",
       "      <td>False</td>\n",
       "    </tr>\n",
       "    <tr>\n",
       "      <th>5</th>\n",
       "      <td>rmsse</td>\n",
       "      <td>0.986374</td>\n",
       "      <td>False</td>\n",
       "    </tr>\n",
       "  </tbody>\n",
       "</table>\n",
       "</div>"
      ],
      "text/plain": [
       "  metric_name  metric_values  is_training_metric\n",
       "0       smape       0.049918               False\n",
       "1       wmape       0.046001               False\n",
       "2        mape       0.050179               False\n",
       "3         mse  688217.930006               False\n",
       "4         mae     651.965491               False\n",
       "5       rmsse       0.986374               False"
      ]
     },
     "execution_count": 14,
     "metadata": {},
     "output_type": "execute_result"
    }
   ],
   "source": [
    "bt_exp.fit_predict()\n",
    "bt_exp.score()"
   ]
  },
  {
   "cell_type": "code",
   "execution_count": null,
   "id": "8471ad9d-2b8b-4ca1-9650-997be0c832fe",
   "metadata": {},
   "outputs": [],
   "source": []
  },
  {
   "cell_type": "markdown",
   "id": "d7b4d1ae-d170-4560-ac4d-5a087af3c08b",
   "metadata": {},
   "source": [
    "Видны значительные ошибки в параметрах MSE и MAE, в таком виде моделька не заработает)\n",
    "\n",
    "Скорее всего это происходит из-за наличия выбросов в наших данных, которые мы наблюдали на графике. Можно попробовать немного подчистить данные и сгладить."
   ]
  },
  {
   "cell_type": "code",
   "execution_count": 15,
   "id": "a6c48088-b14f-4ea1-bd0d-ae88d08d9afd",
   "metadata": {},
   "outputs": [
    {
     "data": {
      "text/html": [
       "<div>\n",
       "<style scoped>\n",
       "    .dataframe tbody tr th:only-of-type {\n",
       "        vertical-align: middle;\n",
       "    }\n",
       "\n",
       "    .dataframe tbody tr th {\n",
       "        vertical-align: top;\n",
       "    }\n",
       "\n",
       "    .dataframe thead th {\n",
       "        text-align: right;\n",
       "    }\n",
       "</style>\n",
       "<table border=\"1\" class=\"dataframe\">\n",
       "  <thead>\n",
       "    <tr style=\"text-align: right;\">\n",
       "      <th></th>\n",
       "      <th>date</th>\n",
       "      <th>users</th>\n",
       "      <th>views</th>\n",
       "      <th>likes</th>\n",
       "      <th>ctr</th>\n",
       "      <th>new_users</th>\n",
       "    </tr>\n",
       "  </thead>\n",
       "  <tbody>\n",
       "    <tr>\n",
       "      <th>count</th>\n",
       "      <td>68</td>\n",
       "      <td>68.000000</td>\n",
       "      <td>6.800000e+01</td>\n",
       "      <td>68.000000</td>\n",
       "      <td>68.000000</td>\n",
       "      <td>68.000000</td>\n",
       "    </tr>\n",
       "    <tr>\n",
       "      <th>mean</th>\n",
       "      <td>2024-07-04 12:00:00</td>\n",
       "      <td>13464.338235</td>\n",
       "      <td>5.218935e+05</td>\n",
       "      <td>109823.750000</td>\n",
       "      <td>0.208875</td>\n",
       "      <td>1880.529412</td>\n",
       "    </tr>\n",
       "    <tr>\n",
       "      <th>min</th>\n",
       "      <td>2024-06-01 00:00:00</td>\n",
       "      <td>878.000000</td>\n",
       "      <td>7.603000e+03</td>\n",
       "      <td>1560.000000</td>\n",
       "      <td>0.195531</td>\n",
       "      <td>878.000000</td>\n",
       "    </tr>\n",
       "    <tr>\n",
       "      <th>25%</th>\n",
       "      <td>2024-06-17 18:00:00</td>\n",
       "      <td>10688.500000</td>\n",
       "      <td>3.470865e+05</td>\n",
       "      <td>69160.500000</td>\n",
       "      <td>0.205070</td>\n",
       "      <td>1449.000000</td>\n",
       "    </tr>\n",
       "    <tr>\n",
       "      <th>50%</th>\n",
       "      <td>2024-07-04 12:00:00</td>\n",
       "      <td>14396.500000</td>\n",
       "      <td>4.906805e+05</td>\n",
       "      <td>103853.500000</td>\n",
       "      <td>0.208963</td>\n",
       "      <td>2006.500000</td>\n",
       "    </tr>\n",
       "    <tr>\n",
       "      <th>75%</th>\n",
       "      <td>2024-07-21 06:00:00</td>\n",
       "      <td>17558.250000</td>\n",
       "      <td>6.595792e+05</td>\n",
       "      <td>139911.000000</td>\n",
       "      <td>0.212183</td>\n",
       "      <td>2235.500000</td>\n",
       "    </tr>\n",
       "    <tr>\n",
       "      <th>max</th>\n",
       "      <td>2024-08-07 00:00:00</td>\n",
       "      <td>20400.000000</td>\n",
       "      <td>1.224097e+06</td>\n",
       "      <td>257747.000000</td>\n",
       "      <td>0.222221</td>\n",
       "      <td>3333.000000</td>\n",
       "    </tr>\n",
       "    <tr>\n",
       "      <th>std</th>\n",
       "      <td>NaN</td>\n",
       "      <td>5055.767428</td>\n",
       "      <td>2.661195e+05</td>\n",
       "      <td>57188.966226</td>\n",
       "      <td>0.006184</td>\n",
       "      <td>487.676626</td>\n",
       "    </tr>\n",
       "  </tbody>\n",
       "</table>\n",
       "</div>"
      ],
      "text/plain": [
       "                      date         users         views          likes  \\\n",
       "count                   68     68.000000  6.800000e+01      68.000000   \n",
       "mean   2024-07-04 12:00:00  13464.338235  5.218935e+05  109823.750000   \n",
       "min    2024-06-01 00:00:00    878.000000  7.603000e+03    1560.000000   \n",
       "25%    2024-06-17 18:00:00  10688.500000  3.470865e+05   69160.500000   \n",
       "50%    2024-07-04 12:00:00  14396.500000  4.906805e+05  103853.500000   \n",
       "75%    2024-07-21 06:00:00  17558.250000  6.595792e+05  139911.000000   \n",
       "max    2024-08-07 00:00:00  20400.000000  1.224097e+06  257747.000000   \n",
       "std                    NaN   5055.767428  2.661195e+05   57188.966226   \n",
       "\n",
       "             ctr    new_users  \n",
       "count  68.000000    68.000000  \n",
       "mean    0.208875  1880.529412  \n",
       "min     0.195531   878.000000  \n",
       "25%     0.205070  1449.000000  \n",
       "50%     0.208963  2006.500000  \n",
       "75%     0.212183  2235.500000  \n",
       "max     0.222221  3333.000000  \n",
       "std     0.006184   487.676626  "
      ]
     },
     "execution_count": 15,
     "metadata": {},
     "output_type": "execute_result"
    }
   ],
   "source": [
    "df.describe()"
   ]
  },
  {
   "cell_type": "code",
   "execution_count": 47,
   "id": "213d1254-c517-4cd9-984a-a8f46ee33a15",
   "metadata": {},
   "outputs": [
    {
     "data": {
      "text/html": [
       "<div>\n",
       "<style scoped>\n",
       "    .dataframe tbody tr th:only-of-type {\n",
       "        vertical-align: middle;\n",
       "    }\n",
       "\n",
       "    .dataframe tbody tr th {\n",
       "        vertical-align: top;\n",
       "    }\n",
       "\n",
       "    .dataframe thead th {\n",
       "        text-align: right;\n",
       "    }\n",
       "</style>\n",
       "<table border=\"1\" class=\"dataframe\">\n",
       "  <thead>\n",
       "    <tr style=\"text-align: right;\">\n",
       "      <th></th>\n",
       "      <th>date</th>\n",
       "      <th>users</th>\n",
       "      <th>views</th>\n",
       "      <th>likes</th>\n",
       "      <th>ctr</th>\n",
       "      <th>new_users</th>\n",
       "    </tr>\n",
       "  </thead>\n",
       "  <tbody>\n",
       "    <tr>\n",
       "      <th>39</th>\n",
       "      <td>2024-07-10</td>\n",
       "      <td>15549</td>\n",
       "      <td>487827</td>\n",
       "      <td>102839</td>\n",
       "      <td>0.210810</td>\n",
       "      <td>1957</td>\n",
       "    </tr>\n",
       "    <tr>\n",
       "      <th>40</th>\n",
       "      <td>2024-07-11</td>\n",
       "      <td>15189</td>\n",
       "      <td>635840</td>\n",
       "      <td>129325</td>\n",
       "      <td>0.203392</td>\n",
       "      <td>3333</td>\n",
       "    </tr>\n",
       "    <tr>\n",
       "      <th>41</th>\n",
       "      <td>2024-07-12</td>\n",
       "      <td>14829</td>\n",
       "      <td>672158</td>\n",
       "      <td>142206</td>\n",
       "      <td>0.211566</td>\n",
       "      <td>1069</td>\n",
       "    </tr>\n",
       "    <tr>\n",
       "      <th>42</th>\n",
       "      <td>2024-07-13</td>\n",
       "      <td>15526</td>\n",
       "      <td>885799</td>\n",
       "      <td>196843</td>\n",
       "      <td>0.222221</td>\n",
       "      <td>1959</td>\n",
       "    </tr>\n",
       "    <tr>\n",
       "      <th>43</th>\n",
       "      <td>2024-07-14</td>\n",
       "      <td>15867</td>\n",
       "      <td>1015529</td>\n",
       "      <td>220892</td>\n",
       "      <td>0.217514</td>\n",
       "      <td>2040</td>\n",
       "    </tr>\n",
       "    <tr>\n",
       "      <th>44</th>\n",
       "      <td>2024-07-15</td>\n",
       "      <td>16341</td>\n",
       "      <td>1166286</td>\n",
       "      <td>248806</td>\n",
       "      <td>0.213332</td>\n",
       "      <td>2293</td>\n",
       "    </tr>\n",
       "    <tr>\n",
       "      <th>45</th>\n",
       "      <td>2024-07-16</td>\n",
       "      <td>16469</td>\n",
       "      <td>1090531</td>\n",
       "      <td>230044</td>\n",
       "      <td>0.210947</td>\n",
       "      <td>1731</td>\n",
       "    </tr>\n",
       "    <tr>\n",
       "      <th>46</th>\n",
       "      <td>2024-07-17</td>\n",
       "      <td>16632</td>\n",
       "      <td>1085231</td>\n",
       "      <td>230093</td>\n",
       "      <td>0.212022</td>\n",
       "      <td>2025</td>\n",
       "    </tr>\n",
       "    <tr>\n",
       "      <th>47</th>\n",
       "      <td>2024-07-18</td>\n",
       "      <td>16705</td>\n",
       "      <td>1224097</td>\n",
       "      <td>257747</td>\n",
       "      <td>0.210561</td>\n",
       "      <td>1419</td>\n",
       "    </tr>\n",
       "    <tr>\n",
       "      <th>48</th>\n",
       "      <td>2024-07-19</td>\n",
       "      <td>16195</td>\n",
       "      <td>1106173</td>\n",
       "      <td>228125</td>\n",
       "      <td>0.206229</td>\n",
       "      <td>1272</td>\n",
       "    </tr>\n",
       "    <tr>\n",
       "      <th>49</th>\n",
       "      <td>2024-07-20</td>\n",
       "      <td>14073</td>\n",
       "      <td>461120</td>\n",
       "      <td>97982</td>\n",
       "      <td>0.212487</td>\n",
       "      <td>2615</td>\n",
       "    </tr>\n",
       "    <tr>\n",
       "      <th>50</th>\n",
       "      <td>2024-07-21</td>\n",
       "      <td>17510</td>\n",
       "      <td>645810</td>\n",
       "      <td>133029</td>\n",
       "      <td>0.205988</td>\n",
       "      <td>2134</td>\n",
       "    </tr>\n",
       "    <tr>\n",
       "      <th>51</th>\n",
       "      <td>2024-07-22</td>\n",
       "      <td>17703</td>\n",
       "      <td>610008</td>\n",
       "      <td>127420</td>\n",
       "      <td>0.208883</td>\n",
       "      <td>2033</td>\n",
       "    </tr>\n",
       "  </tbody>\n",
       "</table>\n",
       "</div>"
      ],
      "text/plain": [
       "         date  users    views   likes       ctr  new_users\n",
       "39 2024-07-10  15549   487827  102839  0.210810       1957\n",
       "40 2024-07-11  15189   635840  129325  0.203392       3333\n",
       "41 2024-07-12  14829   672158  142206  0.211566       1069\n",
       "42 2024-07-13  15526   885799  196843  0.222221       1959\n",
       "43 2024-07-14  15867  1015529  220892  0.217514       2040\n",
       "44 2024-07-15  16341  1166286  248806  0.213332       2293\n",
       "45 2024-07-16  16469  1090531  230044  0.210947       1731\n",
       "46 2024-07-17  16632  1085231  230093  0.212022       2025\n",
       "47 2024-07-18  16705  1224097  257747  0.210561       1419\n",
       "48 2024-07-19  16195  1106173  228125  0.206229       1272\n",
       "49 2024-07-20  14073   461120   97982  0.212487       2615\n",
       "50 2024-07-21  17510   645810  133029  0.205988       2134\n",
       "51 2024-07-22  17703   610008  127420  0.208883       2033"
      ]
     },
     "execution_count": 47,
     "metadata": {},
     "output_type": "execute_result"
    }
   ],
   "source": [
    "df.query(\"date >= '2024-07-10' and date <= '2024-07-22'\") # Вручную найдем даты, в которые случались аномалии\n",
    "# Это даты 2024-07-11 и 2024-07-20\n",
    "# заменим эти значения на среднее между днем до и днем после"
   ]
  },
  {
   "cell_type": "code",
   "execution_count": 53,
   "id": "caed3914-7db0-49fe-8d70-2c3cd16870f0",
   "metadata": {},
   "outputs": [],
   "source": [
    "clear_df = df.copy() # получаем \"чистый дф\" для анализа\n",
    "clear_df.loc[40, 'users'] = (15549 + 14829) / 2\n",
    "clear_df.loc[49, 'users'] = (16195 + 17510) / 2"
   ]
  },
  {
   "cell_type": "code",
   "execution_count": 52,
   "id": "5d956431-1604-4f3a-aeaf-c5ba7ce81cb7",
   "metadata": {},
   "outputs": [
    {
     "data": {
      "text/plain": [
       "<Axes: xlabel='date', ylabel='users'>"
      ]
     },
     "execution_count": 52,
     "metadata": {},
     "output_type": "execute_result"
    },
    {
     "data": {
      "image/png": "[encoded data removed]",
      "text/plain": [
       "<Figure size 1080x432 with 1 Axes>"
      ]
     },
     "metadata": {},
     "output_type": "display_data"
    }
   ],
   "source": [
    "sns.lineplot(data=clear_df, x='date', y='users') "
   ]
  },
  {
   "cell_type": "code",
   "execution_count": 62,
   "id": "0655d94f-2926-4391-ac86-4739482967e9",
   "metadata": {},
   "outputs": [],
   "source": [
    "clear_dlt = DLT(response_col=\"users\", #название колонки с метрикой\n",
    "          date_col=\"date\", #название колонки с датами-временем\n",
    "          seasonality=7, #длина периода сезонности \n",
    "          estimator=\"stan-mcmc\", #алгоритм оценки\n",
    "          num_warmup = 10000,\n",
    "          num_sample = 2000\n",
    "         ) #количество сэмплов бутстрапа для доверительного интервала"
   ]
  },
  {
   "cell_type": "code",
   "execution_count": 63,
   "id": "fd3d715b-8c26-44c1-9a4e-530c200d0bc8",
   "metadata": {},
   "outputs": [
    {
     "name": "stderr",
     "output_type": "stream",
     "text": [
      "2024-08-08 16:25:36 - orbit - INFO - Sampling (PyStan) with chains: 4, cores: 8, temperature: 1.000, warmups (per chain): 2500 and samples(per chain): 500.\n"
     ]
    },
    {
     "data": {
      "application/json": {
       "ascii": false,
       "bar_format": "{desc} |{bar}| {elapsed} {postfix[0][value]}",
       "colour": null,
       "elapsed": 0.02516484260559082,
       "initial": 0,
       "n": 0,
       "ncols": null,
       "nrows": null,
       "postfix": [
        {
         "value": "Status"
        }
       ],
       "prefix": "chain 1",
       "rate": null,
       "total": 32,
       "unit": "it",
       "unit_divisor": 1000,
       "unit_scale": false
      },
      "application/vnd.jupyter.widget-view+json": {
       "model_id": "5cd015d6ea8e410faf3278a3ed60c6b9",
       "version_major": 2,
       "version_minor": 0
      },
      "text/plain": [
       "chain 1 |          | 00:00 Status"
      ]
     },
     "metadata": {},
     "output_type": "display_data"
    },
    {
     "data": {
      "application/json": {
       "ascii": false,
       "bar_format": "{desc} |{bar}| {elapsed} {postfix[0][value]}",
       "colour": null,
       "elapsed": 0.018765687942504883,
       "initial": 0,
       "n": 0,
       "ncols": null,
       "nrows": null,
       "postfix": [
        {
         "value": "Status"
        }
       ],
       "prefix": "chain 2",
       "rate": null,
       "total": 32,
       "unit": "it",
       "unit_divisor": 1000,
       "unit_scale": false
      },
      "application/vnd.jupyter.widget-view+json": {
       "model_id": "52c3d9db11a6401bbb0af381d31395f2",
       "version_major": 2,
       "version_minor": 0
      },
      "text/plain": [
       "chain 2 |          | 00:00 Status"
      ]
     },
     "metadata": {},
     "output_type": "display_data"
    },
    {
     "data": {
      "application/json": {
       "ascii": false,
       "bar_format": "{desc} |{bar}| {elapsed} {postfix[0][value]}",
       "colour": null,
       "elapsed": 0.017213106155395508,
       "initial": 0,
       "n": 0,
       "ncols": null,
       "nrows": null,
       "postfix": [
        {
         "value": "Status"
        }
       ],
       "prefix": "chain 3",
       "rate": null,
       "total": 32,
       "unit": "it",
       "unit_divisor": 1000,
       "unit_scale": false
      },
      "application/vnd.jupyter.widget-view+json": {
       "model_id": "d41825b5aaaf4f89aa296cf8a2d822ba",
       "version_major": 2,
       "version_minor": 0
      },
      "text/plain": [
       "chain 3 |          | 00:00 Status"
      ]
     },
     "metadata": {},
     "output_type": "display_data"
    },
    {
     "data": {
      "application/json": {
       "ascii": false,
       "bar_format": "{desc} |{bar}| {elapsed} {postfix[0][value]}",
       "colour": null,
       "elapsed": 0.019171953201293945,
       "initial": 0,
       "n": 0,
       "ncols": null,
       "nrows": null,
       "postfix": [
        {
         "value": "Status"
        }
       ],
       "prefix": "chain 4",
       "rate": null,
       "total": 32,
       "unit": "it",
       "unit_divisor": 1000,
       "unit_scale": false
      },
      "application/vnd.jupyter.widget-view+json": {
       "model_id": "fdbd57964c1c472c97c8f946cfb53cee",
       "version_major": 2,
       "version_minor": 0
      },
      "text/plain": [
       "chain 4 |          | 00:00 Status"
      ]
     },
     "metadata": {},
     "output_type": "display_data"
    },
    {
     "name": "stdout",
     "output_type": "stream",
     "text": [
      "                                                                                                                                                                                                                                                                                                                                \n"
     ]
    },
    {
     "data": {
      "text/plain": [
       "<orbit.forecaster.full_bayes.FullBayesianForecaster at 0x7fefe6c0c220>"
      ]
     },
     "execution_count": 63,
     "metadata": {},
     "output_type": "execute_result"
    }
   ],
   "source": [
    "clear_dlt.fit(clear_df)"
   ]
  },
  {
   "cell_type": "code",
   "execution_count": 67,
   "id": "cb7757e6-01c6-4275-b2a0-1c3fd1929725",
   "metadata": {},
   "outputs": [],
   "source": [
    "clear_future_df = clear_dlt.make_future_df(periods=14)"
   ]
  },
  {
   "cell_type": "code",
   "execution_count": 68,
   "id": "566b96b5-431a-4775-9d2a-352faf54b2f6",
   "metadata": {},
   "outputs": [],
   "source": [
    "clear_predicted_df = clear_dlt.predict(df=clear_future_df)"
   ]
  },
  {
   "cell_type": "code",
   "execution_count": 69,
   "id": "be051325-7923-4134-a645-a564192f9b5c",
   "metadata": {
    "tags": []
   },
   "outputs": [
    {
     "name": "stderr",
     "output_type": "stream",
     "text": [
      "findfont: Generic family 'sans-serif' not found because none of the following families were found: Arial\n",
      "findfont: Generic family 'sans-serif' not found because none of the following families were found: Arial\n",
      "findfont: Generic family 'sans-serif' not found because none of the following families were found: Arial\n",
      "findfont: Generic family 'sans-serif' not found because none of the following families were found: Arial\n",
      "findfont: Generic family 'sans-serif' not found because none of the following families were found: Arial\n",
      "findfont: Generic family 'sans-serif' not found because none of the following families were found: Arial\n",
      "findfont: Generic family 'sans-serif' not found because none of the following families were found: Arial\n",
      "findfont: Generic family 'sans-serif' not found because none of the following families were found: Arial\n",
      "findfont: Generic family 'sans-serif' not found because none of the following families were found: Arial\n",
      "findfont: Generic family 'sans-serif' not found because none of the following families were found: Arial\n",
      "findfont: Generic family 'sans-serif' not found because none of the following families were found: Arial\n",
      "findfont: Generic family 'sans-serif' not found because none of the following families were found: Arial\n",
      "findfont: Generic family 'sans-serif' not found because none of the following families were found: Arial\n",
      "findfont: Generic family 'sans-serif' not found because none of the following families were found: Arial\n",
      "findfont: Generic family 'sans-serif' not found because none of the following families were found: Arial\n",
      "findfont: Generic family 'sans-serif' not found because none of the following families were found: Arial\n",
      "findfont: Generic family 'sans-serif' not found because none of the following families were found: Arial\n",
      "findfont: Generic family 'sans-serif' not found because none of the following families were found: Arial\n",
      "findfont: Generic family 'sans-serif' not found because none of the following families were found: Arial\n",
      "findfont: Generic family 'sans-serif' not found because none of the following families were found: Arial\n",
      "findfont: Generic family 'sans-serif' not found because none of the following families were found: Arial\n",
      "findfont: Generic family 'sans-serif' not found because none of the following families were found: Arial\n",
      "findfont: Generic family 'sans-serif' not found because none of the following families were found: Arial\n",
      "findfont: Generic family 'sans-serif' not found because none of the following families were found: Arial\n",
      "findfont: Generic family 'sans-serif' not found because none of the following families were found: Arial\n",
      "findfont: Generic family 'sans-serif' not found because none of the following families were found: Arial\n",
      "findfont: Generic family 'sans-serif' not found because none of the following families were found: Arial\n",
      "findfont: Generic family 'sans-serif' not found because none of the following families were found: Arial\n",
      "findfont: Generic family 'sans-serif' not found because none of the following families were found: Arial\n",
      "findfont: Generic family 'sans-serif' not found because none of the following families were found: Arial\n",
      "findfont: Generic family 'sans-serif' not found because none of the following families were found: Arial\n",
      "findfont: Generic family 'sans-serif' not found because none of the following families were found: Arial\n",
      "findfont: Generic family 'sans-serif' not found because none of the following families were found: Arial\n",
      "findfont: Generic family 'sans-serif' not found because none of the following families were found: Arial\n",
      "findfont: Generic family 'sans-serif' not found because none of the following families were found: Arial\n",
      "findfont: Generic family 'sans-serif' not found because none of the following families were found: Arial\n",
      "findfont: Generic family 'sans-serif' not found because none of the following families were found: Arial\n",
      "findfont: Generic family 'sans-serif' not found because none of the following families were found: Arial\n",
      "findfont: Generic family 'sans-serif' not found because none of the following families were found: Arial\n",
      "findfont: Generic family 'sans-serif' not found because none of the following families were found: Arial\n",
      "findfont: Generic family 'sans-serif' not found because none of the following families were found: Arial\n",
      "findfont: Generic family 'sans-serif' not found because none of the following families were found: Arial\n",
      "findfont: Generic family 'sans-serif' not found because none of the following families were found: Arial\n",
      "findfont: Generic family 'sans-serif' not found because none of the following families were found: Arial\n",
      "findfont: Generic family 'sans-serif' not found because none of the following families were found: Arial\n",
      "findfont: Generic family 'sans-serif' not found because none of the following families were found: Arial\n",
      "findfont: Generic family 'sans-serif' not found because none of the following families were found: Arial\n",
      "findfont: Generic family 'sans-serif' not found because none of the following families were found: Arial\n",
      "findfont: Generic family 'sans-serif' not found because none of the following families were found: Arial\n",
      "findfont: Generic family 'sans-serif' not found because none of the following families were found: Arial\n",
      "findfont: Generic family 'sans-serif' not found because none of the following families were found: Arial\n",
      "findfont: Generic family 'sans-serif' not found because none of the following families were found: Arial\n",
      "findfont: Generic family 'sans-serif' not found because none of the following families were found: Arial\n",
      "findfont: Generic family 'sans-serif' not found because none of the following families were found: Arial\n",
      "findfont: Generic family 'sans-serif' not found because none of the following families were found: Arial\n",
      "findfont: Generic family 'sans-serif' not found because none of the following families were found: Arial\n",
      "findfont: Generic family 'sans-serif' not found because none of the following families were found: Arial\n",
      "findfont: Generic family 'sans-serif' not found because none of the following families were found: Arial\n",
      "findfont: Generic family 'sans-serif' not found because none of the following families were found: Arial\n",
      "findfont: Generic family 'sans-serif' not found because none of the following families were found: Arial\n",
      "findfont: Generic family 'sans-serif' not found because none of the following families were found: Arial\n",
      "findfont: Generic family 'sans-serif' not found because none of the following families were found: Arial\n",
      "findfont: Generic family 'sans-serif' not found because none of the following families were found: Arial\n",
      "findfont: Generic family 'sans-serif' not found because none of the following families were found: Arial\n",
      "findfont: Generic family 'sans-serif' not found because none of the following families were found: Arial\n",
      "findfont: Generic family 'sans-serif' not found because none of the following families were found: Arial\n",
      "findfont: Generic family 'sans-serif' not found because none of the following families were found: Arial\n",
      "findfont: Generic family 'sans-serif' not found because none of the following families were found: Arial\n",
      "findfont: Generic family 'sans-serif' not found because none of the following families were found: Arial\n",
      "findfont: Generic family 'sans-serif' not found because none of the following families were found: Arial\n",
      "findfont: Generic family 'sans-serif' not found because none of the following families were found: Arial\n",
      "findfont: Generic family 'sans-serif' not found because none of the following families were found: Arial\n",
      "findfont: Generic family 'sans-serif' not found because none of the following families were found: Arial\n",
      "findfont: Generic family 'sans-serif' not found because none of the following families were found: Arial\n",
      "findfont: Generic family 'sans-serif' not found because none of the following families were found: Arial\n",
      "findfont: Generic family 'sans-serif' not found because none of the following families were found: Arial\n",
      "findfont: Generic family 'sans-serif' not found because none of the following families were found: Arial\n"
     ]
    },
    {
     "data": {
      "image/png": "[encoded data removed]",
      "text/plain": [
       "<Figure size 1600x800 with 1 Axes>"
      ]
     },
     "metadata": {},
     "output_type": "display_data"
    }
   ],
   "source": [
    "_ = plot_predicted_data(clear_df, #изначальные данные\n",
    "                        clear_predicted_df, #датафрейм с предсказаниями\n",
    "                        \"date\", #колонка со временем\n",
    "                        'users', #колонка со значениями временного ряда\n",
    "                        title='Prediction with DLT') #заголовок рисунка"
   ]
  },
  {
   "cell_type": "code",
   "execution_count": 70,
   "id": "4d68457d-3c34-4d55-94ab-37ef5e0df903",
   "metadata": {},
   "outputs": [
    {
     "name": "stderr",
     "output_type": "stream",
     "text": [
      "findfont: Generic family 'sans-serif' not found because none of the following families were found: Arial\n",
      "findfont: Generic family 'sans-serif' not found because none of the following families were found: Arial\n",
      "findfont: Generic family 'sans-serif' not found because none of the following families were found: Arial\n",
      "findfont: Generic family 'sans-serif' not found because none of the following families were found: Arial\n",
      "findfont: Generic family 'sans-serif' not found because none of the following families were found: Arial\n",
      "findfont: Generic family 'sans-serif' not found because none of the following families were found: Arial\n",
      "findfont: Generic family 'sans-serif' not found because none of the following families were found: Arial\n",
      "findfont: Generic family 'sans-serif' not found because none of the following families were found: Arial\n",
      "findfont: Generic family 'sans-serif' not found because none of the following families were found: Arial\n",
      "findfont: Generic family 'sans-serif' not found because none of the following families were found: Arial\n",
      "findfont: Generic family 'sans-serif' not found because none of the following families were found: Arial\n",
      "findfont: Generic family 'sans-serif' not found because none of the following families were found: Arial\n",
      "findfont: Generic family 'sans-serif' not found because none of the following families were found: Arial\n",
      "findfont: Generic family 'sans-serif' not found because none of the following families were found: Arial\n",
      "findfont: Generic family 'sans-serif' not found because none of the following families were found: Arial\n",
      "findfont: Generic family 'sans-serif' not found because none of the following families were found: Arial\n",
      "findfont: Generic family 'sans-serif' not found because none of the following families were found: Arial\n",
      "findfont: Generic family 'sans-serif' not found because none of the following families were found: Arial\n",
      "findfont: Generic family 'sans-serif' not found because none of the following families were found: Arial\n",
      "findfont: Generic family 'sans-serif' not found because none of the following families were found: Arial\n",
      "findfont: Generic family 'sans-serif' not found because none of the following families were found: Arial\n",
      "findfont: Generic family 'sans-serif' not found because none of the following families were found: Arial\n",
      "findfont: Generic family 'sans-serif' not found because none of the following families were found: Arial\n",
      "findfont: Generic family 'sans-serif' not found because none of the following families were found: Arial\n",
      "findfont: Generic family 'sans-serif' not found because none of the following families were found: Arial\n",
      "findfont: Generic family 'sans-serif' not found because none of the following families were found: Arial\n",
      "findfont: Generic family 'sans-serif' not found because none of the following families were found: Arial\n",
      "findfont: Generic family 'sans-serif' not found because none of the following families were found: Arial\n",
      "findfont: Generic family 'sans-serif' not found because none of the following families were found: Arial\n",
      "findfont: Generic family 'sans-serif' not found because none of the following families were found: Arial\n",
      "findfont: Generic family 'sans-serif' not found because none of the following families were found: Arial\n",
      "findfont: Generic family 'sans-serif' not found because none of the following families were found: Arial\n",
      "findfont: Generic family 'sans-serif' not found because none of the following families were found: Arial\n",
      "findfont: Generic family 'sans-serif' not found because none of the following families were found: Arial\n",
      "findfont: Generic family 'sans-serif' not found because none of the following families were found: Arial\n",
      "findfont: Generic family 'sans-serif' not found because none of the following families were found: Arial\n",
      "findfont: Generic family 'sans-serif' not found because none of the following families were found: Arial\n",
      "findfont: Generic family 'sans-serif' not found because none of the following families were found: Arial\n",
      "findfont: Generic family 'sans-serif' not found because none of the following families were found: Arial\n",
      "findfont: Generic family 'sans-serif' not found because none of the following families were found: Arial\n",
      "findfont: Generic family 'sans-serif' not found because none of the following families were found: Arial\n",
      "findfont: Generic family 'sans-serif' not found because none of the following families were found: Arial\n",
      "findfont: Generic family 'sans-serif' not found because none of the following families were found: Arial\n",
      "findfont: Generic family 'sans-serif' not found because none of the following families were found: Arial\n",
      "findfont: Generic family 'sans-serif' not found because none of the following families were found: Arial\n",
      "findfont: Generic family 'sans-serif' not found because none of the following families were found: Arial\n",
      "findfont: Generic family 'sans-serif' not found because none of the following families were found: Arial\n",
      "findfont: Generic family 'sans-serif' not found because none of the following families were found: Arial\n",
      "findfont: Generic family 'sans-serif' not found because none of the following families were found: Arial\n",
      "findfont: Generic family 'sans-serif' not found because none of the following families were found: Arial\n",
      "findfont: Generic family 'sans-serif' not found because none of the following families were found: Arial\n",
      "findfont: Generic family 'sans-serif' not found because none of the following families were found: Arial\n",
      "findfont: Generic family 'sans-serif' not found because none of the following families were found: Arial\n",
      "findfont: Generic family 'sans-serif' not found because none of the following families were found: Arial\n",
      "findfont: Generic family 'sans-serif' not found because none of the following families were found: Arial\n",
      "findfont: Generic family 'sans-serif' not found because none of the following families were found: Arial\n",
      "findfont: Generic family 'sans-serif' not found because none of the following families were found: Arial\n",
      "findfont: Generic family 'sans-serif' not found because none of the following families were found: Arial\n",
      "findfont: Generic family 'sans-serif' not found because none of the following families were found: Arial\n",
      "findfont: Generic family 'sans-serif' not found because none of the following families were found: Arial\n",
      "findfont: Generic family 'sans-serif' not found because none of the following families were found: Arial\n",
      "findfont: Generic family 'sans-serif' not found because none of the following families were found: Arial\n",
      "findfont: Generic family 'sans-serif' not found because none of the following families were found: Arial\n",
      "findfont: Generic family 'sans-serif' not found because none of the following families were found: Arial\n",
      "findfont: Generic family 'sans-serif' not found because none of the following families were found: Arial\n",
      "findfont: Generic family 'sans-serif' not found because none of the following families were found: Arial\n",
      "findfont: Generic family 'sans-serif' not found because none of the following families were found: Arial\n",
      "findfont: Generic family 'sans-serif' not found because none of the following families were found: Arial\n",
      "findfont: Generic family 'sans-serif' not found because none of the following families were found: Arial\n",
      "findfont: Generic family 'sans-serif' not found because none of the following families were found: Arial\n",
      "findfont: Generic family 'sans-serif' not found because none of the following families were found: Arial\n",
      "findfont: Generic family 'sans-serif' not found because none of the following families were found: Arial\n",
      "findfont: Generic family 'sans-serif' not found because none of the following families were found: Arial\n",
      "findfont: Generic family 'sans-serif' not found because none of the following families were found: Arial\n",
      "findfont: Generic family 'sans-serif' not found because none of the following families were found: Arial\n",
      "findfont: Generic family 'sans-serif' not found because none of the following families were found: Arial\n",
      "findfont: Generic family 'sans-serif' not found because none of the following families were found: Arial\n",
      "findfont: Generic family 'sans-serif' not found because none of the following families were found: Arial\n",
      "findfont: Generic family 'sans-serif' not found because none of the following families were found: Arial\n"
     ]
    },
    {
     "data": {
      "image/png": "[encoded data removed]",
      "text/plain": [
       "<Figure size 1600x800 with 3 Axes>"
      ]
     },
     "metadata": {},
     "output_type": "display_data"
    }
   ],
   "source": [
    "clear_predicted_df = clear_dlt.predict(df=clear_future_df, \n",
    "                           decompose=True) #говорит, что нам нужна декомпозиция предсказания\n",
    "\n",
    "_ = plot_predicted_components(clear_predicted_df, \n",
    "                              \"date\", \n",
    "                              plot_components=['prediction', 'trend', 'seasonality'])"
   ]
  },
  {
   "cell_type": "code",
   "execution_count": 71,
   "id": "cae5202c-0375-4442-8a9c-eee8f0eb3613",
   "metadata": {},
   "outputs": [],
   "source": [
    "bt_exp = BackTester(\n",
    "    model=clear_dlt, #наша моделька\n",
    "    df=clear_df, #датафрейм для обучения\n",
    "    min_train_len=7, #самый маленький кусочек данных, с которого начинается обучение\n",
    "    incremental_len=7, #на сколько происходит прирост тренировочных данных\n",
    "    forecast_len=7, #горизонт пронозирования\n",
    "    window_type=\"expanding\" #тип окошка\n",
    ")"
   ]
  },
  {
   "cell_type": "code",
   "execution_count": 72,
   "id": "13fedced-e3ac-47a2-9bb2-87a9bf93e58c",
   "metadata": {},
   "outputs": [
    {
     "name": "stderr",
     "output_type": "stream",
     "text": [
      "2024-08-08 16:27:50 - orbit - INFO - Sampling (PyStan) with chains: 4, cores: 8, temperature: 1.000, warmups (per chain): 2500 and samples(per chain): 500.\n"
     ]
    },
    {
     "data": {
      "application/json": {
       "ascii": false,
       "bar_format": "{desc} |{bar}| {elapsed} {postfix[0][value]}",
       "colour": null,
       "elapsed": 0.021770238876342773,
       "initial": 0,
       "n": 0,
       "ncols": null,
       "nrows": null,
       "postfix": [
        {
         "value": "Status"
        }
       ],
       "prefix": "chain 1",
       "rate": null,
       "total": 32,
       "unit": "it",
       "unit_divisor": 1000,
       "unit_scale": false
      },
      "application/vnd.jupyter.widget-view+json": {
       "model_id": "4bcb4e79092944a9a9c9db43fa42eb00",
       "version_major": 2,
       "version_minor": 0
      },
      "text/plain": [
       "chain 1 |          | 00:00 Status"
      ]
     },
     "metadata": {},
     "output_type": "display_data"
    },
    {
     "data": {
      "application/json": {
       "ascii": false,
       "bar_format": "{desc} |{bar}| {elapsed} {postfix[0][value]}",
       "colour": null,
       "elapsed": 0.018522024154663086,
       "initial": 0,
       "n": 0,
       "ncols": null,
       "nrows": null,
       "postfix": [
        {
         "value": "Status"
        }
       ],
       "prefix": "chain 2",
       "rate": null,
       "total": 32,
       "unit": "it",
       "unit_divisor": 1000,
       "unit_scale": false
      },
      "application/vnd.jupyter.widget-view+json": {
       "model_id": "19126b3e916846309b4d3ebe850fc163",
       "version_major": 2,
       "version_minor": 0
      },
      "text/plain": [
       "chain 2 |          | 00:00 Status"
      ]
     },
     "metadata": {},
     "output_type": "display_data"
    },
    {
     "data": {
      "application/json": {
       "ascii": false,
       "bar_format": "{desc} |{bar}| {elapsed} {postfix[0][value]}",
       "colour": null,
       "elapsed": 0.017421960830688477,
       "initial": 0,
       "n": 0,
       "ncols": null,
       "nrows": null,
       "postfix": [
        {
         "value": "Status"
        }
       ],
       "prefix": "chain 3",
       "rate": null,
       "total": 32,
       "unit": "it",
       "unit_divisor": 1000,
       "unit_scale": false
      },
      "application/vnd.jupyter.widget-view+json": {
       "model_id": "9df2371a88d9490981bf63c192f7f497",
       "version_major": 2,
       "version_minor": 0
      },
      "text/plain": [
       "chain 3 |          | 00:00 Status"
      ]
     },
     "metadata": {},
     "output_type": "display_data"
    },
    {
     "data": {
      "application/json": {
       "ascii": false,
       "bar_format": "{desc} |{bar}| {elapsed} {postfix[0][value]}",
       "colour": null,
       "elapsed": 0.019444704055786133,
       "initial": 0,
       "n": 0,
       "ncols": null,
       "nrows": null,
       "postfix": [
        {
         "value": "Status"
        }
       ],
       "prefix": "chain 4",
       "rate": null,
       "total": 32,
       "unit": "it",
       "unit_divisor": 1000,
       "unit_scale": false
      },
      "application/vnd.jupyter.widget-view+json": {
       "model_id": "58d40ed0b57042d1a49d543a155d3d91",
       "version_major": 2,
       "version_minor": 0
      },
      "text/plain": [
       "chain 4 |          | 00:00 Status"
      ]
     },
     "metadata": {},
     "output_type": "display_data"
    },
    {
     "name": "stdout",
     "output_type": "stream",
     "text": [
      "                                                                                                                                                                                                                                                                                                                                "
     ]
    },
    {
     "name": "stderr",
     "output_type": "stream",
     "text": [
      "2024-08-08 16:27:52 - orbit - INFO - Sampling (PyStan) with chains: 4, cores: 8, temperature: 1.000, warmups (per chain): 2500 and samples(per chain): 500.\n"
     ]
    },
    {
     "name": "stdout",
     "output_type": "stream",
     "text": [
      "\n"
     ]
    },
    {
     "data": {
      "application/json": {
       "ascii": false,
       "bar_format": "{desc} |{bar}| {elapsed} {postfix[0][value]}",
       "colour": null,
       "elapsed": 0.02216482162475586,
       "initial": 0,
       "n": 0,
       "ncols": null,
       "nrows": null,
       "postfix": [
        {
         "value": "Status"
        }
       ],
       "prefix": "chain 1",
       "rate": null,
       "total": 32,
       "unit": "it",
       "unit_divisor": 1000,
       "unit_scale": false
      },
      "application/vnd.jupyter.widget-view+json": {
       "model_id": "782180a4ecd54709ab6b57bcb018895e",
       "version_major": 2,
       "version_minor": 0
      },
      "text/plain": [
       "chain 1 |          | 00:00 Status"
      ]
     },
     "metadata": {},
     "output_type": "display_data"
    },
    {
     "data": {
      "application/json": {
       "ascii": false,
       "bar_format": "{desc} |{bar}| {elapsed} {postfix[0][value]}",
       "colour": null,
       "elapsed": 0.017785072326660156,
       "initial": 0,
       "n": 0,
       "ncols": null,
       "nrows": null,
       "postfix": [
        {
         "value": "Status"
        }
       ],
       "prefix": "chain 2",
       "rate": null,
       "total": 32,
       "unit": "it",
       "unit_divisor": 1000,
       "unit_scale": false
      },
      "application/vnd.jupyter.widget-view+json": {
       "model_id": "47a4e447dbd94057aad7f1ca340e2af5",
       "version_major": 2,
       "version_minor": 0
      },
      "text/plain": [
       "chain 2 |          | 00:00 Status"
      ]
     },
     "metadata": {},
     "output_type": "display_data"
    },
    {
     "data": {
      "application/json": {
       "ascii": false,
       "bar_format": "{desc} |{bar}| {elapsed} {postfix[0][value]}",
       "colour": null,
       "elapsed": 0.017503023147583008,
       "initial": 0,
       "n": 0,
       "ncols": null,
       "nrows": null,
       "postfix": [
        {
         "value": "Status"
        }
       ],
       "prefix": "chain 3",
       "rate": null,
       "total": 32,
       "unit": "it",
       "unit_divisor": 1000,
       "unit_scale": false
      },
      "application/vnd.jupyter.widget-view+json": {
       "model_id": "47f3d6683e334592b3885d75091f94cc",
       "version_major": 2,
       "version_minor": 0
      },
      "text/plain": [
       "chain 3 |          | 00:00 Status"
      ]
     },
     "metadata": {},
     "output_type": "display_data"
    },
    {
     "data": {
      "application/json": {
       "ascii": false,
       "bar_format": "{desc} |{bar}| {elapsed} {postfix[0][value]}",
       "colour": null,
       "elapsed": 0.01811075210571289,
       "initial": 0,
       "n": 0,
       "ncols": null,
       "nrows": null,
       "postfix": [
        {
         "value": "Status"
        }
       ],
       "prefix": "chain 4",
       "rate": null,
       "total": 32,
       "unit": "it",
       "unit_divisor": 1000,
       "unit_scale": false
      },
      "application/vnd.jupyter.widget-view+json": {
       "model_id": "9b3557f5727e48609521273d169b6beb",
       "version_major": 2,
       "version_minor": 0
      },
      "text/plain": [
       "chain 4 |          | 00:00 Status"
      ]
     },
     "metadata": {},
     "output_type": "display_data"
    },
    {
     "name": "stdout",
     "output_type": "stream",
     "text": [
      "                                                                                                                                                                                                                                                                                                                                "
     ]
    },
    {
     "name": "stderr",
     "output_type": "stream",
     "text": [
      "2024-08-08 16:27:53 - orbit - INFO - Sampling (PyStan) with chains: 4, cores: 8, temperature: 1.000, warmups (per chain): 2500 and samples(per chain): 500.\n"
     ]
    },
    {
     "name": "stdout",
     "output_type": "stream",
     "text": [
      "\n"
     ]
    },
    {
     "data": {
      "application/json": {
       "ascii": false,
       "bar_format": "{desc} |{bar}| {elapsed} {postfix[0][value]}",
       "colour": null,
       "elapsed": 0.02771592140197754,
       "initial": 0,
       "n": 0,
       "ncols": null,
       "nrows": null,
       "postfix": [
        {
         "value": "Status"
        }
       ],
       "prefix": "chain 1",
       "rate": null,
       "total": 32,
       "unit": "it",
       "unit_divisor": 1000,
       "unit_scale": false
      },
      "application/vnd.jupyter.widget-view+json": {
       "model_id": "313cd3f59b7a454baa1713bdefbdd9d5",
       "version_major": 2,
       "version_minor": 0
      },
      "text/plain": [
       "chain 1 |          | 00:00 Status"
      ]
     },
     "metadata": {},
     "output_type": "display_data"
    },
    {
     "data": {
      "application/json": {
       "ascii": false,
       "bar_format": "{desc} |{bar}| {elapsed} {postfix[0][value]}",
       "colour": null,
       "elapsed": 0.02037978172302246,
       "initial": 0,
       "n": 0,
       "ncols": null,
       "nrows": null,
       "postfix": [
        {
         "value": "Status"
        }
       ],
       "prefix": "chain 2",
       "rate": null,
       "total": 32,
       "unit": "it",
       "unit_divisor": 1000,
       "unit_scale": false
      },
      "application/vnd.jupyter.widget-view+json": {
       "model_id": "a289531cd72d4761a977cf6741dcf42b",
       "version_major": 2,
       "version_minor": 0
      },
      "text/plain": [
       "chain 2 |          | 00:00 Status"
      ]
     },
     "metadata": {},
     "output_type": "display_data"
    },
    {
     "data": {
      "application/json": {
       "ascii": false,
       "bar_format": "{desc} |{bar}| {elapsed} {postfix[0][value]}",
       "colour": null,
       "elapsed": 0.016770124435424805,
       "initial": 0,
       "n": 0,
       "ncols": null,
       "nrows": null,
       "postfix": [
        {
         "value": "Status"
        }
       ],
       "prefix": "chain 3",
       "rate": null,
       "total": 32,
       "unit": "it",
       "unit_divisor": 1000,
       "unit_scale": false
      },
      "application/vnd.jupyter.widget-view+json": {
       "model_id": "5c9f2b9c8de44b9da39a3ac0831b1ad0",
       "version_major": 2,
       "version_minor": 0
      },
      "text/plain": [
       "chain 3 |          | 00:00 Status"
      ]
     },
     "metadata": {},
     "output_type": "display_data"
    },
    {
     "data": {
      "application/json": {
       "ascii": false,
       "bar_format": "{desc} |{bar}| {elapsed} {postfix[0][value]}",
       "colour": null,
       "elapsed": 0.019630908966064453,
       "initial": 0,
       "n": 0,
       "ncols": null,
       "nrows": null,
       "postfix": [
        {
         "value": "Status"
        }
       ],
       "prefix": "chain 4",
       "rate": null,
       "total": 32,
       "unit": "it",
       "unit_divisor": 1000,
       "unit_scale": false
      },
      "application/vnd.jupyter.widget-view+json": {
       "model_id": "122736c1c3b2475d8ac79bb214c33413",
       "version_major": 2,
       "version_minor": 0
      },
      "text/plain": [
       "chain 4 |          | 00:00 Status"
      ]
     },
     "metadata": {},
     "output_type": "display_data"
    },
    {
     "name": "stdout",
     "output_type": "stream",
     "text": [
      "                                                                                                                                                                                                                                                                                                                                \n"
     ]
    },
    {
     "name": "stderr",
     "output_type": "stream",
     "text": [
      "2024-08-08 16:27:56 - orbit - INFO - Sampling (PyStan) with chains: 4, cores: 8, temperature: 1.000, warmups (per chain): 2500 and samples(per chain): 500.\n"
     ]
    },
    {
     "data": {
      "application/json": {
       "ascii": false,
       "bar_format": "{desc} |{bar}| {elapsed} {postfix[0][value]}",
       "colour": null,
       "elapsed": 0.02091670036315918,
       "initial": 0,
       "n": 0,
       "ncols": null,
       "nrows": null,
       "postfix": [
        {
         "value": "Status"
        }
       ],
       "prefix": "chain 1",
       "rate": null,
       "total": 32,
       "unit": "it",
       "unit_divisor": 1000,
       "unit_scale": false
      },
      "application/vnd.jupyter.widget-view+json": {
       "model_id": "c3de7ff4839a446186a49ffd716664ee",
       "version_major": 2,
       "version_minor": 0
      },
      "text/plain": [
       "chain 1 |          | 00:00 Status"
      ]
     },
     "metadata": {},
     "output_type": "display_data"
    },
    {
     "data": {
      "application/json": {
       "ascii": false,
       "bar_format": "{desc} |{bar}| {elapsed} {postfix[0][value]}",
       "colour": null,
       "elapsed": 0.017899513244628906,
       "initial": 0,
       "n": 0,
       "ncols": null,
       "nrows": null,
       "postfix": [
        {
         "value": "Status"
        }
       ],
       "prefix": "chain 2",
       "rate": null,
       "total": 32,
       "unit": "it",
       "unit_divisor": 1000,
       "unit_scale": false
      },
      "application/vnd.jupyter.widget-view+json": {
       "model_id": "b8c3cffa6e6c486c972165f26287ed0a",
       "version_major": 2,
       "version_minor": 0
      },
      "text/plain": [
       "chain 2 |          | 00:00 Status"
      ]
     },
     "metadata": {},
     "output_type": "display_data"
    },
    {
     "data": {
      "application/json": {
       "ascii": false,
       "bar_format": "{desc} |{bar}| {elapsed} {postfix[0][value]}",
       "colour": null,
       "elapsed": 0.01889491081237793,
       "initial": 0,
       "n": 0,
       "ncols": null,
       "nrows": null,
       "postfix": [
        {
         "value": "Status"
        }
       ],
       "prefix": "chain 3",
       "rate": null,
       "total": 32,
       "unit": "it",
       "unit_divisor": 1000,
       "unit_scale": false
      },
      "application/vnd.jupyter.widget-view+json": {
       "model_id": "351f701ea26c4456845b539778b23663",
       "version_major": 2,
       "version_minor": 0
      },
      "text/plain": [
       "chain 3 |          | 00:00 Status"
      ]
     },
     "metadata": {},
     "output_type": "display_data"
    },
    {
     "data": {
      "application/json": {
       "ascii": false,
       "bar_format": "{desc} |{bar}| {elapsed} {postfix[0][value]}",
       "colour": null,
       "elapsed": 0.018483638763427734,
       "initial": 0,
       "n": 0,
       "ncols": null,
       "nrows": null,
       "postfix": [
        {
         "value": "Status"
        }
       ],
       "prefix": "chain 4",
       "rate": null,
       "total": 32,
       "unit": "it",
       "unit_divisor": 1000,
       "unit_scale": false
      },
      "application/vnd.jupyter.widget-view+json": {
       "model_id": "e2ab0bdccbe64788bbd0a84453586215",
       "version_major": 2,
       "version_minor": 0
      },
      "text/plain": [
       "chain 4 |          | 00:00 Status"
      ]
     },
     "metadata": {},
     "output_type": "display_data"
    },
    {
     "name": "stdout",
     "output_type": "stream",
     "text": [
      "                                                                                                                                                                                                                                                                                                                                \n"
     ]
    },
    {
     "name": "stderr",
     "output_type": "stream",
     "text": [
      "2024-08-08 16:27:59 - orbit - INFO - Sampling (PyStan) with chains: 4, cores: 8, temperature: 1.000, warmups (per chain): 2500 and samples(per chain): 500.\n"
     ]
    },
    {
     "data": {
      "application/json": {
       "ascii": false,
       "bar_format": "{desc} |{bar}| {elapsed} {postfix[0][value]}",
       "colour": null,
       "elapsed": 0.02355194091796875,
       "initial": 0,
       "n": 0,
       "ncols": null,
       "nrows": null,
       "postfix": [
        {
         "value": "Status"
        }
       ],
       "prefix": "chain 1",
       "rate": null,
       "total": 32,
       "unit": "it",
       "unit_divisor": 1000,
       "unit_scale": false
      },
      "application/vnd.jupyter.widget-view+json": {
       "model_id": "ac6fa22a77224c54a63edb30aecddb16",
       "version_major": 2,
       "version_minor": 0
      },
      "text/plain": [
       "chain 1 |          | 00:00 Status"
      ]
     },
     "metadata": {},
     "output_type": "display_data"
    },
    {
     "data": {
      "application/json": {
       "ascii": false,
       "bar_format": "{desc} |{bar}| {elapsed} {postfix[0][value]}",
       "colour": null,
       "elapsed": 0.01861739158630371,
       "initial": 0,
       "n": 0,
       "ncols": null,
       "nrows": null,
       "postfix": [
        {
         "value": "Status"
        }
       ],
       "prefix": "chain 2",
       "rate": null,
       "total": 32,
       "unit": "it",
       "unit_divisor": 1000,
       "unit_scale": false
      },
      "application/vnd.jupyter.widget-view+json": {
       "model_id": "d57f3e978a2e43688ad2da7ec09d0ec9",
       "version_major": 2,
       "version_minor": 0
      },
      "text/plain": [
       "chain 2 |          | 00:00 Status"
      ]
     },
     "metadata": {},
     "output_type": "display_data"
    },
    {
     "data": {
      "application/json": {
       "ascii": false,
       "bar_format": "{desc} |{bar}| {elapsed} {postfix[0][value]}",
       "colour": null,
       "elapsed": 0.018526554107666016,
       "initial": 0,
       "n": 0,
       "ncols": null,
       "nrows": null,
       "postfix": [
        {
         "value": "Status"
        }
       ],
       "prefix": "chain 3",
       "rate": null,
       "total": 32,
       "unit": "it",
       "unit_divisor": 1000,
       "unit_scale": false
      },
      "application/vnd.jupyter.widget-view+json": {
       "model_id": "c61c21b8f3154957a3f47d2de8a20bb9",
       "version_major": 2,
       "version_minor": 0
      },
      "text/plain": [
       "chain 3 |          | 00:00 Status"
      ]
     },
     "metadata": {},
     "output_type": "display_data"
    },
    {
     "data": {
      "application/json": {
       "ascii": false,
       "bar_format": "{desc} |{bar}| {elapsed} {postfix[0][value]}",
       "colour": null,
       "elapsed": 0.01687455177307129,
       "initial": 0,
       "n": 0,
       "ncols": null,
       "nrows": null,
       "postfix": [
        {
         "value": "Status"
        }
       ],
       "prefix": "chain 4",
       "rate": null,
       "total": 32,
       "unit": "it",
       "unit_divisor": 1000,
       "unit_scale": false
      },
      "application/vnd.jupyter.widget-view+json": {
       "model_id": "67694638a83f449b8755254f21e00293",
       "version_major": 2,
       "version_minor": 0
      },
      "text/plain": [
       "chain 4 |          | 00:00 Status"
      ]
     },
     "metadata": {},
     "output_type": "display_data"
    },
    {
     "name": "stdout",
     "output_type": "stream",
     "text": [
      "                                                                                                                                                                                                                                                                                                                                \n"
     ]
    },
    {
     "name": "stderr",
     "output_type": "stream",
     "text": [
      "2024-08-08 16:28:03 - orbit - INFO - Sampling (PyStan) with chains: 4, cores: 8, temperature: 1.000, warmups (per chain): 2500 and samples(per chain): 500.\n"
     ]
    },
    {
     "data": {
      "application/json": {
       "ascii": false,
       "bar_format": "{desc} |{bar}| {elapsed} {postfix[0][value]}",
       "colour": null,
       "elapsed": 0.02191448211669922,
       "initial": 0,
       "n": 0,
       "ncols": null,
       "nrows": null,
       "postfix": [
        {
         "value": "Status"
        }
       ],
       "prefix": "chain 1",
       "rate": null,
       "total": 32,
       "unit": "it",
       "unit_divisor": 1000,
       "unit_scale": false
      },
      "application/vnd.jupyter.widget-view+json": {
       "model_id": "59781ae9637649ff98eb233d9fe9ac17",
       "version_major": 2,
       "version_minor": 0
      },
      "text/plain": [
       "chain 1 |          | 00:00 Status"
      ]
     },
     "metadata": {},
     "output_type": "display_data"
    },
    {
     "data": {
      "application/json": {
       "ascii": false,
       "bar_format": "{desc} |{bar}| {elapsed} {postfix[0][value]}",
       "colour": null,
       "elapsed": 0.018141984939575195,
       "initial": 0,
       "n": 0,
       "ncols": null,
       "nrows": null,
       "postfix": [
        {
         "value": "Status"
        }
       ],
       "prefix": "chain 2",
       "rate": null,
       "total": 32,
       "unit": "it",
       "unit_divisor": 1000,
       "unit_scale": false
      },
      "application/vnd.jupyter.widget-view+json": {
       "model_id": "f6edd5c113f2405a8fe47708039e3da3",
       "version_major": 2,
       "version_minor": 0
      },
      "text/plain": [
       "chain 2 |          | 00:00 Status"
      ]
     },
     "metadata": {},
     "output_type": "display_data"
    },
    {
     "data": {
      "application/json": {
       "ascii": false,
       "bar_format": "{desc} |{bar}| {elapsed} {postfix[0][value]}",
       "colour": null,
       "elapsed": 0.019245624542236328,
       "initial": 0,
       "n": 0,
       "ncols": null,
       "nrows": null,
       "postfix": [
        {
         "value": "Status"
        }
       ],
       "prefix": "chain 3",
       "rate": null,
       "total": 32,
       "unit": "it",
       "unit_divisor": 1000,
       "unit_scale": false
      },
      "application/vnd.jupyter.widget-view+json": {
       "model_id": "e2d3d77d91bb4152b01b0dc8811d4b5a",
       "version_major": 2,
       "version_minor": 0
      },
      "text/plain": [
       "chain 3 |          | 00:00 Status"
      ]
     },
     "metadata": {},
     "output_type": "display_data"
    },
    {
     "data": {
      "application/json": {
       "ascii": false,
       "bar_format": "{desc} |{bar}| {elapsed} {postfix[0][value]}",
       "colour": null,
       "elapsed": 0.02124643325805664,
       "initial": 0,
       "n": 0,
       "ncols": null,
       "nrows": null,
       "postfix": [
        {
         "value": "Status"
        }
       ],
       "prefix": "chain 4",
       "rate": null,
       "total": 32,
       "unit": "it",
       "unit_divisor": 1000,
       "unit_scale": false
      },
      "application/vnd.jupyter.widget-view+json": {
       "model_id": "9ef57651ccae49a0ad09d3cefc2ef25d",
       "version_major": 2,
       "version_minor": 0
      },
      "text/plain": [
       "chain 4 |          | 00:00 Status"
      ]
     },
     "metadata": {},
     "output_type": "display_data"
    },
    {
     "name": "stdout",
     "output_type": "stream",
     "text": [
      "                                                                                                                                                                                                                                                                                                                                \n"
     ]
    },
    {
     "name": "stderr",
     "output_type": "stream",
     "text": [
      "2024-08-08 16:28:08 - orbit - INFO - Sampling (PyStan) with chains: 4, cores: 8, temperature: 1.000, warmups (per chain): 2500 and samples(per chain): 500.\n"
     ]
    },
    {
     "data": {
      "application/json": {
       "ascii": false,
       "bar_format": "{desc} |{bar}| {elapsed} {postfix[0][value]}",
       "colour": null,
       "elapsed": 0.020224809646606445,
       "initial": 0,
       "n": 0,
       "ncols": null,
       "nrows": null,
       "postfix": [
        {
         "value": "Status"
        }
       ],
       "prefix": "chain 1",
       "rate": null,
       "total": 32,
       "unit": "it",
       "unit_divisor": 1000,
       "unit_scale": false
      },
      "application/vnd.jupyter.widget-view+json": {
       "model_id": "4161b6505961405b9add39e1d111ad21",
       "version_major": 2,
       "version_minor": 0
      },
      "text/plain": [
       "chain 1 |          | 00:00 Status"
      ]
     },
     "metadata": {},
     "output_type": "display_data"
    },
    {
     "data": {
      "application/json": {
       "ascii": false,
       "bar_format": "{desc} |{bar}| {elapsed} {postfix[0][value]}",
       "colour": null,
       "elapsed": 0.015532493591308594,
       "initial": 0,
       "n": 0,
       "ncols": null,
       "nrows": null,
       "postfix": [
        {
         "value": "Status"
        }
       ],
       "prefix": "chain 2",
       "rate": null,
       "total": 32,
       "unit": "it",
       "unit_divisor": 1000,
       "unit_scale": false
      },
      "application/vnd.jupyter.widget-view+json": {
       "model_id": "9143c52cf2ab4183ad35b3ad2657a7b0",
       "version_major": 2,
       "version_minor": 0
      },
      "text/plain": [
       "chain 2 |          | 00:00 Status"
      ]
     },
     "metadata": {},
     "output_type": "display_data"
    },
    {
     "data": {
      "application/json": {
       "ascii": false,
       "bar_format": "{desc} |{bar}| {elapsed} {postfix[0][value]}",
       "colour": null,
       "elapsed": 0.015445947647094727,
       "initial": 0,
       "n": 0,
       "ncols": null,
       "nrows": null,
       "postfix": [
        {
         "value": "Status"
        }
       ],
       "prefix": "chain 3",
       "rate": null,
       "total": 32,
       "unit": "it",
       "unit_divisor": 1000,
       "unit_scale": false
      },
      "application/vnd.jupyter.widget-view+json": {
       "model_id": "2d7c6123669f43a0a1b0703176feec58",
       "version_major": 2,
       "version_minor": 0
      },
      "text/plain": [
       "chain 3 |          | 00:00 Status"
      ]
     },
     "metadata": {},
     "output_type": "display_data"
    },
    {
     "data": {
      "application/json": {
       "ascii": false,
       "bar_format": "{desc} |{bar}| {elapsed} {postfix[0][value]}",
       "colour": null,
       "elapsed": 0.015616416931152344,
       "initial": 0,
       "n": 0,
       "ncols": null,
       "nrows": null,
       "postfix": [
        {
         "value": "Status"
        }
       ],
       "prefix": "chain 4",
       "rate": null,
       "total": 32,
       "unit": "it",
       "unit_divisor": 1000,
       "unit_scale": false
      },
      "application/vnd.jupyter.widget-view+json": {
       "model_id": "8ea70bd6a274420789ce3f25d6a20bb6",
       "version_major": 2,
       "version_minor": 0
      },
      "text/plain": [
       "chain 4 |          | 00:00 Status"
      ]
     },
     "metadata": {},
     "output_type": "display_data"
    },
    {
     "name": "stdout",
     "output_type": "stream",
     "text": [
      "                                                                                                                                                                                                                                                                                                                                \n"
     ]
    },
    {
     "name": "stderr",
     "output_type": "stream",
     "text": [
      "2024-08-08 16:28:13 - orbit - INFO - Sampling (PyStan) with chains: 4, cores: 8, temperature: 1.000, warmups (per chain): 2500 and samples(per chain): 500.\n"
     ]
    },
    {
     "data": {
      "application/json": {
       "ascii": false,
       "bar_format": "{desc} |{bar}| {elapsed} {postfix[0][value]}",
       "colour": null,
       "elapsed": 0.020055532455444336,
       "initial": 0,
       "n": 0,
       "ncols": null,
       "nrows": null,
       "postfix": [
        {
         "value": "Status"
        }
       ],
       "prefix": "chain 1",
       "rate": null,
       "total": 32,
       "unit": "it",
       "unit_divisor": 1000,
       "unit_scale": false
      },
      "application/vnd.jupyter.widget-view+json": {
       "model_id": "0b165e6798ec4c889a1d9158b1b87bc9",
       "version_major": 2,
       "version_minor": 0
      },
      "text/plain": [
       "chain 1 |          | 00:00 Status"
      ]
     },
     "metadata": {},
     "output_type": "display_data"
    },
    {
     "data": {
      "application/json": {
       "ascii": false,
       "bar_format": "{desc} |{bar}| {elapsed} {postfix[0][value]}",
       "colour": null,
       "elapsed": 0.01648092269897461,
       "initial": 0,
       "n": 0,
       "ncols": null,
       "nrows": null,
       "postfix": [
        {
         "value": "Status"
        }
       ],
       "prefix": "chain 2",
       "rate": null,
       "total": 32,
       "unit": "it",
       "unit_divisor": 1000,
       "unit_scale": false
      },
      "application/vnd.jupyter.widget-view+json": {
       "model_id": "5b4432958a514d65a217873d27416263",
       "version_major": 2,
       "version_minor": 0
      },
      "text/plain": [
       "chain 2 |          | 00:00 Status"
      ]
     },
     "metadata": {},
     "output_type": "display_data"
    },
    {
     "data": {
      "application/json": {
       "ascii": false,
       "bar_format": "{desc} |{bar}| {elapsed} {postfix[0][value]}",
       "colour": null,
       "elapsed": 0.016065359115600586,
       "initial": 0,
       "n": 0,
       "ncols": null,
       "nrows": null,
       "postfix": [
        {
         "value": "Status"
        }
       ],
       "prefix": "chain 3",
       "rate": null,
       "total": 32,
       "unit": "it",
       "unit_divisor": 1000,
       "unit_scale": false
      },
      "application/vnd.jupyter.widget-view+json": {
       "model_id": "39571bcb595d40d4998af54fa5f6f276",
       "version_major": 2,
       "version_minor": 0
      },
      "text/plain": [
       "chain 3 |          | 00:00 Status"
      ]
     },
     "metadata": {},
     "output_type": "display_data"
    },
    {
     "data": {
      "application/json": {
       "ascii": false,
       "bar_format": "{desc} |{bar}| {elapsed} {postfix[0][value]}",
       "colour": null,
       "elapsed": 0.01555013656616211,
       "initial": 0,
       "n": 0,
       "ncols": null,
       "nrows": null,
       "postfix": [
        {
         "value": "Status"
        }
       ],
       "prefix": "chain 4",
       "rate": null,
       "total": 32,
       "unit": "it",
       "unit_divisor": 1000,
       "unit_scale": false
      },
      "application/vnd.jupyter.widget-view+json": {
       "model_id": "1d712b8700aa4efcab3db83e06c2de1f",
       "version_major": 2,
       "version_minor": 0
      },
      "text/plain": [
       "chain 4 |          | 00:00 Status"
      ]
     },
     "metadata": {},
     "output_type": "display_data"
    },
    {
     "name": "stdout",
     "output_type": "stream",
     "text": [
      "                                                                                                                                                                                                                                                                                                                                \n"
     ]
    },
    {
     "data": {
      "text/html": [
       "<div>\n",
       "<style scoped>\n",
       "    .dataframe tbody tr th:only-of-type {\n",
       "        vertical-align: middle;\n",
       "    }\n",
       "\n",
       "    .dataframe tbody tr th {\n",
       "        vertical-align: top;\n",
       "    }\n",
       "\n",
       "    .dataframe thead th {\n",
       "        text-align: right;\n",
       "    }\n",
       "</style>\n",
       "<table border=\"1\" class=\"dataframe\">\n",
       "  <thead>\n",
       "    <tr style=\"text-align: right;\">\n",
       "      <th></th>\n",
       "      <th>metric_name</th>\n",
       "      <th>metric_values</th>\n",
       "      <th>is_training_metric</th>\n",
       "    </tr>\n",
       "  </thead>\n",
       "  <tbody>\n",
       "    <tr>\n",
       "      <th>0</th>\n",
       "      <td>smape</td>\n",
       "      <td>0.038235</td>\n",
       "      <td>False</td>\n",
       "    </tr>\n",
       "    <tr>\n",
       "      <th>1</th>\n",
       "      <td>wmape</td>\n",
       "      <td>0.031697</td>\n",
       "      <td>False</td>\n",
       "    </tr>\n",
       "    <tr>\n",
       "      <th>2</th>\n",
       "      <td>mape</td>\n",
       "      <td>0.038031</td>\n",
       "      <td>False</td>\n",
       "    </tr>\n",
       "    <tr>\n",
       "      <th>3</th>\n",
       "      <td>mse</td>\n",
       "      <td>353248.341041</td>\n",
       "      <td>False</td>\n",
       "    </tr>\n",
       "    <tr>\n",
       "      <th>4</th>\n",
       "      <td>mae</td>\n",
       "      <td>449.523347</td>\n",
       "      <td>False</td>\n",
       "    </tr>\n",
       "    <tr>\n",
       "      <th>5</th>\n",
       "      <td>rmsse</td>\n",
       "      <td>1.212681</td>\n",
       "      <td>False</td>\n",
       "    </tr>\n",
       "  </tbody>\n",
       "</table>\n",
       "</div>"
      ],
      "text/plain": [
       "  metric_name  metric_values  is_training_metric\n",
       "0       smape       0.038235               False\n",
       "1       wmape       0.031697               False\n",
       "2        mape       0.038031               False\n",
       "3         mse  353248.341041               False\n",
       "4         mae     449.523347               False\n",
       "5       rmsse       1.212681               False"
      ]
     },
     "execution_count": 72,
     "metadata": {},
     "output_type": "execute_result"
    }
   ],
   "source": [
    "bt_exp.fit_predict()\n",
    "bt_exp.score()"
   ]
  },
  {
   "cell_type": "code",
   "execution_count": 73,
   "id": "c3b6ffdc-582a-4227-91cb-c668659cf1ef",
   "metadata": {},
   "outputs": [
    {
     "data": {
      "text/plain": [
       "dict_keys(['l', 'b', 'lev_sm', 'slp_sm', 'obs_sigma', 'nu', 'lt_sum', 's', 'sea_sm', 'gt_sum', 'gb', 'gl', 'loglk'])"
      ]
     },
     "execution_count": 73,
     "metadata": {},
     "output_type": "execute_result"
    }
   ],
   "source": [
    "params = clear_dlt.get_posterior_samples(permute=False) #достаём информацию о параметрах\n",
    "\n",
    "params.keys() #их названия - можно залезть в оригинальный код на Stan, чтобы вычислить их значение"
   ]
  },
  {
   "cell_type": "code",
   "execution_count": 74,
   "id": "bce5cc1f-e1f5-42e8-88a4-bedd4611f1ca",
   "metadata": {},
   "outputs": [
    {
     "data": {
      "text/plain": [
       "(4, 500)"
      ]
     },
     "execution_count": 74,
     "metadata": {},
     "output_type": "execute_result"
    }
   ],
   "source": [
    "params[\"obs_sigma\"].shape #лучше смотреть те, у которых третьего измерения либо нет, либо оно равно 1"
   ]
  },
  {
   "cell_type": "code",
   "execution_count": 75,
   "id": "155638ec-4dfa-4109-81e3-de22d07bbc61",
   "metadata": {},
   "outputs": [
    {
     "data": {
      "image/png": "[encoded data removed]",
      "text/plain": [
       "<Figure size 864x144 with 2 Axes>"
      ]
     },
     "metadata": {},
     "output_type": "display_data"
    }
   ],
   "source": [
    "az.plot_trace(params, chain_prop={\"color\": ['r', 'b', 'g', 'y']}, var_names = \"obs_sigma\")\n",
    "plt.show()"
   ]
  },
  {
   "cell_type": "code",
   "execution_count": 76,
   "id": "871124af-27b2-4c9d-a5e9-3c5de816eb60",
   "metadata": {},
   "outputs": [],
   "source": [
    "train_df = clear_df.query(\"date < '2024-07-20'\")\n",
    "test_df = clear_df.query(\"date >= '2024-07-20'\").astype({\"views\": \"int64\"})"
   ]
  },
  {
   "cell_type": "code",
   "execution_count": 77,
   "id": "ab11b195-621a-4cce-99fc-3dfb55a1481a",
   "metadata": {},
   "outputs": [],
   "source": [
    "dlt_reg = DLT(response_col=\"users\", #название колонки с метрикой\n",
    "          date_col=\"date\", #название колонки с датами-временем\n",
    "          seasonality=7, #длина периода сезонности \n",
    "          estimator=\"stan-mcmc\", #алгоритм оценки\n",
    "          num_warmup = 2000,\n",
    "          num_sample = 1000\n",
    "          #regressor_col = ['views']\n",
    "         ) #количество сэмплов бутстрапа для доверительного интервала"
   ]
  },
  {
   "cell_type": "code",
   "execution_count": 78,
   "id": "bbfaa166-8524-436b-a153-b48870dd3327",
   "metadata": {},
   "outputs": [
    {
     "name": "stderr",
     "output_type": "stream",
     "text": [
      "2024-08-08 16:29:44 - orbit - INFO - Sampling (PyStan) with chains: 4, cores: 8, temperature: 1.000, warmups (per chain): 500 and samples(per chain): 250.\n"
     ]
    },
    {
     "data": {
      "application/json": {
       "ascii": false,
       "bar_format": "{desc} |{bar}| {elapsed} {postfix[0][value]}",
       "colour": null,
       "elapsed": 0.02240157127380371,
       "initial": 0,
       "n": 0,
       "ncols": null,
       "nrows": null,
       "postfix": [
        {
         "value": "Status"
        }
       ],
       "prefix": "chain 1",
       "rate": null,
       "total": 9,
       "unit": "it",
       "unit_divisor": 1000,
       "unit_scale": false
      },
      "application/vnd.jupyter.widget-view+json": {
       "model_id": "1061db62c8fa4cbf9789505e1e4f5217",
       "version_major": 2,
       "version_minor": 0
      },
      "text/plain": [
       "chain 1 |          | 00:00 Status"
      ]
     },
     "metadata": {},
     "output_type": "display_data"
    },
    {
     "data": {
      "application/json": {
       "ascii": false,
       "bar_format": "{desc} |{bar}| {elapsed} {postfix[0][value]}",
       "colour": null,
       "elapsed": 0.02022695541381836,
       "initial": 0,
       "n": 0,
       "ncols": null,
       "nrows": null,
       "postfix": [
        {
         "value": "Status"
        }
       ],
       "prefix": "chain 2",
       "rate": null,
       "total": 9,
       "unit": "it",
       "unit_divisor": 1000,
       "unit_scale": false
      },
      "application/vnd.jupyter.widget-view+json": {
       "model_id": "fe2addf068f542f984b447fc05fed8ac",
       "version_major": 2,
       "version_minor": 0
      },
      "text/plain": [
       "chain 2 |          | 00:00 Status"
      ]
     },
     "metadata": {},
     "output_type": "display_data"
    },
    {
     "data": {
      "application/json": {
       "ascii": false,
       "bar_format": "{desc} |{bar}| {elapsed} {postfix[0][value]}",
       "colour": null,
       "elapsed": 0.01700115203857422,
       "initial": 0,
       "n": 0,
       "ncols": null,
       "nrows": null,
       "postfix": [
        {
         "value": "Status"
        }
       ],
       "prefix": "chain 3",
       "rate": null,
       "total": 9,
       "unit": "it",
       "unit_divisor": 1000,
       "unit_scale": false
      },
      "application/vnd.jupyter.widget-view+json": {
       "model_id": "6eb5a8a980cd448bbc294068fe9f8aad",
       "version_major": 2,
       "version_minor": 0
      },
      "text/plain": [
       "chain 3 |          | 00:00 Status"
      ]
     },
     "metadata": {},
     "output_type": "display_data"
    },
    {
     "data": {
      "application/json": {
       "ascii": false,
       "bar_format": "{desc} |{bar}| {elapsed} {postfix[0][value]}",
       "colour": null,
       "elapsed": 0.01754164695739746,
       "initial": 0,
       "n": 0,
       "ncols": null,
       "nrows": null,
       "postfix": [
        {
         "value": "Status"
        }
       ],
       "prefix": "chain 4",
       "rate": null,
       "total": 9,
       "unit": "it",
       "unit_divisor": 1000,
       "unit_scale": false
      },
      "application/vnd.jupyter.widget-view+json": {
       "model_id": "6de32e627ff9465ca7caecb38c9cfa47",
       "version_major": 2,
       "version_minor": 0
      },
      "text/plain": [
       "chain 4 |          | 00:00 Status"
      ]
     },
     "metadata": {},
     "output_type": "display_data"
    },
    {
     "name": "stdout",
     "output_type": "stream",
     "text": [
      "                                                                                                                                                                                                                                                                                                                                \n"
     ]
    },
    {
     "data": {
      "text/plain": [
       "<orbit.forecaster.full_bayes.FullBayesianForecaster at 0x7fefe6aabcd0>"
      ]
     },
     "execution_count": 78,
     "metadata": {},
     "output_type": "execute_result"
    }
   ],
   "source": [
    "dlt_reg.fit(train_df)"
   ]
  },
  {
   "cell_type": "code",
   "execution_count": 79,
   "id": "f2d3add9-1f95-4efe-8da1-a20b8286a16b",
   "metadata": {},
   "outputs": [],
   "source": [
    "predicted_df_reg = dlt_reg.predict(df=test_df)"
   ]
  },
  {
   "cell_type": "code",
   "execution_count": 80,
   "id": "f40c61b2-ecb2-48d8-bbf1-fd617cd3a295",
   "metadata": {},
   "outputs": [
    {
     "name": "stderr",
     "output_type": "stream",
     "text": [
      "findfont: Generic family 'sans-serif' not found because none of the following families were found: Arial\n",
      "findfont: Generic family 'sans-serif' not found because none of the following families were found: Arial\n",
      "findfont: Generic family 'sans-serif' not found because none of the following families were found: Arial\n",
      "findfont: Generic family 'sans-serif' not found because none of the following families were found: Arial\n",
      "findfont: Generic family 'sans-serif' not found because none of the following families were found: Arial\n",
      "findfont: Generic family 'sans-serif' not found because none of the following families were found: Arial\n",
      "findfont: Generic family 'sans-serif' not found because none of the following families were found: Arial\n",
      "findfont: Generic family 'sans-serif' not found because none of the following families were found: Arial\n",
      "findfont: Generic family 'sans-serif' not found because none of the following families were found: Arial\n",
      "findfont: Generic family 'sans-serif' not found because none of the following families were found: Arial\n",
      "findfont: Generic family 'sans-serif' not found because none of the following families were found: Arial\n",
      "findfont: Generic family 'sans-serif' not found because none of the following families were found: Arial\n",
      "findfont: Generic family 'sans-serif' not found because none of the following families were found: Arial\n",
      "findfont: Generic family 'sans-serif' not found because none of the following families were found: Arial\n",
      "findfont: Generic family 'sans-serif' not found because none of the following families were found: Arial\n",
      "findfont: Generic family 'sans-serif' not found because none of the following families were found: Arial\n",
      "findfont: Generic family 'sans-serif' not found because none of the following families were found: Arial\n",
      "findfont: Generic family 'sans-serif' not found because none of the following families were found: Arial\n",
      "findfont: Generic family 'sans-serif' not found because none of the following families were found: Arial\n",
      "findfont: Generic family 'sans-serif' not found because none of the following families were found: Arial\n",
      "findfont: Generic family 'sans-serif' not found because none of the following families were found: Arial\n",
      "findfont: Generic family 'sans-serif' not found because none of the following families were found: Arial\n",
      "findfont: Generic family 'sans-serif' not found because none of the following families were found: Arial\n",
      "findfont: Generic family 'sans-serif' not found because none of the following families were found: Arial\n",
      "findfont: Generic family 'sans-serif' not found because none of the following families were found: Arial\n",
      "findfont: Generic family 'sans-serif' not found because none of the following families were found: Arial\n",
      "findfont: Generic family 'sans-serif' not found because none of the following families were found: Arial\n",
      "findfont: Generic family 'sans-serif' not found because none of the following families were found: Arial\n",
      "findfont: Generic family 'sans-serif' not found because none of the following families were found: Arial\n",
      "findfont: Generic family 'sans-serif' not found because none of the following families were found: Arial\n",
      "findfont: Generic family 'sans-serif' not found because none of the following families were found: Arial\n",
      "findfont: Generic family 'sans-serif' not found because none of the following families were found: Arial\n",
      "findfont: Generic family 'sans-serif' not found because none of the following families were found: Arial\n",
      "findfont: Generic family 'sans-serif' not found because none of the following families were found: Arial\n",
      "findfont: Generic family 'sans-serif' not found because none of the following families were found: Arial\n",
      "findfont: Generic family 'sans-serif' not found because none of the following families were found: Arial\n",
      "findfont: Generic family 'sans-serif' not found because none of the following families were found: Arial\n",
      "findfont: Generic family 'sans-serif' not found because none of the following families were found: Arial\n",
      "findfont: Generic family 'sans-serif' not found because none of the following families were found: Arial\n",
      "findfont: Generic family 'sans-serif' not found because none of the following families were found: Arial\n",
      "findfont: Generic family 'sans-serif' not found because none of the following families were found: Arial\n",
      "findfont: Generic family 'sans-serif' not found because none of the following families were found: Arial\n",
      "findfont: Generic family 'sans-serif' not found because none of the following families were found: Arial\n",
      "findfont: Generic family 'sans-serif' not found because none of the following families were found: Arial\n",
      "findfont: Generic family 'sans-serif' not found because none of the following families were found: Arial\n",
      "findfont: Generic family 'sans-serif' not found because none of the following families were found: Arial\n",
      "findfont: Generic family 'sans-serif' not found because none of the following families were found: Arial\n",
      "findfont: Generic family 'sans-serif' not found because none of the following families were found: Arial\n",
      "findfont: Generic family 'sans-serif' not found because none of the following families were found: Arial\n",
      "findfont: Generic family 'sans-serif' not found because none of the following families were found: Arial\n",
      "findfont: Generic family 'sans-serif' not found because none of the following families were found: Arial\n",
      "findfont: Generic family 'sans-serif' not found because none of the following families were found: Arial\n",
      "findfont: Generic family 'sans-serif' not found because none of the following families were found: Arial\n",
      "findfont: Generic family 'sans-serif' not found because none of the following families were found: Arial\n",
      "findfont: Generic family 'sans-serif' not found because none of the following families were found: Arial\n",
      "findfont: Generic family 'sans-serif' not found because none of the following families were found: Arial\n",
      "findfont: Generic family 'sans-serif' not found because none of the following families were found: Arial\n",
      "findfont: Generic family 'sans-serif' not found because none of the following families were found: Arial\n",
      "findfont: Generic family 'sans-serif' not found because none of the following families were found: Arial\n",
      "findfont: Generic family 'sans-serif' not found because none of the following families were found: Arial\n",
      "findfont: Generic family 'sans-serif' not found because none of the following families were found: Arial\n",
      "findfont: Generic family 'sans-serif' not found because none of the following families were found: Arial\n",
      "findfont: Generic family 'sans-serif' not found because none of the following families were found: Arial\n",
      "findfont: Generic family 'sans-serif' not found because none of the following families were found: Arial\n",
      "findfont: Generic family 'sans-serif' not found because none of the following families were found: Arial\n",
      "findfont: Generic family 'sans-serif' not found because none of the following families were found: Arial\n",
      "findfont: Generic family 'sans-serif' not found because none of the following families were found: Arial\n",
      "findfont: Generic family 'sans-serif' not found because none of the following families were found: Arial\n",
      "findfont: Generic family 'sans-serif' not found because none of the following families were found: Arial\n",
      "findfont: Generic family 'sans-serif' not found because none of the following families were found: Arial\n",
      "findfont: Generic family 'sans-serif' not found because none of the following families were found: Arial\n",
      "findfont: Generic family 'sans-serif' not found because none of the following families were found: Arial\n",
      "findfont: Generic family 'sans-serif' not found because none of the following families were found: Arial\n",
      "findfont: Generic family 'sans-serif' not found because none of the following families were found: Arial\n"
     ]
    },
    {
     "data": {
      "image/png": "[encoded data removed]",
      "text/plain": [
       "<Figure size 1600x800 with 1 Axes>"
      ]
     },
     "metadata": {},
     "output_type": "display_data"
    }
   ],
   "source": [
    "_ = plot_predicted_data(clear_df, predicted_df_reg, \"date\", 'users', title='Prediction with DLT')"
   ]
  },
  {
   "cell_type": "markdown",
   "id": "bf8daec7-84f1-46a0-ad39-8f1deadda42c",
   "metadata": {},
   "source": [
    "Регрессоры в данном случае дают позитивного влияния.\n",
    "\n",
    "но судя по нашим тестам, мы можем относительно точно предсказывать ДАУ на неделю вперед (в лучшем случае на 2). В дальнейшем идет сильное расхождение и я думаю, что для более долгосрочных предсказаний нам нужно собрать больше данных"
   ]
  },
  {
   "cell_type": "code",
   "execution_count": null,
   "id": "4e813f86-debf-45fa-b923-25b1ed900d22",
   "metadata": {},
   "outputs": [],
   "source": []
  },
  {
   "cell_type": "code",
   "execution_count": null,
   "id": "36827057-0917-40b4-8645-9bc73fbfc2ef",
   "metadata": {},
   "outputs": [],
   "source": []
  }
 ],
 "metadata": {
  "kernelspec": {
   "display_name": "Python 3 (ipykernel)",
   "language": "python",
   "name": "python3"
  },
  "language_info": {
   "codemirror_mode": {
    "name": "ipython",
    "version": 3
   },
   "file_extension": ".py",
   "mimetype": "text/x-python",
   "name": "python",
   "nbconvert_exporter": "python",
   "pygments_lexer": "ipython3",
   "version": "3.8.10"
  }
 },
 "nbformat": 4,
 "nbformat_minor": 5
}
