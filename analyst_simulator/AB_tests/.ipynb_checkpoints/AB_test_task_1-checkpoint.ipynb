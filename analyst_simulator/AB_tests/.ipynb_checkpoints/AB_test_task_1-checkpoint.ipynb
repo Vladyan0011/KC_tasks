{
 "cells": [
  {
   "cell_type": "markdown",
   "id": "ee2232d0-11b2-41b2-a072-f7f46180f4e8",
   "metadata": {
    "tags": []
   },
   "source": [
    "# 4 урок. 1 задание.\n",
    "\n",
    "## Задание\n",
    "У нас есть данные А/А-теста с '2024-06-21' по '2024-06-27'. Вам нужно сделать симуляцию, как будто мы провели 10000 А/А-тестов. На каждой итерации вам нужно сформировать подвыборки без повторения в 500 юзеров из 2 и 3 экспериментальной группы. Провести сравнение этих подвыборок t-testом.\n",
    "\n",
    "1. Построить гистограмму распределения получившихся 10000 p-values.\n",
    "\n",
    "2. Посчитать, какой процент p values оказался меньше либо равен 0.05\n",
    "\n",
    "3. Написать вывод по проведенному А/А-тесту, корректно ли работает наша система сплитования. При выполнении задания важно обосновать и аргументировать ваш вывод.\n",
    "\n",
    "4. Пришлите ссылку на merge request c проведенным анализом."
   ]
  },
  {
   "cell_type": "markdown",
   "id": "4d7c5c73-63bb-40c8-83dd-347c7dcf5142",
   "metadata": {},
   "source": [
    "## Импорты нужных библиотек"
   ]
  },
  {
   "cell_type": "code",
   "execution_count": 26,
   "id": "e163c130-3b49-41b1-978d-860756acc2ba",
   "metadata": {},
   "outputs": [],
   "source": [
    "import pandas as pd\n",
    "import numpy as np\n",
    "import seaborn as sns\n",
    "import pandahouse\n",
    "from scipy import stats\n",
    "from matplotlib import pyplot as plt"
   ]
  },
  {
   "cell_type": "markdown",
   "id": "93eab38e-13c9-42ff-adb8-74eaf5e87637",
   "metadata": {},
   "source": [
    "## Подключение БД и запрос данных за период A/A теста"
   ]
  },
  {
   "cell_type": "code",
   "execution_count": 2,
   "id": "1e11bad3-433a-4a10-8f3c-7a12b1f106f5",
   "metadata": {},
   "outputs": [],
   "source": [
    "connection = {'host': 'https://clickhouse.lab.karpov.courses',\n",
    "'database':'simulator_20240720',\n",
    "'user':'student',\n",
    "'password':'dpo_python_2020'\n",
    "}"
   ]
  },
  {
   "cell_type": "code",
   "execution_count": 3,
   "id": "2e3b6a0b-7a2e-4072-ba7f-31b722483152",
   "metadata": {},
   "outputs": [],
   "source": [
    "q = '''\n",
    "SELECT exp_group, \n",
    "    user_id,\n",
    "    sum(action = 'like') as likes,\n",
    "    sum(action = 'view') as views,\n",
    "    likes/views as ctr\n",
    "FROM {db}.feed_actions\n",
    "WHERE toDate(time) between '2024-06-21' and '2024-06-27'\n",
    "    and exp_group in (2,3)\n",
    "GROUP BY exp_group, user_id\n",
    "'''"
   ]
  },
  {
   "cell_type": "code",
   "execution_count": 4,
   "id": "8c121112-7a44-4cda-abfe-9f0e46c701fb",
   "metadata": {},
   "outputs": [],
   "source": [
    "df = pandahouse.read_clickhouse(q, connection=connection)"
   ]
  },
  {
   "cell_type": "code",
   "execution_count": 5,
   "id": "1057735d-489f-4ea8-aa1b-06fe2389f9d4",
   "metadata": {},
   "outputs": [
    {
     "data": {
      "text/html": [
       "<div>\n",
       "<style scoped>\n",
       "    .dataframe tbody tr th:only-of-type {\n",
       "        vertical-align: middle;\n",
       "    }\n",
       "\n",
       "    .dataframe tbody tr th {\n",
       "        vertical-align: top;\n",
       "    }\n",
       "\n",
       "    .dataframe thead th {\n",
       "        text-align: right;\n",
       "    }\n",
       "</style>\n",
       "<table border=\"1\" class=\"dataframe\">\n",
       "  <thead>\n",
       "    <tr style=\"text-align: right;\">\n",
       "      <th></th>\n",
       "      <th>exp_group</th>\n",
       "      <th>user_id</th>\n",
       "      <th>likes</th>\n",
       "      <th>views</th>\n",
       "      <th>ctr</th>\n",
       "    </tr>\n",
       "  </thead>\n",
       "  <tbody>\n",
       "    <tr>\n",
       "      <th>0</th>\n",
       "      <td>3</td>\n",
       "      <td>115383</td>\n",
       "      <td>38</td>\n",
       "      <td>248</td>\n",
       "      <td>0.153226</td>\n",
       "    </tr>\n",
       "    <tr>\n",
       "      <th>1</th>\n",
       "      <td>3</td>\n",
       "      <td>10326</td>\n",
       "      <td>24</td>\n",
       "      <td>132</td>\n",
       "      <td>0.181818</td>\n",
       "    </tr>\n",
       "    <tr>\n",
       "      <th>2</th>\n",
       "      <td>3</td>\n",
       "      <td>123580</td>\n",
       "      <td>25</td>\n",
       "      <td>122</td>\n",
       "      <td>0.204918</td>\n",
       "    </tr>\n",
       "    <tr>\n",
       "      <th>3</th>\n",
       "      <td>2</td>\n",
       "      <td>131473</td>\n",
       "      <td>19</td>\n",
       "      <td>98</td>\n",
       "      <td>0.193878</td>\n",
       "    </tr>\n",
       "    <tr>\n",
       "      <th>4</th>\n",
       "      <td>2</td>\n",
       "      <td>23985</td>\n",
       "      <td>12</td>\n",
       "      <td>44</td>\n",
       "      <td>0.272727</td>\n",
       "    </tr>\n",
       "  </tbody>\n",
       "</table>\n",
       "</div>"
      ],
      "text/plain": [
       "   exp_group  user_id  likes  views       ctr\n",
       "0          3   115383     38    248  0.153226\n",
       "1          3    10326     24    132  0.181818\n",
       "2          3   123580     25    122  0.204918\n",
       "3          2   131473     19     98  0.193878\n",
       "4          2    23985     12     44  0.272727"
      ]
     },
     "execution_count": 5,
     "metadata": {},
     "output_type": "execute_result"
    }
   ],
   "source": [
    "df.head()"
   ]
  },
  {
   "cell_type": "markdown",
   "id": "b2de5243-bd5f-4073-acae-0fd77469c00e",
   "metadata": {},
   "source": [
    "Данные загружены успешно."
   ]
  },
  {
   "cell_type": "markdown",
   "id": "c92b1b95-aac1-42f3-9793-095b1f0ec1ee",
   "metadata": {},
   "source": [
    "## Симулируем проведение 10000 А/А тестов, на выборках из 500 человек"
   ]
  },
  {
   "cell_type": "code",
   "execution_count": 21,
   "id": "edab4f53-e9e7-4b83-940c-b371fb11c2c9",
   "metadata": {},
   "outputs": [],
   "source": [
    "def simulate_aa_test(group_a, group_b, size=500, repeat=10000):\n",
    "    result = np.array([])\n",
    "    for _ in range(repeat):\n",
    "        subset_a = group_a.sample(size, replace=False) #Формируем подвыборку из первой группы\n",
    "        subset_b = group_b.sample(size, replace=False) #Формируем подвыборку из второй группы\n",
    "        t_stat, p_value = stats.ttest_ind(subset_a.ctr, subset_b.ctr, equal_var=False) #замеряем ttestом p_value\n",
    "        result = np.append(result, p_value) #Добавляем наш результат в распределние\n",
    "    return result"
   ]
  },
  {
   "cell_type": "code",
   "execution_count": 43,
   "id": "4fe93f1d-3fca-4cbe-8aad-b6295c42ce36",
   "metadata": {},
   "outputs": [],
   "source": [
    "p_value_distr = simulate_aa_test(df[df['exp_group'] == 2], df[df['exp_group'] == 3]) #формируем распределение"
   ]
  },
  {
   "cell_type": "code",
   "execution_count": 44,
   "id": "11165359-b8d7-44c3-a17a-d79550a05354",
   "metadata": {},
   "outputs": [
    {
     "data": {
      "image/png": "[encoded data removed]",
      "text/plain": [
       "<Figure size 864x576 with 1 Axes>"
      ]
     },
     "metadata": {},
     "output_type": "display_data"
    }
   ],
   "source": [
    "sns.set(rc={'figure.figsize':(12,8)})\n",
    "\n",
    "sns.histplot(p_value_distr,\n",
    "            bins=50) #Рисуем распределение\n",
    "plt.show()"
   ]
  },
  {
   "cell_type": "code",
   "execution_count": 47,
   "id": "7b68469c-edaa-4435-a2b5-6d4a55763f87",
   "metadata": {},
   "outputs": [
    {
     "name": "stdout",
     "output_type": "stream",
     "text": [
      "Процент p-значений <= 0.05: 4.61%\n"
     ]
    }
   ],
   "source": [
    "percent_significant = np.mean(p_value_distr <= 0.05) * 100\n",
    "print(f\"Процент p-значений <= 0.05: {percent_significant:.2f}%\")"
   ]
  },
  {
   "cell_type": "markdown",
   "id": "852a27e2-9100-4721-88e8-c6946a77242d",
   "metadata": {},
   "source": [
    "## Результат и выводы\n",
    "\n",
    "По графику распределения видно, что на 10 000 итерациях распределение p-value стремится к равномерному. Это значит, что наша система делит выборку случайно и количество выборок для каждой величины примерно одинаковое.\n",
    "\n",
    "В таком случае % p-value меньше 0.05 должен быть близок к 5%\n",
    "\n",
    "В нашем случае - это 4.61%, что подтверждает, что система сплитования работает корректно"
   ]
  },
  {
   "cell_type": "code",
   "execution_count": null,
   "id": "a21c522d-d641-4628-9d3b-e045f3d61c0b",
   "metadata": {},
   "outputs": [],
   "source": []
  },
  {
   "cell_type": "code",
   "execution_count": null,
   "id": "032a2598-ec45-42e5-9e7c-0cdc3c461f51",
   "metadata": {},
   "outputs": [],
   "source": []
  }
 ],
 "metadata": {
  "kernelspec": {
   "display_name": "Python 3 (ipykernel)",
   "language": "python",
   "name": "python3"
  },
  "language_info": {
   "codemirror_mode": {
    "name": "ipython",
    "version": 3
   },
   "file_extension": ".py",
   "mimetype": "text/x-python",
   "name": "python",
   "nbconvert_exporter": "python",
   "pygments_lexer": "ipython3",
   "version": "3.8.10"
  }
 },
 "nbformat": 4,
 "nbformat_minor": 5
}
