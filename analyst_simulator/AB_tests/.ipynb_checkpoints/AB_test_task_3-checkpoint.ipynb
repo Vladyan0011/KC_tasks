{
 "cells": [
  {
   "cell_type": "markdown",
   "id": "f89712ae-9077-4108-8cf7-008069920af6",
   "metadata": {},
   "source": [
    "# 4 урок. 3 задание.\n",
    "\n",
    "Разобранными на лекции методами список того, что можно применять к метрикам-отношениям, не ограничивается. Есть огромное количество полезных материалов на эту тему. Начнем с материалов Никиты Маршалкина. К слову, вот его интервью, там тоже много интересного. \n",
    "\n",
    "Относительно недавно (в 2018-м году) исследователи из Яндекса разработали классный метод анализа тестов над метриками-отношениями (прямо как у нас) вида  𝑥𝑦.\n",
    "\n",
    "<b>Идея метода заключается в следующем:</b>\n",
    "\n",
    "Вместо того, чтобы заталкивать в тест «поюзерные» CTR, можно сконструировать другую метрику и анализировать ее, но при этом гарантируется (в отличие от сглаженного CTR), что если тест на этой другой метрике «прокрасится» и увидит изменения, значит изменения есть и в метрике исходной (то есть в лайках на пользователя и в пользовательских CTR\n",
    "\n",
    "При этом метод сам по себе очень прост. Что это за метрика такая?\n",
    "\n",
    "- Считаем общий CTR в контрольной группе  𝐶𝑇𝑅𝑐𝑜𝑛𝑡𝑟𝑜𝑙=𝑠𝑢𝑚(𝑙𝑖𝑘𝑒𝑠)/𝑠𝑢𝑚(𝑣𝑖𝑒𝑤𝑠) \n",
    "- Посчитаем в обеих группах поюзерную метрику  𝑙𝑖𝑛𝑒𝑎𝑟𝑖𝑧𝑒𝑑_𝑙𝑖𝑘𝑒𝑠=𝑙𝑖𝑘𝑒𝑠−𝐶𝑇𝑅𝑐𝑜𝑛𝑡𝑟𝑜𝑙∗𝑣𝑖𝑒𝑤𝑠 \n",
    "- После чего сравним  t-тестом отличия в группах по метрике 𝑙𝑖𝑛𝑒𝑎𝑟𝑖𝑧𝑒𝑑_𝑙𝑖𝑘𝑒𝑠  \n",
    "\n",
    "Метод простой, гарантируется, что при приличном размере выборки (как у нас — подойдет) можно бесплатно увеличить чувствительность вашей метрики (или, по крайней мере, не сделать хуже). Как по мне, это ОЧЕНЬ круто.\n",
    "\n",
    "## Задача:\n",
    "\n",
    "1. Проанализируйте тест между группами 0 и 3 по метрике линеаризованных лайков. Видно ли отличие? Стало ли 𝑝−𝑣𝑎𝑙𝑢𝑒 меньше по сравнению с обычным CTR?\n",
    "2. Проанализируйте тест между группами 1 и 2 по метрике линеаризованных лайков. Видно ли отличие? Стало ли 𝑝−𝑣𝑎𝑙𝑢𝑒 меньше по сравнению с обычным CTR?\n",
    "3. Данные берём в том же диапазоне, в котором проводился АБ-тест.\n",
    "\n",
    "При выполнении задания важно обосновать и аргументировать ваши выводы."
   ]
  },
  {
   "cell_type": "code",
   "execution_count": 1,
   "id": "7c87e93b-5308-45a0-b3d2-8ea7ac6e8ae5",
   "metadata": {},
   "outputs": [],
   "source": [
    "import pandas as pd\n",
    "import numpy as np\n",
    "import seaborn as sns\n",
    "import pandahouse\n",
    "from scipy import stats\n",
    "from matplotlib import pyplot as plt"
   ]
  },
  {
   "cell_type": "markdown",
   "id": "701d6476-e874-4030-b6e1-c5101e87fe29",
   "metadata": {},
   "source": [
    "## Подключение к БД и подгрузка данных"
   ]
  },
  {
   "cell_type": "code",
   "execution_count": 2,
   "id": "4b24a23e-35ef-41ed-8474-c67a64affcab",
   "metadata": {},
   "outputs": [],
   "source": [
    "connection = {'host': 'https://clickhouse.lab.karpov.courses',\n",
    "'database':'simulator_20240720',\n",
    "'user':'student',\n",
    "'password':'dpo_python_2020'\n",
    "}"
   ]
  },
  {
   "cell_type": "code",
   "execution_count": 7,
   "id": "67daa887-9c53-422c-9e7b-52f50d4286bc",
   "metadata": {},
   "outputs": [],
   "source": [
    "q = '''\n",
    "SELECT exp_group, \n",
    "    user_id,\n",
    "    sum(action = 'like') as likes,\n",
    "    sum(action = 'view') as views,\n",
    "    likes/views as ctr\n",
    "FROM {db}.feed_actions\n",
    "WHERE toDate(time) between '2024-06-28' and '2024-07-04'\n",
    "GROUP BY exp_group, user_id\n",
    "'''"
   ]
  },
  {
   "cell_type": "code",
   "execution_count": 8,
   "id": "c6ac41e4-681c-4ed8-a597-57e7d092b013",
   "metadata": {},
   "outputs": [],
   "source": [
    "df = pandahouse.read_clickhouse(q, connection=connection)"
   ]
  },
  {
   "cell_type": "code",
   "execution_count": 9,
   "id": "7c0b28de-596f-42a5-b420-c67d8bb2ca91",
   "metadata": {},
   "outputs": [
    {
     "data": {
      "text/html": [
       "<div>\n",
       "<style scoped>\n",
       "    .dataframe tbody tr th:only-of-type {\n",
       "        vertical-align: middle;\n",
       "    }\n",
       "\n",
       "    .dataframe tbody tr th {\n",
       "        vertical-align: top;\n",
       "    }\n",
       "\n",
       "    .dataframe thead th {\n",
       "        text-align: right;\n",
       "    }\n",
       "</style>\n",
       "<table border=\"1\" class=\"dataframe\">\n",
       "  <thead>\n",
       "    <tr style=\"text-align: right;\">\n",
       "      <th></th>\n",
       "      <th>exp_group</th>\n",
       "      <th>user_id</th>\n",
       "      <th>likes</th>\n",
       "      <th>views</th>\n",
       "      <th>ctr</th>\n",
       "    </tr>\n",
       "  </thead>\n",
       "  <tbody>\n",
       "    <tr>\n",
       "      <th>0</th>\n",
       "      <td>3</td>\n",
       "      <td>115383</td>\n",
       "      <td>12</td>\n",
       "      <td>44</td>\n",
       "      <td>0.272727</td>\n",
       "    </tr>\n",
       "    <tr>\n",
       "      <th>1</th>\n",
       "      <td>1</td>\n",
       "      <td>18392</td>\n",
       "      <td>7</td>\n",
       "      <td>32</td>\n",
       "      <td>0.218750</td>\n",
       "    </tr>\n",
       "    <tr>\n",
       "      <th>2</th>\n",
       "      <td>3</td>\n",
       "      <td>123580</td>\n",
       "      <td>2</td>\n",
       "      <td>11</td>\n",
       "      <td>0.181818</td>\n",
       "    </tr>\n",
       "    <tr>\n",
       "      <th>3</th>\n",
       "      <td>2</td>\n",
       "      <td>131473</td>\n",
       "      <td>9</td>\n",
       "      <td>108</td>\n",
       "      <td>0.083333</td>\n",
       "    </tr>\n",
       "    <tr>\n",
       "      <th>4</th>\n",
       "      <td>4</td>\n",
       "      <td>107323</td>\n",
       "      <td>5</td>\n",
       "      <td>31</td>\n",
       "      <td>0.161290</td>\n",
       "    </tr>\n",
       "    <tr>\n",
       "      <th>5</th>\n",
       "      <td>2</td>\n",
       "      <td>32420</td>\n",
       "      <td>13</td>\n",
       "      <td>44</td>\n",
       "      <td>0.295455</td>\n",
       "    </tr>\n",
       "    <tr>\n",
       "      <th>6</th>\n",
       "      <td>2</td>\n",
       "      <td>24239</td>\n",
       "      <td>40</td>\n",
       "      <td>90</td>\n",
       "      <td>0.444444</td>\n",
       "    </tr>\n",
       "    <tr>\n",
       "      <th>7</th>\n",
       "      <td>0</td>\n",
       "      <td>30319</td>\n",
       "      <td>25</td>\n",
       "      <td>114</td>\n",
       "      <td>0.219298</td>\n",
       "    </tr>\n",
       "    <tr>\n",
       "      <th>8</th>\n",
       "      <td>1</td>\n",
       "      <td>27443</td>\n",
       "      <td>22</td>\n",
       "      <td>109</td>\n",
       "      <td>0.201835</td>\n",
       "    </tr>\n",
       "    <tr>\n",
       "      <th>9</th>\n",
       "      <td>3</td>\n",
       "      <td>118359</td>\n",
       "      <td>7</td>\n",
       "      <td>38</td>\n",
       "      <td>0.184211</td>\n",
       "    </tr>\n",
       "  </tbody>\n",
       "</table>\n",
       "</div>"
      ],
      "text/plain": [
       "   exp_group  user_id  likes  views       ctr\n",
       "0          3   115383     12     44  0.272727\n",
       "1          1    18392      7     32  0.218750\n",
       "2          3   123580      2     11  0.181818\n",
       "3          2   131473      9    108  0.083333\n",
       "4          4   107323      5     31  0.161290\n",
       "5          2    32420     13     44  0.295455\n",
       "6          2    24239     40     90  0.444444\n",
       "7          0    30319     25    114  0.219298\n",
       "8          1    27443     22    109  0.201835\n",
       "9          3   118359      7     38  0.184211"
      ]
     },
     "execution_count": 9,
     "metadata": {},
     "output_type": "execute_result"
    }
   ],
   "source": [
    "df.head(10)"
   ]
  },
  {
   "cell_type": "markdown",
   "id": "25157dfc-a102-48df-87c6-50d9df9315ca",
   "metadata": {},
   "source": [
    "### Задача 1.\n",
    "\n",
    "Проанализируйте тест между группами 0 и 3 по метрике линеаризованных лайков. Видно ли отличие? Стало ли 𝑝−𝑣𝑎𝑙𝑢𝑒 меньше по сравнению с обычным CTR?"
   ]
  },
  {
   "cell_type": "code",
   "execution_count": 37,
   "id": "35ac961c-5829-4958-bc9c-6f35b02396ff",
   "metadata": {},
   "outputs": [],
   "source": [
    "def ttest_upgrade(control, test):\n",
    "    control_ctr = control.likes.sum() / control.views.sum()\n",
    "    \n",
    "    lin_likes_c = control.likes - control_ctr*control.views\n",
    "    lin_likes_t = test.likes - control_ctr*test.views\n",
    "    \n",
    "    return stats.ttest_ind(lin_likes_c,\n",
    "                           lin_likes_t,\n",
    "                           equal_var = False)"
   ]
  },
  {
   "cell_type": "code",
   "execution_count": 38,
   "id": "8ba58627-991e-4268-9ba8-46bba64a39e2",
   "metadata": {
    "tags": []
   },
   "outputs": [
    {
     "data": {
      "text/plain": [
       "Ttest_indResult(statistic=-16.18623003293285, pvalue=1.4918137745324434e-58)"
      ]
     },
     "execution_count": 38,
     "metadata": {},
     "output_type": "execute_result"
    }
   ],
   "source": [
    "ttest_upgrade(df[df['exp_group'] == 0], df[df['exp_group'] == 3])"
   ]
  },
  {
   "cell_type": "code",
   "execution_count": 41,
   "id": "6eb3d635-f3f3-4914-b22a-076095f7af0a",
   "metadata": {},
   "outputs": [
    {
     "data": {
      "text/plain": [
       "Ttest_indResult(statistic=-13.935320516755823, pvalue=6.216047483057877e-44)"
      ]
     },
     "execution_count": 41,
     "metadata": {},
     "output_type": "execute_result"
    }
   ],
   "source": [
    "# Для сравнения выведем результаты т-теста по СТР\n",
    "stats.ttest_ind(df[df['exp_group'] == 0].ctr, df[df['exp_group'] == 3].ctr, equal_var = False)"
   ]
  },
  {
   "cell_type": "markdown",
   "id": "51342a9c-0178-49a8-9dc8-2750e80dbdaf",
   "metadata": {},
   "source": [
    "### Вывод\n",
    "Как видно из тестов, апгрейднутый тест дает p-value меньше, чем стандарный ттест по стр."
   ]
  },
  {
   "cell_type": "markdown",
   "id": "52558a58-76b9-49ba-b862-b7dc1c4be6b7",
   "metadata": {},
   "source": [
    "### Задача 2\n",
    "Проанализируйте тест между группами 1 и 2 по метрике линеаризованных лайков. Видно ли отличие? Стало ли 𝑝−𝑣𝑎𝑙𝑢𝑒 меньше по сравнению с обычным CTR?"
   ]
  },
  {
   "cell_type": "code",
   "execution_count": 42,
   "id": "9df74789-77f2-42ad-8968-1bd3f1227eea",
   "metadata": {},
   "outputs": [
    {
     "data": {
      "text/plain": [
       "Ttest_indResult(statistic=5.936377101934478, pvalue=2.9805064038668383e-09)"
      ]
     },
     "execution_count": 42,
     "metadata": {},
     "output_type": "execute_result"
    }
   ],
   "source": [
    "ttest_upgrade(df[df['exp_group'] == 1], df[df['exp_group'] == 2])"
   ]
  },
  {
   "cell_type": "code",
   "execution_count": 43,
   "id": "fe697e2a-8ff0-4a26-bfa6-d94cb90d0928",
   "metadata": {},
   "outputs": [
    {
     "data": {
      "text/plain": [
       "Ttest_indResult(statistic=0.40514919131127564, pvalue=0.685373331140751)"
      ]
     },
     "execution_count": 43,
     "metadata": {},
     "output_type": "execute_result"
    }
   ],
   "source": [
    "# Выведем значение ттеста стандартным способом\n",
    "stats.ttest_ind(df[df['exp_group'] == 1].ctr, df[df['exp_group'] == 2].ctr, equal_var = False)"
   ]
  },
  {
   "cell_type": "markdown",
   "id": "e81bb2bb-9def-4b9a-9199-371c23bb5cb3",
   "metadata": {},
   "source": [
    "### Вывод\n",
    "Результат в апгрейднутом тесте действительно изменился и более того, при стандартном замере поюзерного стр мы получили результат, подтверждающий нулевую гипотезу, а при апгрейднутом тесте результат, отклоняющий нулевую гипотезу"
   ]
  },
  {
   "cell_type": "markdown",
   "id": "1d4536d5-2b50-4253-a560-18b9adc10007",
   "metadata": {},
   "source": [
    "# Общий вывод\n",
    "\n",
    "По результатам теста можно сказать, что новый алгоритм действительно улучшает результаты тестирования, особенно, это видно по результатам второго теста (1 и 2 группы)"
   ]
  },
  {
   "cell_type": "code",
   "execution_count": null,
   "id": "7f4aa5e9-d01f-484e-b8c5-f0a217ce60f0",
   "metadata": {},
   "outputs": [],
   "source": []
  }
 ],
 "metadata": {
  "kernelspec": {
   "display_name": "Python 3 (ipykernel)",
   "language": "python",
   "name": "python3"
  },
  "language_info": {
   "codemirror_mode": {
    "name": "ipython",
    "version": 3
   },
   "file_extension": ".py",
   "mimetype": "text/x-python",
   "name": "python",
   "nbconvert_exporter": "python",
   "pygments_lexer": "ipython3",
   "version": "3.8.10"
  }
 },
 "nbformat": 4,
 "nbformat_minor": 5
}
