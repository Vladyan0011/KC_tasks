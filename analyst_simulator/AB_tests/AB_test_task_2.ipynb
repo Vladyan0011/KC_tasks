{
 "cells": [
  {
   "cell_type": "markdown",
   "id": "6a5c51f9-a8cb-401b-bed1-9063c0bce268",
   "metadata": {},
   "source": [
    "# 4 урок. 2 задание.\n",
    "\n",
    "## Задание.\n",
    "Пришло время проанализировать результаты эксперимента, который мы провели вместе с командой дата сайентистов. Эксперимент проходил с 2024-06-28 по 2024-07-04 включительно. Для эксперимента были задействованы 2 и 1 группы. \n",
    "\n",
    "В группе 2 был использован один из новых алгоритмов рекомендации постов, группа 1 использовалась в качестве контроля. \n",
    "\n",
    "Основная гипотеза заключается в том, что новый алгоритм во 2-й группе приведет к увеличению CTR. \n",
    "\n",
    "Ваша задача — проанализировать данные А/B-теста. \n",
    "\n",
    "1. Выбрать метод анализа и сравнить CTR в двух группах (мы разбирали t-тест, Пуассоновский бутстреп, тест Манна-Уитни, t-тест на сглаженном ctr (α=5) а также t-тест и тест Манна-Уитни поверх бакетного преобразования).\n",
    "2. Сравните данные этими тестами. А еще посмотрите на распределения глазами. Почему тесты сработали именно так? \n",
    "3. Опишите потенциальную ситуацию, когда такое изменение могло произойти. Тут нет идеального ответа, подумайте.\n",
    "4. Напишите рекомендацию, будем ли мы раскатывать новый алгоритм на всех новых пользователей или все-таки не стоит."
   ]
  },
  {
   "cell_type": "markdown",
   "id": "c80f5978-10b6-43d0-af47-b54698c8c62a",
   "metadata": {},
   "source": [
    "## Импорты библиотек"
   ]
  },
  {
   "cell_type": "code",
   "execution_count": 1,
   "id": "5e8ebd60-6b25-4f9d-b38b-763f829cc23f",
   "metadata": {},
   "outputs": [],
   "source": [
    "import pandas as pd\n",
    "import numpy as np\n",
    "import seaborn as sns\n",
    "import pandahouse\n",
    "from scipy import stats\n",
    "from matplotlib import pyplot as plt"
   ]
  },
  {
   "cell_type": "markdown",
   "id": "19dd50ef-10c6-4339-8116-5734d0bf25f9",
   "metadata": {},
   "source": [
    "## Подключение к БД и подгрузка данных"
   ]
  },
  {
   "cell_type": "code",
   "execution_count": 2,
   "id": "0ade5584-20c9-4eac-bda8-44ea04f78713",
   "metadata": {},
   "outputs": [],
   "source": [
    "connection = {'host': 'https://clickhouse.lab.karpov.courses',\n",
    "'database':'simulator_20240720',\n",
    "'user':'student',\n",
    "'password':'dpo_python_2020'\n",
    "}"
   ]
  },
  {
   "cell_type": "code",
   "execution_count": 3,
   "id": "88873221-cb8f-46b5-ae7c-f72788b4d497",
   "metadata": {},
   "outputs": [],
   "source": [
    "q = '''\n",
    "SELECT exp_group, \n",
    "    user_id,\n",
    "    sum(action = 'like') as likes,\n",
    "    sum(action = 'view') as views,\n",
    "    likes/views as ctr\n",
    "FROM {db}.feed_actions\n",
    "WHERE toDate(time) between '2024-06-28' and '2024-07-04'\n",
    "    and exp_group in (1,2)\n",
    "GROUP BY exp_group, user_id\n",
    "'''"
   ]
  },
  {
   "cell_type": "code",
   "execution_count": 4,
   "id": "40c9b5a9-d903-4f13-ab84-046a391b3b15",
   "metadata": {},
   "outputs": [],
   "source": [
    "df = pandahouse.read_clickhouse(q, connection=connection)"
   ]
  },
  {
   "cell_type": "code",
   "execution_count": 5,
   "id": "dc835b8b-eeba-439c-9c22-6c74c8fafa9f",
   "metadata": {},
   "outputs": [
    {
     "data": {
      "text/html": [
       "<div>\n",
       "<style scoped>\n",
       "    .dataframe tbody tr th:only-of-type {\n",
       "        vertical-align: middle;\n",
       "    }\n",
       "\n",
       "    .dataframe tbody tr th {\n",
       "        vertical-align: top;\n",
       "    }\n",
       "\n",
       "    .dataframe thead th {\n",
       "        text-align: right;\n",
       "    }\n",
       "</style>\n",
       "<table border=\"1\" class=\"dataframe\">\n",
       "  <thead>\n",
       "    <tr style=\"text-align: right;\">\n",
       "      <th></th>\n",
       "      <th>exp_group</th>\n",
       "      <th>user_id</th>\n",
       "      <th>likes</th>\n",
       "      <th>views</th>\n",
       "      <th>ctr</th>\n",
       "    </tr>\n",
       "  </thead>\n",
       "  <tbody>\n",
       "    <tr>\n",
       "      <th>0</th>\n",
       "      <td>1</td>\n",
       "      <td>109963</td>\n",
       "      <td>3</td>\n",
       "      <td>15</td>\n",
       "      <td>0.200000</td>\n",
       "    </tr>\n",
       "    <tr>\n",
       "      <th>1</th>\n",
       "      <td>1</td>\n",
       "      <td>26117</td>\n",
       "      <td>32</td>\n",
       "      <td>141</td>\n",
       "      <td>0.226950</td>\n",
       "    </tr>\n",
       "    <tr>\n",
       "      <th>2</th>\n",
       "      <td>1</td>\n",
       "      <td>138232</td>\n",
       "      <td>18</td>\n",
       "      <td>73</td>\n",
       "      <td>0.246575</td>\n",
       "    </tr>\n",
       "    <tr>\n",
       "      <th>3</th>\n",
       "      <td>1</td>\n",
       "      <td>26295</td>\n",
       "      <td>39</td>\n",
       "      <td>141</td>\n",
       "      <td>0.276596</td>\n",
       "    </tr>\n",
       "    <tr>\n",
       "      <th>4</th>\n",
       "      <td>1</td>\n",
       "      <td>18392</td>\n",
       "      <td>7</td>\n",
       "      <td>32</td>\n",
       "      <td>0.218750</td>\n",
       "    </tr>\n",
       "    <tr>\n",
       "      <th>5</th>\n",
       "      <td>2</td>\n",
       "      <td>131473</td>\n",
       "      <td>9</td>\n",
       "      <td>108</td>\n",
       "      <td>0.083333</td>\n",
       "    </tr>\n",
       "    <tr>\n",
       "      <th>6</th>\n",
       "      <td>2</td>\n",
       "      <td>23985</td>\n",
       "      <td>7</td>\n",
       "      <td>87</td>\n",
       "      <td>0.080460</td>\n",
       "    </tr>\n",
       "    <tr>\n",
       "      <th>7</th>\n",
       "      <td>2</td>\n",
       "      <td>24523</td>\n",
       "      <td>11</td>\n",
       "      <td>101</td>\n",
       "      <td>0.108911</td>\n",
       "    </tr>\n",
       "    <tr>\n",
       "      <th>8</th>\n",
       "      <td>2</td>\n",
       "      <td>32420</td>\n",
       "      <td>13</td>\n",
       "      <td>44</td>\n",
       "      <td>0.295455</td>\n",
       "    </tr>\n",
       "    <tr>\n",
       "      <th>9</th>\n",
       "      <td>2</td>\n",
       "      <td>24239</td>\n",
       "      <td>40</td>\n",
       "      <td>90</td>\n",
       "      <td>0.444444</td>\n",
       "    </tr>\n",
       "  </tbody>\n",
       "</table>\n",
       "</div>"
      ],
      "text/plain": [
       "   exp_group  user_id  likes  views       ctr\n",
       "0          1   109963      3     15  0.200000\n",
       "1          1    26117     32    141  0.226950\n",
       "2          1   138232     18     73  0.246575\n",
       "3          1    26295     39    141  0.276596\n",
       "4          1    18392      7     32  0.218750\n",
       "5          2   131473      9    108  0.083333\n",
       "6          2    23985      7     87  0.080460\n",
       "7          2    24523     11    101  0.108911\n",
       "8          2    32420     13     44  0.295455\n",
       "9          2    24239     40     90  0.444444"
      ]
     },
     "execution_count": 5,
     "metadata": {},
     "output_type": "execute_result"
    }
   ],
   "source": [
    "df.head(10)"
   ]
  },
  {
   "cell_type": "markdown",
   "id": "f3871909-8d75-44b2-aa1f-151626690558",
   "metadata": {},
   "source": [
    "## Визуальный анализ данных"
   ]
  },
  {
   "cell_type": "code",
   "execution_count": 38,
   "id": "afb8a2fd-4e7c-4350-a983-1a6bd64e769f",
   "metadata": {},
   "outputs": [
    {
     "data": {
      "text/plain": [
       "(0.216773994120072, 0.2161016893237817)"
      ]
     },
     "execution_count": 38,
     "metadata": {},
     "output_type": "execute_result"
    }
   ],
   "source": [
    "#Разибваем датафрейм на группы для удобства\n",
    "group_a = df[df['exp_group'] == 1].copy()\n",
    "group_b = df[df['exp_group'] == 2].copy()\n",
    "group_a.ctr.mean(), group_b.ctr.mean()"
   ]
  },
  {
   "cell_type": "markdown",
   "id": "92fa8878-fa5e-4cce-ac90-c52afbfcb011",
   "metadata": {},
   "source": [
    "Фактически по результатам теста ctr практически не изменился"
   ]
  },
  {
   "cell_type": "code",
   "execution_count": 16,
   "id": "26d6e433-9d35-4678-ba29-a7b5e973c3de",
   "metadata": {},
   "outputs": [
    {
     "data": {
      "image/png": "[encoded data removed]",
      "text/plain": [
       "<Figure size 864x576 with 1 Axes>"
      ]
     },
     "metadata": {},
     "output_type": "display_data"
    }
   ],
   "source": [
    "sns.set(rc={'figure.figsize':(12,8)}) # меняем размер графиков\n",
    "sns.histplot(df,\n",
    "             x='ctr',\n",
    "             hue='exp_group',\n",
    "             alpha=0.5,\n",
    "             palette = ['r', 'b']\n",
    "            )\n",
    "plt.show()"
   ]
  },
  {
   "cell_type": "markdown",
   "id": "b6c26d21-e53e-4056-9d0c-a9fc4ad7bac8",
   "metadata": {},
   "source": [
    "### Выводы\n",
    "\n",
    "Распределение в контрольной группе близко к нормальному, а вот распределение в тестовой группу совсем нет) Видно два горба.\n",
    "\n",
    "Так же стоит отметить, что \"первый горб\" между 0 и 0.2 ctr выше, чем второй, между 0.2 и  0.4\n",
    "\n",
    "Скорее в данной ситуации t-test покажет не совсем точные данные"
   ]
  },
  {
   "cell_type": "markdown",
   "id": "4c482a77-2803-44cc-a376-e2a3ab6fe5fd",
   "metadata": {},
   "source": [
    "## Тесты."
   ]
  },
  {
   "cell_type": "markdown",
   "id": "4629703d-6cf2-4104-b8a5-789ec4745c33",
   "metadata": {},
   "source": [
    "### Т-тест."
   ]
  },
  {
   "cell_type": "code",
   "execution_count": 52,
   "id": "c38495a8-2893-49df-9af2-01b07f321f43",
   "metadata": {},
   "outputs": [
    {
     "data": {
      "text/plain": [
       "Ttest_indResult(statistic=0.4051491913112757, pvalue=0.685373331140751)"
      ]
     },
     "execution_count": 52,
     "metadata": {},
     "output_type": "execute_result"
    }
   ],
   "source": [
    "stats.ttest_ind(group_a.ctr,\n",
    "                group_b.ctr,\n",
    "                equal_var=False)"
   ]
  },
  {
   "cell_type": "markdown",
   "id": "08417973-607b-48d6-a50a-5a4cfea0e6c9",
   "metadata": {},
   "source": [
    "#### Выводы\n",
    "\n",
    "p_value > 0.05, следовательно по т-тесту мы принимаем нулевую гипотезу и говорим, что разницы между контрольной и тестовой группой нет."
   ]
  },
  {
   "cell_type": "markdown",
   "id": "a8ec98f4-0157-4ec7-91a0-54c6797c2cd5",
   "metadata": {},
   "source": [
    "### Тест Манна-Уитни"
   ]
  },
  {
   "cell_type": "code",
   "execution_count": 18,
   "id": "b3006367-d4a2-4300-ab93-cdfdf0c7a2b5",
   "metadata": {},
   "outputs": [
    {
     "data": {
      "text/plain": [
       "MannwhitneyuResult(statistic=55189913.0, pvalue=4.632205841806026e-45)"
      ]
     },
     "execution_count": 18,
     "metadata": {},
     "output_type": "execute_result"
    }
   ],
   "source": [
    "stats.mannwhitneyu(group_a.ctr,\n",
    "                   group_b.ctr,\n",
    "                   alternative = 'two-sided')"
   ]
  },
  {
   "cell_type": "markdown",
   "id": "21ed9624-a804-4af7-9670-0b9252d8d462",
   "metadata": {
    "tags": []
   },
   "source": [
    "#### Выводы\n",
    "\n",
    "Тест Манна-Уитни уже показывает другие данные. Он показывает, что различия в данных есть и они стат значимые.\n",
    "\n",
    "Нулевая гипотеза звучит так P(X>Y)=P(Y>X)\n",
    "\n",
    "И если посмотреть на распределение, то действительно можно увидеть, что вероятность вытащить значение из группы а выше, чем значение из группы б."
   ]
  },
  {
   "cell_type": "markdown",
   "id": "79b470b9-d57e-4dc9-b577-e492d0ed2657",
   "metadata": {},
   "source": [
    "### Бутстреп"
   ]
  },
  {
   "cell_type": "code",
   "execution_count": 31,
   "id": "40990da7-6b96-493e-8aa1-9d72be54b764",
   "metadata": {},
   "outputs": [
    {
     "data": {
      "image/png": "[encoded data removed]",
      "text/plain": [
       "<Figure size 864x576 with 1 Axes>"
      ]
     },
     "metadata": {},
     "output_type": "display_data"
    }
   ],
   "source": [
    "def bootstrap(likes1, views1, likes2, views2, n_bootstrap=5000):\n",
    "\n",
    "    poisson_bootstraps1 = stats.poisson(1).rvs(\n",
    "            (n_bootstrap, len(likes1))).astype(np.int64)\n",
    "\n",
    "    poisson_bootstraps2 = stats.poisson(1).rvs(\n",
    "            (n_bootstrap, len(likes2))).astype(np.int64)\n",
    "    \n",
    "    globalCTR1 = (poisson_bootstraps1*likes1).sum(axis=1)/(poisson_bootstraps1*views1).sum(axis=1)\n",
    "    \n",
    "    globalCTR2 = (poisson_bootstraps2*likes2).sum(axis=1)/(poisson_bootstraps2*views2).sum(axis=1)\n",
    "\n",
    "    return globalCTR1, globalCTR2\n",
    "\n",
    "likes1 = group_a.likes.to_numpy()\n",
    "views1 = group_a.views.to_numpy()\n",
    "likes2 = group_b.likes.to_numpy()\n",
    "views2 = group_b.views.to_numpy()\n",
    "\n",
    "ctr1, ctr2 = bootstrap(likes1, views1, likes2, views2)\n",
    "\n",
    "\n",
    "sns.histplot(ctr1)\n",
    "sns.histplot(ctr2)\n",
    "plt.show()"
   ]
  },
  {
   "cell_type": "code",
   "execution_count": 24,
   "id": "58c882a9-79f7-43db-9f31-ded4cc7830fe",
   "metadata": {},
   "outputs": [
    {
     "data": {
      "text/plain": [
       "Ttest_indResult(statistic=420.9257582549862, pvalue=0.0)"
      ]
     },
     "execution_count": 24,
     "metadata": {},
     "output_type": "execute_result"
    }
   ],
   "source": [
    "stats.ttest_ind(ctr1, ctr2, equal_var=False)"
   ]
  },
  {
   "cell_type": "markdown",
   "id": "dc0f0812-2577-447a-8cd2-8e7ce8b3f12c",
   "metadata": {},
   "source": [
    "Наши распределения не имеют пересечений, поэтому ожидаемо ттест показывает pvalue = 0"
   ]
  },
  {
   "cell_type": "markdown",
   "id": "23507fb4-c44a-4a8c-abb4-6e4e3f7e3f40",
   "metadata": {},
   "source": [
    "#### Вывод\n",
    "\n",
    "Судя по распределению глобальных ctr на Пуассновском Бутстрепе, видно, что тестовая группа набирает ~21% ctr а контрольная группа 20%\n",
    "\n",
    "Так что судя по распределению новый алгоритм отрабатывает лучше"
   ]
  },
  {
   "cell_type": "markdown",
   "id": "f1946921-c85d-487b-8d27-b1af024decf3",
   "metadata": {},
   "source": [
    "## Результат\n",
    "\n",
    "В целом распределение после \n",
    "\n",
    "1) Мы проверяли результаты теста с помощью ттеста, теста Манна-Уитни и Пуассоновского Бутстрепа.\n",
    "2) Мы провели 3 теста:\n",
    "    * ttest показал, что различий в среднем ctr в двух группах нет и мы принимаем нулевую гипотезу. \n",
    "    * Тест Манна-Уитни показал стат значимость, потому что распределение в тестовой группе имеет двугорбый вид. Сдедовательно P(X>Y) != P(Y>X).\n",
    "    * И при использовании Пуассоновского бутстрапа мы получили результат, в котором распределения стр в тестовой и контрольной группе не пересекаются и видно, что стр в тестовой группе выше, чем в контрольной.\n",
    "3) Есть предположение, что алгоритм по подбору людей \"похожих\" на нашего пользователя работает не корректно и не всегда угадывает \"похожую аудиторию\", это могло бы объяснить ситуацию в которой мы либо угадали и показали человеку релевантные посты и соответственно получили результат с ctr ~0.3 и в то же время большое количетсво пользователей, которые получили не очень подходящие рекомендации и соответственно ctr опустился до 0.1\n",
    "4) Я думаю, что не стоит раскатывать новый алгоритм, так как результат слишком не предсказуем, мы не видим стабильности в работе данной рекомендательной системе + большое количество пользователей с заниженным ctr может негативно сказаться в целом на пользовании нашим приложением и вызвать отток пользователей"
   ]
  },
  {
   "cell_type": "code",
   "execution_count": null,
   "id": "fb71f8f4-2af4-436a-8773-a6b26566783a",
   "metadata": {},
   "outputs": [],
   "source": []
  }
 ],
 "metadata": {
  "kernelspec": {
   "display_name": "Python 3 (ipykernel)",
   "language": "python",
   "name": "python3"
  },
  "language_info": {
   "codemirror_mode": {
    "name": "ipython",
    "version": 3
   },
   "file_extension": ".py",
   "mimetype": "text/x-python",
   "name": "python",
   "nbconvert_exporter": "python",
   "pygments_lexer": "ipython3",
   "version": "3.8.10"
  }
 },
 "nbformat": 4,
 "nbformat_minor": 5
}
