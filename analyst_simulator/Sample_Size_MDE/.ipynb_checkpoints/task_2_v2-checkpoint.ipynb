{
 "cells": [
  {
   "cell_type": "markdown",
   "id": "5a60cdfc-e06f-4556-9d8f-0df730d1dc0f",
   "metadata": {},
   "source": [
    "# Задача\n",
    "К нам пришли наши коллеги из ML-отдела и рассказали, что планируют выкатывать новый алгоритм, рекомендующий нашим пользователям интересные посты. После обсуждений того, как он это делает, вы пришли к следующему пониманию:\n",
    "\n",
    "* Алгоритм добавляет пользователям 1-2 просмотра\n",
    "* Вероятность того, что он сработает, составляет 90%\n",
    "* Если у пользователя меньше 50 просмотров, то алгоритм не сработает\n",
    "* Вы предполагаете, что увеличение числа просмотров приведёт и к увеличению лайков на пользователя.\n",
    "\n",
    "Встаёт вопрос: сможем ли мы обнаружить различия в среднем количестве лайков на пользователя? Чтобы ответить на этот вопрос, давайте проведём симуляцию Монте-Карло!\n",
    "\n",
    "Что мы будем делать:\n",
    "\n",
    "1) Распределения, из которых мы будем симулировать просмотры и пользовательские CTR, мы построим на основе периода АА-теста (даты смотрите в прошлом уроке). Выгрузите данные запросами, которые использовались в лекции, но уберите всё, связанное с exp_group. Данные нам понадобятся целиком, а на агрегацию эта переменная всё равно не повлияет.\n",
    "2) На эксперимент нам выделили неделю. Допустим, что за эту неделю в наш сервис зайдёт столько же пользователей, сколько зашло в период АА-теста. Мы планируем разбивать пользователей на две группы в соотношении 50/50. Посчитайте, сколько пользователей в таком случае придётся на одну группу.\n",
    "3) Эффект алгоритма на просмотры мы сымитируем следующим образом: <b>group_B_views + ((1 + np.binomial(n=1, p=0.5, size=размер_выборки)) * np.binomial(n=1, p=0.9, size=размер_выборки) * (group_B_views >= 50))</b>. Внимательно изучите эту строчку кода и подумайте, как она соотносится с описанием эффекта выше.\n",
    "4) Количество симуляций задайте не меньше 20000. Если хотите ещё больше уверенности в своих результатах — можете увеличить их число, но без фанатизма. \n",
    "5) Лайки мы будем сравнивать t-тестом с поправкой Уэлча на неравные дисперсии (equal_var=False). Уровень значимости по классике поставим 0.05.\n",
    "\n",
    "В ответе укажите получившееся значение мощности в процентах до первого знака после точки. Например, если у вас получится мощность, равная 0.919, то в ответе укажите 91.9."
   ]
  },
  {
   "cell_type": "markdown",
   "id": "3ff276e6-e71a-4cde-8dab-cca43a45f354",
   "metadata": {},
   "source": [
    "## Подгружаем данные"
   ]
  },
  {
   "cell_type": "code",
   "execution_count": 1,
   "id": "fcc1f2ed-0767-402b-b754-1259a59870ff",
   "metadata": {},
   "outputs": [],
   "source": [
    "import pandas as pd\n",
    "import numpy as np\n",
    "import seaborn as sns\n",
    "import pandahouse\n",
    "from scipy import stats\n",
    "from matplotlib import pyplot as plt\n",
    "from tqdm import tqdm\n",
    "import math"
   ]
  },
  {
   "cell_type": "code",
   "execution_count": 2,
   "id": "2ef3c093-d03a-48e2-bb36-452b9cd00264",
   "metadata": {},
   "outputs": [],
   "source": [
    "connection = {'host': 'https://clickhouse.lab.karpov.courses',\n",
    "              'database':'simulator_20240720',\n",
    "              'user':'student',\n",
    "              'password':'dpo_python_2020'\n",
    "             }"
   ]
  },
  {
   "cell_type": "code",
   "execution_count": 62,
   "id": "b2126d65-a44e-4802-9830-c4995376d4b5",
   "metadata": {},
   "outputs": [],
   "source": [
    "q_views = \"\"\"\n",
    "select views, count() as users\n",
    "from (select  \n",
    "    exp_group,\n",
    "    user_id,\n",
    "    sum(action = 'view') as views\n",
    "FROM simulator_20240720.feed_actions\n",
    "WHERE toDate(time) between '2024-06-21' and '2024-06-27'\n",
    "group by exp_group, user_id\n",
    ")\n",
    "group by views\n",
    "order by users DESC\n",
    "\"\"\""
   ]
  },
  {
   "cell_type": "code",
   "execution_count": 63,
   "id": "96ec040e-bee5-4295-a2fd-2f8e16534860",
   "metadata": {},
   "outputs": [],
   "source": [
    "views_distribution = pandahouse.read_clickhouse(q_views, connection=connection)"
   ]
  },
  {
   "cell_type": "code",
   "execution_count": 64,
   "id": "677eb2c9-615f-4f67-8305-befa291d4628",
   "metadata": {},
   "outputs": [
    {
     "data": {
      "text/html": [
       "<div>\n",
       "<style scoped>\n",
       "    .dataframe tbody tr th:only-of-type {\n",
       "        vertical-align: middle;\n",
       "    }\n",
       "\n",
       "    .dataframe tbody tr th {\n",
       "        vertical-align: top;\n",
       "    }\n",
       "\n",
       "    .dataframe thead th {\n",
       "        text-align: right;\n",
       "    }\n",
       "</style>\n",
       "<table border=\"1\" class=\"dataframe\">\n",
       "  <thead>\n",
       "    <tr style=\"text-align: right;\">\n",
       "      <th></th>\n",
       "      <th>views</th>\n",
       "      <th>users</th>\n",
       "    </tr>\n",
       "  </thead>\n",
       "  <tbody>\n",
       "    <tr>\n",
       "      <th>0</th>\n",
       "      <td>16</td>\n",
       "      <td>545</td>\n",
       "    </tr>\n",
       "    <tr>\n",
       "      <th>1</th>\n",
       "      <td>15</td>\n",
       "      <td>537</td>\n",
       "    </tr>\n",
       "    <tr>\n",
       "      <th>2</th>\n",
       "      <td>14</td>\n",
       "      <td>500</td>\n",
       "    </tr>\n",
       "    <tr>\n",
       "      <th>3</th>\n",
       "      <td>35</td>\n",
       "      <td>485</td>\n",
       "    </tr>\n",
       "    <tr>\n",
       "      <th>4</th>\n",
       "      <td>30</td>\n",
       "      <td>469</td>\n",
       "    </tr>\n",
       "  </tbody>\n",
       "</table>\n",
       "</div>"
      ],
      "text/plain": [
       "   views  users\n",
       "0     16    545\n",
       "1     15    537\n",
       "2     14    500\n",
       "3     35    485\n",
       "4     30    469"
      ]
     },
     "execution_count": 64,
     "metadata": {},
     "output_type": "execute_result"
    }
   ],
   "source": [
    "views_distribution.head()"
   ]
  },
  {
   "cell_type": "code",
   "execution_count": null,
   "id": "54b99b27-af05-4401-88c0-1317a9664a0f",
   "metadata": {},
   "outputs": [],
   "source": [
    "q_ctr = \"\"\"\n",
    "select \n",
    "   floor(ctr, 2) as ctr, count() as users\n",
    "from (select toDate(time) as dt, \n",
    "    exp_group,\n",
    "    user_id,\n",
    "    sum(action = 'like')/sum(action = 'view') as ctr\n",
    "FROM simulator_20240720.feed_actions\n",
    "WHERE toDate(time) between '2024-06-21' and '2024-06-27'\n",
    "group by dt, exp_group, user_id\n",
    ")\n",
    "group by ctr\n",
    "\"\"\""
   ]
  },
  {
   "cell_type": "code",
   "execution_count": null,
   "id": "e05935c0-7f5d-42cb-8748-8bbcb9822b3b",
   "metadata": {},
   "outputs": [],
   "source": [
    "ctr_distribution = pandahouse.read_clickhouse(q_ctr, connection=connection)"
   ]
  },
  {
   "cell_type": "code",
   "execution_count": 43,
   "id": "4d1dbd07-7696-40c5-b7b2-9d9a86b222b6",
   "metadata": {},
   "outputs": [
    {
     "data": {
      "text/plain": [
       "20998"
      ]
     },
     "execution_count": 43,
     "metadata": {},
     "output_type": "execute_result"
    }
   ],
   "source": [
    "q_cnt_users = \"\"\"\n",
    "SELECT count(distinct user_id) cnt_users\n",
    "FROM simulator_20240720.feed_actions\n",
    "WHERE toDate(time) between '2024-06-21' and '2024-06-27'\n",
    "\"\"\"\n",
    "\n",
    "df_count_users = pandahouse.read_clickhouse(q_cnt_users, connection=connection)\n",
    "n_val = math.floor(df_count_users.cnt_users.loc[0]/2) # юзеров на одну группу\n",
    "n_val"
   ]
  },
  {
   "cell_type": "code",
   "execution_count": 44,
   "id": "0ddf7933-d96b-43b5-9ffa-60a24f00b972",
   "metadata": {},
   "outputs": [],
   "source": [
    "rng = np.random.default_rng()"
   ]
  },
  {
   "cell_type": "markdown",
   "id": "5431fbcf-7c7c-4a23-b31e-db83ad26976f",
   "metadata": {},
   "source": [
    "## Синтетическй АА тест"
   ]
  },
  {
   "cell_type": "markdown",
   "id": "cf822edf-2c3f-4bbf-974e-6a1e092ff675",
   "metadata": {},
   "source": [
    "### Создаем распределение для просмотров"
   ]
  },
  {
   "cell_type": "code",
   "execution_count": 65,
   "id": "73d4ba23-87aa-4c3f-80e2-3e5def1a9aab",
   "metadata": {},
   "outputs": [
    {
     "data": {
      "text/html": [
       "<div>\n",
       "<style scoped>\n",
       "    .dataframe tbody tr th:only-of-type {\n",
       "        vertical-align: middle;\n",
       "    }\n",
       "\n",
       "    .dataframe tbody tr th {\n",
       "        vertical-align: top;\n",
       "    }\n",
       "\n",
       "    .dataframe thead th {\n",
       "        text-align: right;\n",
       "    }\n",
       "</style>\n",
       "<table border=\"1\" class=\"dataframe\">\n",
       "  <thead>\n",
       "    <tr style=\"text-align: right;\">\n",
       "      <th></th>\n",
       "      <th>views</th>\n",
       "      <th>users</th>\n",
       "      <th>p</th>\n",
       "    </tr>\n",
       "  </thead>\n",
       "  <tbody>\n",
       "    <tr>\n",
       "      <th>0</th>\n",
       "      <td>16</td>\n",
       "      <td>545</td>\n",
       "      <td>0.012977</td>\n",
       "    </tr>\n",
       "    <tr>\n",
       "      <th>1</th>\n",
       "      <td>15</td>\n",
       "      <td>537</td>\n",
       "      <td>0.012787</td>\n",
       "    </tr>\n",
       "    <tr>\n",
       "      <th>2</th>\n",
       "      <td>14</td>\n",
       "      <td>500</td>\n",
       "      <td>0.011906</td>\n",
       "    </tr>\n",
       "    <tr>\n",
       "      <th>3</th>\n",
       "      <td>35</td>\n",
       "      <td>485</td>\n",
       "      <td>0.011548</td>\n",
       "    </tr>\n",
       "    <tr>\n",
       "      <th>4</th>\n",
       "      <td>30</td>\n",
       "      <td>469</td>\n",
       "      <td>0.011167</td>\n",
       "    </tr>\n",
       "    <tr>\n",
       "      <th>...</th>\n",
       "      <td>...</td>\n",
       "      <td>...</td>\n",
       "      <td>...</td>\n",
       "    </tr>\n",
       "    <tr>\n",
       "      <th>280</th>\n",
       "      <td>2</td>\n",
       "      <td>1</td>\n",
       "      <td>0.000024</td>\n",
       "    </tr>\n",
       "    <tr>\n",
       "      <th>279</th>\n",
       "      <td>285</td>\n",
       "      <td>1</td>\n",
       "      <td>0.000024</td>\n",
       "    </tr>\n",
       "    <tr>\n",
       "      <th>278</th>\n",
       "      <td>321</td>\n",
       "      <td>1</td>\n",
       "      <td>0.000024</td>\n",
       "    </tr>\n",
       "    <tr>\n",
       "      <th>277</th>\n",
       "      <td>301</td>\n",
       "      <td>1</td>\n",
       "      <td>0.000024</td>\n",
       "    </tr>\n",
       "    <tr>\n",
       "      <th>300</th>\n",
       "      <td>288</td>\n",
       "      <td>1</td>\n",
       "      <td>0.000024</td>\n",
       "    </tr>\n",
       "  </tbody>\n",
       "</table>\n",
       "<p>301 rows × 3 columns</p>\n",
       "</div>"
      ],
      "text/plain": [
       "     views  users         p\n",
       "0       16    545  0.012977\n",
       "1       15    537  0.012787\n",
       "2       14    500  0.011906\n",
       "3       35    485  0.011548\n",
       "4       30    469  0.011167\n",
       "..     ...    ...       ...\n",
       "280      2      1  0.000024\n",
       "279    285      1  0.000024\n",
       "278    321      1  0.000024\n",
       "277    301      1  0.000024\n",
       "300    288      1  0.000024\n",
       "\n",
       "[301 rows x 3 columns]"
      ]
     },
     "execution_count": 65,
     "metadata": {},
     "output_type": "execute_result"
    }
   ],
   "source": [
    "views_distribution['p'] = views_distribution.users / views_distribution.users.sum()\n",
    "views_distribution.sort_values(by='users', ascending=False)"
   ]
  },
  {
   "cell_type": "code",
   "execution_count": null,
   "id": "20598ff8-08af-4be8-bd39-6e3ffe444971",
   "metadata": {},
   "outputs": [],
   "source": [
    "views_distribution.users.sum()//2"
   ]
  },
  {
   "cell_type": "code",
   "execution_count": 67,
   "id": "558f7d83-0072-4127-ab1a-62f3b1a8d410",
   "metadata": {},
   "outputs": [
    {
     "data": {
      "text/plain": [
       "<Axes: xlabel='p', ylabel='Count'>"
      ]
     },
     "execution_count": 67,
     "metadata": {},
     "output_type": "execute_result"
    },
    {
     "data": {
      "image/png": "[encoded data removed]",
      "text/plain": [
       "<Figure size 432x288 with 1 Axes>"
      ]
     },
     "metadata": {
      "needs_background": "light"
     },
     "output_type": "display_data"
    }
   ],
   "source": [
    "sns.histplot(views_distribution['p'], bins=50)"
   ]
  },
  {
   "cell_type": "code",
   "execution_count": 68,
   "id": "df38dd54-446b-4097-9190-7efe86f2c090",
   "metadata": {},
   "outputs": [
    {
     "data": {
      "text/plain": [
       "70.30916494035289"
      ]
     },
     "execution_count": 68,
     "metadata": {},
     "output_type": "execute_result"
    }
   ],
   "source": [
    "(views_distribution.views * views_distribution.p).sum()"
   ]
  },
  {
   "cell_type": "code",
   "execution_count": 69,
   "id": "a35587c0-0efe-45dd-bdc3-35a40cb490c8",
   "metadata": {},
   "outputs": [],
   "source": [
    "def get_views(size=1000):\n",
    "    views = rng.choice(views_distribution.views,\n",
    "                       size=size,\n",
    "                       replace=True,\n",
    "                       p=views_distribution.p)\n",
    "    return views"
   ]
  },
  {
   "cell_type": "code",
   "execution_count": 70,
   "id": "870e4785-99b9-4fdd-a982-7bca42802f17",
   "metadata": {},
   "outputs": [
    {
     "data": {
      "text/plain": [
       "array([118,  39, 102,  98, 181,  63,  81,  17,  73,  14,  40,  49,  74,\n",
       "        17,  26, 147,   7, 165,  11,  77,  17, 126,  56,  62,  62,  28,\n",
       "       157,  95, 133,  74,  44,  40,  48,  32, 131,  13, 164,  74,  94,\n",
       "        30, 324,  78,  96,  46,   7,  96, 119, 151,  41,  47,  54,  43,\n",
       "        65, 113,  30,  46,  29,  52, 109,  50, 116,  78,  56,  40,  46,\n",
       "       110, 122,  88,  98,  20, 155,  89,  56, 126, 127,  33, 106, 148,\n",
       "        43,  11,  25, 229, 245, 170,  53, 108,  11, 120, 118,  65, 110,\n",
       "        18,  24, 134,  60,  71,  58, 104,  11,  65], dtype=uint64)"
      ]
     },
     "execution_count": 70,
     "metadata": {},
     "output_type": "execute_result"
    }
   ],
   "source": [
    "get_views(100)"
   ]
  },
  {
   "cell_type": "markdown",
   "id": "5ee47b73-8e7c-411f-ba66-a061bb6d1d10",
   "metadata": {},
   "source": [
    "### Создаем распределение для ctr"
   ]
  },
  {
   "cell_type": "code",
   "execution_count": 71,
   "id": "0cb5e14c-ae88-424f-8a2e-f297996ee010",
   "metadata": {},
   "outputs": [
    {
     "data": {
      "text/html": [
       "<div>\n",
       "<style scoped>\n",
       "    .dataframe tbody tr th:only-of-type {\n",
       "        vertical-align: middle;\n",
       "    }\n",
       "\n",
       "    .dataframe tbody tr th {\n",
       "        vertical-align: top;\n",
       "    }\n",
       "\n",
       "    .dataframe thead th {\n",
       "        text-align: right;\n",
       "    }\n",
       "</style>\n",
       "<table border=\"1\" class=\"dataframe\">\n",
       "  <thead>\n",
       "    <tr style=\"text-align: right;\">\n",
       "      <th></th>\n",
       "      <th>ctr</th>\n",
       "      <th>users</th>\n",
       "      <th>p</th>\n",
       "    </tr>\n",
       "  </thead>\n",
       "  <tbody>\n",
       "    <tr>\n",
       "      <th>17</th>\n",
       "      <td>0.20</td>\n",
       "      <td>4993</td>\n",
       "      <td>0.058658</td>\n",
       "    </tr>\n",
       "    <tr>\n",
       "      <th>33</th>\n",
       "      <td>0.16</td>\n",
       "      <td>4233</td>\n",
       "      <td>0.049729</td>\n",
       "    </tr>\n",
       "    <tr>\n",
       "      <th>50</th>\n",
       "      <td>0.25</td>\n",
       "      <td>4216</td>\n",
       "      <td>0.049529</td>\n",
       "    </tr>\n",
       "    <tr>\n",
       "      <th>6</th>\n",
       "      <td>0.18</td>\n",
       "      <td>4213</td>\n",
       "      <td>0.049494</td>\n",
       "    </tr>\n",
       "    <tr>\n",
       "      <th>72</th>\n",
       "      <td>0.21</td>\n",
       "      <td>3957</td>\n",
       "      <td>0.046487</td>\n",
       "    </tr>\n",
       "    <tr>\n",
       "      <th>...</th>\n",
       "      <td>...</td>\n",
       "      <td>...</td>\n",
       "      <td>...</td>\n",
       "    </tr>\n",
       "    <tr>\n",
       "      <th>27</th>\n",
       "      <td>0.69</td>\n",
       "      <td>2</td>\n",
       "      <td>0.000023</td>\n",
       "    </tr>\n",
       "    <tr>\n",
       "      <th>73</th>\n",
       "      <td>0.83</td>\n",
       "      <td>1</td>\n",
       "      <td>0.000012</td>\n",
       "    </tr>\n",
       "    <tr>\n",
       "      <th>20</th>\n",
       "      <td>0.73</td>\n",
       "      <td>1</td>\n",
       "      <td>0.000012</td>\n",
       "    </tr>\n",
       "    <tr>\n",
       "      <th>51</th>\n",
       "      <td>1.00</td>\n",
       "      <td>1</td>\n",
       "      <td>0.000012</td>\n",
       "    </tr>\n",
       "    <tr>\n",
       "      <th>39</th>\n",
       "      <td>0.88</td>\n",
       "      <td>1</td>\n",
       "      <td>0.000012</td>\n",
       "    </tr>\n",
       "  </tbody>\n",
       "</table>\n",
       "<p>80 rows × 3 columns</p>\n",
       "</div>"
      ],
      "text/plain": [
       "     ctr  users         p\n",
       "17  0.20   4993  0.058658\n",
       "33  0.16   4233  0.049729\n",
       "50  0.25   4216  0.049529\n",
       "6   0.18   4213  0.049494\n",
       "72  0.21   3957  0.046487\n",
       "..   ...    ...       ...\n",
       "27  0.69      2  0.000023\n",
       "73  0.83      1  0.000012\n",
       "20  0.73      1  0.000012\n",
       "51  1.00      1  0.000012\n",
       "39  0.88      1  0.000012\n",
       "\n",
       "[80 rows x 3 columns]"
      ]
     },
     "execution_count": 71,
     "metadata": {},
     "output_type": "execute_result"
    }
   ],
   "source": [
    "ctr_distribution['p'] = ctr_distribution.users / ctr_distribution.users.sum()\n",
    "ctr_distribution.sort_values(by='users', ascending=False)"
   ]
  },
  {
   "cell_type": "code",
   "execution_count": 72,
   "id": "69187809-d9fc-4192-a665-078129585b6c",
   "metadata": {},
   "outputs": [
    {
     "data": {
      "text/plain": [
       "0.21222988451733416"
      ]
     },
     "execution_count": 72,
     "metadata": {},
     "output_type": "execute_result"
    }
   ],
   "source": [
    "(ctr_distribution.ctr * ctr_distribution.p).sum()"
   ]
  },
  {
   "cell_type": "code",
   "execution_count": 73,
   "id": "ebd5f071-40b8-432b-a41a-42d84c9c9760",
   "metadata": {},
   "outputs": [],
   "source": [
    "def get_ctr(size):\n",
    "    ctr = rng.choice(ctr_distribution.ctr,\n",
    "                       size=size,\n",
    "                       replace=True,\n",
    "                       p=ctr_distribution.p)\n",
    "    return ctr"
   ]
  },
  {
   "cell_type": "code",
   "execution_count": 74,
   "id": "4b0a2544-fc32-4e2e-b505-2eb706fddf37",
   "metadata": {},
   "outputs": [
    {
     "data": {
      "text/plain": [
       "array([0.22, 0.27, 0.21, 0.13, 0.04, 0.3 , 0.12, 0.16, 0.16, 0.09, 0.17,\n",
       "       0.42, 0.3 , 0.16, 0.55, 0.14, 0.23, 0.25, 0.09, 0.36, 0.16, 0.25,\n",
       "       0.37, 0.08, 0.3 , 0.13, 0.18, 0.39, 0.07, 0.21, 0.2 , 0.3 , 0.23,\n",
       "       0.13, 0.27, 0.16, 0.07, 0.21, 0.12, 0.21, 0.26, 0.23, 0.08, 0.18,\n",
       "       0.15, 0.1 , 0.17, 0.29, 0.14, 0.18, 0.41, 0.25, 0.12, 0.28, 0.35,\n",
       "       0.3 , 0.22, 0.2 , 0.07, 0.13, 0.12, 0.25, 0.37, 0.3 , 0.18, 0.3 ,\n",
       "       0.18, 0.27, 0.23, 0.14, 0.14, 0.1 , 0.16, 0.13, 0.31, 0.15, 0.25,\n",
       "       0.53, 0.11, 0.12, 0.2 , 0.17, 0.22, 0.  , 0.07, 0.17, 0.2 , 0.1 ,\n",
       "       0.05, 0.05, 0.22, 0.15, 0.42, 0.25, 0.2 , 0.11, 0.22, 0.13, 0.09,\n",
       "       0.19])"
      ]
     },
     "execution_count": 74,
     "metadata": {},
     "output_type": "execute_result"
    }
   ],
   "source": [
    "get_ctr(100)"
   ]
  },
  {
   "cell_type": "markdown",
   "id": "ed141c14-6670-4cb8-8c4c-72af85b63bb2",
   "metadata": {},
   "source": [
    "## Создаем функцию для генерации теста"
   ]
  },
  {
   "cell_type": "code",
   "execution_count": 75,
   "id": "9bb0c184-6d0f-405e-863b-5be63d52a6cc",
   "metadata": {},
   "outputs": [],
   "source": [
    "def monte_carlo_test(size, n):\n",
    "    p_values = []\n",
    "    for _ in tqdm(range(n)):\n",
    "        views_a = get_views(size).astype('int32')\n",
    "        views_b = get_views(size).astype('int32')\n",
    "        views_b = (views_b +\n",
    "                  (1 + rng.binomial(n=1, p=0.5, size=size)) *\n",
    "                  rng.binomial(n=1, p=0.9, size=size) *\n",
    "                  (views_b >= 30))\n",
    "        views_b = views_b.astype('int32')\n",
    "\n",
    "        ctr_a = get_ctr(size)\n",
    "        ctr_b = get_ctr(size)\n",
    "        \n",
    "        \n",
    "        likes_a = rng.binomial(n=views_a, p=ctr_a)\n",
    "        likes_b = rng.binomial(n=views_b, p=ctr_b)\n",
    "        \n",
    "        p_value = stats.ttest_ind(likes_a, likes_b, equal_var=False).pvalue\n",
    "        p_values.append(p_value)\n",
    "    \n",
    "    return p_values"
   ]
  },
  {
   "cell_type": "code",
   "execution_count": null,
   "id": "42450e89-81ee-4f65-9a6a-6770aa2be33c",
   "metadata": {},
   "outputs": [
    {
     "name": "stderr",
     "output_type": "stream",
     "text": [
      " 97%|█████████▋| 19352/20000 [04:27<00:08, 73.94it/s]"
     ]
    }
   ],
   "source": [
    "p_values = monte_carlo_test(n_val, 20000)"
   ]
  },
  {
   "cell_type": "code",
   "execution_count": 25,
   "id": "fb6bc3f2-906a-41f6-9746-38dd60ce33fc",
   "metadata": {},
   "outputs": [
    {
     "name": "stdout",
     "output_type": "stream",
     "text": [
      "Мощность теста: 67.755\n"
     ]
    }
   ],
   "source": [
    "print(f'Мощность теста: {(np.mean(np.array(p_values) < 0.05)) * 100}')"
   ]
  },
  {
   "cell_type": "code",
   "execution_count": null,
   "id": "b8ab7e79-c461-46a4-a20e-c5b66adace40",
   "metadata": {},
   "outputs": [],
   "source": []
  },
  {
   "cell_type": "code",
   "execution_count": null,
   "id": "7a838f0d-e572-402c-acd3-58bc56a0914a",
   "metadata": {},
   "outputs": [],
   "source": []
  },
  {
   "cell_type": "code",
   "execution_count": null,
   "id": "c04dcfbd-4d74-4de5-a2e7-1a4a632b11b2",
   "metadata": {},
   "outputs": [],
   "source": []
  }
 ],
 "metadata": {
  "kernelspec": {
   "display_name": "Python 3 (ipykernel)",
   "language": "python",
   "name": "python3"
  },
  "language_info": {
   "codemirror_mode": {
    "name": "ipython",
    "version": 3
   },
   "file_extension": ".py",
   "mimetype": "text/x-python",
   "name": "python",
   "nbconvert_exporter": "python",
   "pygments_lexer": "ipython3",
   "version": "3.8.10"
  }
 },
 "nbformat": 4,
 "nbformat_minor": 5
}
